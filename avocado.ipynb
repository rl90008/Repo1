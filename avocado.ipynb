From: <Saved by Blink>
Snapshot-Content-Location: https://moodle.lakeforest.edu/pluginfile.php/608815/mod_resource/content/0/avocado.ipynb
Subject:
Date: Fri, 2 Sep 2022 21:29:35 -0000
MIME-Version: 1.0
Content-Type: multipart/related;
	type="text/html";
	boundary="----MultipartBoundary--SxoDNYtLqeTWlrJK55qV04GeraawzLcYPbHwqh1BcZ----"


------MultipartBoundary--SxoDNYtLqeTWlrJK55qV04GeraawzLcYPbHwqh1BcZ----
Content-Type: text/html
Content-ID: <frame-90FC64F181614C355DBDCDF5F216A0C9@mhtml.blink>
Content-Transfer-Encoding: quoted-printable
Content-Location: https://moodle.lakeforest.edu/pluginfile.php/608815/mod_resource/content/0/avocado.ipynb

<html><head><meta http-equiv=3D"Content-Type" content=3D"text/html; charset=
=3DUTF-8"><link rel=3D"stylesheet" type=3D"text/css" href=3D"cid:css-8b9a60=
fd-13a7-452e-8a63-e437f3f9c91c@mhtml.blink" /><link rel=3D"stylesheet" type=
=3D"text/css" href=3D"cid:css-acfac7e9-f219-49a4-a39a-5a5d62ea3307@mhtml.bl=
ink" /><link rel=3D"stylesheet" type=3D"text/css" href=3D"cid:css-1a3d1fb0-=
938e-4bdc-ba51-53088b294b3b@mhtml.blink" /><link rel=3D"stylesheet" type=3D=
"text/css" href=3D"cid:css-21acee7a-a45a-451e-8e4c-6bb005a1d42b@mhtml.blink=
" /><link rel=3D"stylesheet" type=3D"text/css" href=3D"cid:css-b01ac0f5-ad5=
f-4e90-84c6-f306e375e318@mhtml.blink" /></head><body>{
 "cells": [
  {
   "cell_type": "code",
   "execution_count": 21,
   "metadata": {},
   "outputs": [],
   "source": [
    "import numpy as np\n",
    "import pandas as pd\n",
    "import matplotlib.pyplot as plt\n",
    "import os\n",
    "import seaborn as sns\n",
    "# from collections import Counter"
   ]
  },
  {
   "cell_type": "code",
   "execution_count": 4,
   "metadata": {},
   "outputs": [
    {
     "data": {
      "text/plain": [
       "['alldata.jpg',\n",
       " 'alldata2.jpg',\n",
       " 'avocado-updated-2020.csv',\n",
       " 'avocado.csv',\n",
       " 'BRF',\n",
       " 'covid19data',\n",
       " 'Fish.csv',\n",
       " 'Lending_Club_DropNA.csv',\n",
       " 'MNIST',\n",
       " 'MNIST_Fashion',\n",
       " 'Natural Images',\n",
       " 'ramen-ratings.csv',\n",
       " 'SFO_Crime',\n",
       " 'SFO_Crime.zip',\n",
       " 'temps.csv',\n",
       " 'testdata.jpg',\n",
       " 'testdata2.jpg',\n",
       " 'testmask.jpg',\n",
       " 'testmask2.jpg',\n",
       " 'tiger',\n",
       " 'tiger.zip',\n",
       " 'titanic',\n",
       " 'traindata.jpg',\n",
       " 'traindata2.jpg',\n",
       " 'trainmask.jpg',\n",
       " 'trainmask2.jpg']"
      ]
     },
     "execution_count": 4,
     "metadata": {},
     "output_type": "execute_result"
    }
   ],
   "source": [
    "path =3D '../Data'\n",
    "os.listdir(path)"
   ]
  },
  {
   "cell_type": "code",
   "execution_count": 6,
   "metadata": {},
   "outputs": [
    {
     "data": {
      "text/html": [
       "<div>\n",
       "\n",
       "\n",
       "  \n",
       "    \n",
       "      \n",
       "      \n",
       "      \n",
       "      \n",
       "      \n",
       "      \n",
       "      \n",
       "      \n",
       "      \n",
       "      \n",
       "      \n",
       "      \n",
       "      \n",
       "      \n",
       "    \n",
       "  \n",
       "  \n",
       "    \n",
       "      \n",
       "      \n",
       "      \n",
       "      \n",
       "      \n",
       "      \n",
       "      \n",
       "      \n",
       "      \n",
       "      \n",
       "      \n",
       "      \n",
       "      \n",
       "      \n",
       "    \n",
       "    \n",
       "      \n",
       "      \n",
       "      \n",
       "      \n",
       "      \n",
       "      \n",
       "      \n",
       "      \n",
       "      \n",
       "      \n",
       "      \n",
       "      \n",
       "      \n",
       "      \n",
       "    \n",
       "    \n",
       "      \n",
       "      \n",
       "      \n",
       "      \n",
       "      \n",
       "      \n",
       "      \n",
       "      \n",
       "      \n",
       "      \n",
       "      \n",
       "      \n",
       "      \n",
       "      \n",
       "    \n",
       "    \n",
       "      \n",
       "      \n",
       "      \n",
       "      \n",
       "      \n",
       "      \n",
       "      \n",
       "      \n",
       "      \n",
       "      \n",
       "      \n",
       "      \n",
       "      \n",
       "      \n",
       "    \n",
       "    \n",
       "      \n",
       "      \n",
       "      \n",
       "      \n",
       "      \n",
       "      \n",
       "      \n",
       "      \n",
       "      \n",
       "      \n",
       "      \n",
       "      \n",
       "      \n",
       "      \n",
       "    \n",
       "    \n",
       "      \n",
       "      \n",
       "      \n",
       "      \n",
       "      \n",
       "      \n",
       "      \n",
       "      \n",
       "      \n",
       "      \n",
       "      \n",
       "      \n",
       "      \n",
       "      \n",
       "    \n",
       "    \n",
       "      \n",
       "      \n",
       "      \n",
       "      \n",
       "      \n",
       "      \n",
       "      \n",
       "      \n",
       "      \n",
       "      \n",
       "      \n",
       "      \n",
       "      \n",
       "      \n",
       "    \n",
       "    \n",
       "      \n",
       "      \n",
       "      \n",
       "      \n",
       "      \n",
       "      \n",
       "      \n",
       "      \n",
       "      \n",
       "      \n",
       "      \n",
       "      \n",
       "      \n",
       "      \n",
       "    \n",
       "    \n",
       "      \n",
       "      \n",
       "      \n",
       "      \n",
       "      \n",
       "      \n",
       "      \n",
       "      \n",
       "      \n",
       "      \n",
       "      \n",
       "      \n",
       "      \n",
       "      \n",
       "    \n",
       "    \n",
       "      \n",
       "      \n",
       "      \n",
       "      \n",
       "      \n",
       "      \n",
       "      \n",
       "      \n",
       "      \n",
       "      \n",
       "      \n",
       "      \n",
       "      \n",
       "      \n",
       "    \n",
       "  \n",
       "<table border=3D"\&quot;1\&quot;" class=3D"\&quot;dataframe\&quot;"=
><thead><tr style=3D"\&quot;text-align:" right;\"=3D""><th></th><th>date</t=
h><th>average_price</th><th>total_volume</th><th>4046</th><th>4225</th><th>=
4770</th><th>total_bags</th><th>small_bags</th><th>large_bags</th><th>xlarg=
e_bags</th><th>type</th><th>year</th><th>geography</th></tr></thead><tbody>=
<tr><th>0</th><td>2015-01-04</td><td>1.22</td><td>40873.28</td><td>2819.50<=
/td><td>28287.42</td><td>49.90</td><td>9716.46</td><td>9186.93</td><td>529.=
53</td><td>0.0</td><td>conventional</td><td>2015</td><td>Albany</td></tr><t=
r><th>1</th><td>2015-01-04</td><td>1.79</td><td>1373.95</td><td>57.42</td><=
td>153.88</td><td>0.00</td><td>1162.65</td><td>1162.65</td><td>0.00</td><td=
>0.0</td><td>organic</td><td>2015</td><td>Albany</td></tr><tr><th>2</th><td=
>2015-01-04</td><td>1.00</td><td>435021.49</td><td>364302.39</td><td>23821.=
16</td><td>82.15</td><td>46815.79</td><td>16707.15</td><td>30108.64</td><td=
>0.0</td><td>conventional</td><td>2015</td><td>Atlanta</td></tr><tr><th>3</=
th><td>2015-01-04</td><td>1.76</td><td>3846.69</td><td>1500.15</td><td>938.=
35</td><td>0.00</td><td>1408.19</td><td>1071.35</td><td>336.84</td><td>0.0<=
/td><td>organic</td><td>2015</td><td>Atlanta</td></tr><tr><th>4</th><td>201=
5-01-04</td><td>1.08</td><td>788025.06</td><td>53987.31</td><td>552906.04</=
td><td>39995.03</td><td>141136.68</td><td>137146.07</td><td>3990.61</td><td=
>0.0</td><td>conventional</td><td>2015</td><td>Baltimore/Washington</td></t=
r><tr><th>5</th><td>2015-01-04</td><td>1.29</td><td>19137.28</td><td>8040.6=
4</td><td>6557.47</td><td>657.48</td><td>3881.69</td><td>3881.69</td><td>0.=
00</td><td>0.0</td><td>organic</td><td>2015</td><td>Baltimore/Washington</t=
d></tr><tr><th>6</th><td>2015-01-04</td><td>1.01</td><td>80034.32</td><td>4=
4562.12</td><td>24964.23</td><td>2752.35</td><td>7755.62</td><td>6064.30</t=
d><td>1691.32</td><td>0.0</td><td>conventional</td><td>2015</td><td>Boise</=
td></tr><tr><th>7</th><td>2015-01-04</td><td>1.64</td><td>1505.12</td><td>1=
.27</td><td>1129.50</td><td>0.00</td><td>374.35</td><td>186.67</td><td>187.=
68</td><td>0.0</td><td>organic</td><td>2015</td><td>Boise</td></tr><tr><th>=
8</th><td>2015-01-04</td><td>1.02</td><td>491738.00</td><td>7193.87</td><td=
>396752.18</td><td>128.82</td><td>87663.13</td><td>87406.84</td><td>256.29<=
/td><td>0.0</td><td>conventional</td><td>2015</td><td>Boston</td></tr><tr><=
th>9</th><td>2015-01-04</td><td>1.83</td><td>2192.13</td><td>8.66</td><td>9=
39.43</td><td>0.00</td><td>1244.04</td><td>1244.04</td><td>0.00</td><td>0.0=
</td><td>organic</td><td>2015</td><td>Boston</td></tr></tbody></table>\n",
       "</div>"
      ],
      "text/plain": [
       "         date  average_price  total_volume       4046       4225   =
   4770  \\\n",
       "0  2015-01-04           1.22      40873.28    2819.50   28287.42   =
  49.90   \n",
       "1  2015-01-04           1.79       1373.95      57.42     153.88   =
   0.00   \n",
       "2  2015-01-04           1.00     435021.49  364302.39   23821.16   =
  82.15   \n",
       "3  2015-01-04           1.76       3846.69    1500.15     938.35   =
   0.00   \n",
       "4  2015-01-04           1.08     788025.06   53987.31  552906.04  3=
9995.03   \n",
       "5  2015-01-04           1.29      19137.28    8040.64    6557.47   =
 657.48   \n",
       "6  2015-01-04           1.01      80034.32   44562.12   24964.23   =
2752.35   \n",
       "7  2015-01-04           1.64       1505.12       1.27    1129.50   =
   0.00   \n",
       "8  2015-01-04           1.02     491738.00    7193.87  396752.18   =
 128.82   \n",
       "9  2015-01-04           1.83       2192.13       8.66     939.43   =
   0.00   \n",
       "\n",
       "   total_bags  small_bags  large_bags  xlarge_bags          type  y=
ear  \\\n",
       "0     9716.46     9186.93      529.53          0.0  conventional  2=
015   \n",
       "1     1162.65     1162.65        0.00          0.0       organic  2=
015   \n",
       "2    46815.79    16707.15    30108.64          0.0  conventional  2=
015   \n",
       "3     1408.19     1071.35      336.84          0.0       organic  2=
015   \n",
       "4   141136.68   137146.07     3990.61          0.0  conventional  2=
015   \n",
       "5     3881.69     3881.69        0.00          0.0       organic  2=
015   \n",
       "6     7755.62     6064.30     1691.32          0.0  conventional  2=
015   \n",
       "7      374.35      186.67      187.68          0.0       organic  2=
015   \n",
       "8    87663.13    87406.84      256.29          0.0  conventional  2=
015   \n",
       "9     1244.04     1244.04        0.00          0.0       organic  2=
015   \n",
       "\n",
       "              geography  \n",
       "0                Albany  \n",
       "1                Albany  \n",
       "2               Atlanta  \n",
       "3               Atlanta  \n",
       "4  Baltimore/Washington  \n",
       "5  Baltimore/Washington  \n",
       "6                 Boise  \n",
       "7                 Boise  \n",
       "8                Boston  \n",
       "9                Boston  "
      ]
     },
     "execution_count": 6,
     "metadata": {},
     "output_type": "execute_result"
    }
   ],
   "source": [
    "df =3D pd.read_csv(path + r'/avocado-updated-2020.csv')\n",
    "df.head(10)"
   ]
  },
  {
   "cell_type": "code",
   "execution_count": 7,
   "metadata": {},
   "outputs": [
    {
     "data": {
      "text/plain": [
       "(33045, 13)"
      ]
     },
     "execution_count": 7,
     "metadata": {},
     "output_type": "execute_result"
    }
   ],
   "source": [
    "df.shape"
   ]
  },
  {
   "cell_type": "code",
   "execution_count": 8,
   "metadata": {},
   "outputs": [
    {
     "data": {
      "text/html": [
       "<div>\n",
       "\n",
       "\n",
       "  \n",
       "    \n",
       "      \n",
       "      \n",
       "      \n",
       "      \n",
       "      \n",
       "      \n",
       "      \n",
       "      \n",
       "      \n",
       "      \n",
       "      \n",
       "    \n",
       "  \n",
       "  \n",
       "    \n",
       "      \n",
       "      \n",
       "      \n",
       "      \n",
       "      \n",
       "      \n",
       "      \n",
       "      \n",
       "      \n",
       "      \n",
       "      \n",
       "    \n",
       "    \n",
       "      \n",
       "      \n",
       "      \n",
       "      \n",
       "      \n",
       "      \n",
       "      \n",
       "      \n",
       "      \n",
       "      \n",
       "      \n",
       "    \n",
       "    \n",
       "      \n",
       "      \n",
       "      \n",
       "      \n",
       "      \n",
       "      \n",
       "      \n",
       "      \n",
       "      \n",
       "      \n",
       "      \n",
       "    \n",
       "    \n",
       "      \n",
       "      \n",
       "      \n",
       "      \n",
       "      \n",
       "      \n",
       "      \n",
       "      \n",
       "      \n",
       "      \n",
       "      \n",
       "    \n",
       "    \n",
       "      \n",
       "      \n",
       "      \n",
       "      \n",
       "      \n",
       "      \n",
       "      \n",
       "      \n",
       "      \n",
       "      \n",
       "      \n",
       "    \n",
       "    \n",
       "      \n",
       "      \n",
       "      \n",
       "      \n",
       "      \n",
       "      \n",
       "      \n",
       "      \n",
       "      \n",
       "      \n",
       "      \n",
       "    \n",
       "    \n",
       "      \n",
       "      \n",
       "      \n",
       "      \n",
       "      \n",
       "      \n",
       "      \n",
       "      \n",
       "      \n",
       "      \n",
       "      \n",
       "    \n",
       "    \n",
       "      \n",
       "      \n",
       "      \n",
       "      \n",
       "      \n",
       "      \n",
       "      \n",
       "      \n",
       "      \n",
       "      \n",
       "      \n",
       "    \n",
       "  \n",
       "<table border=3D"\&quot;1\&quot;" class=3D"\&quot;dataframe\&quot;"=
><thead><tr style=3D"\&quot;text-align:" right;\"=3D""><th></th><th>average=
_price</th><th>total_volume</th><th>4046</th><th>4225</th><th>4770</th><th>=
total_bags</th><th>small_bags</th><th>large_bags</th><th>xlarge_bags</th><t=
h>year</th></tr></thead><tbody><tr><th>count</th><td>33045.000000</td><td>3=
.304500e+04</td><td>3.304500e+04</td><td>3.304500e+04</td><td>3.304500e+04<=
/td><td>3.304500e+04</td><td>3.304500e+04</td><td>3.304500e+04</td><td>3.30=
4500e+04</td><td>33045.000000</td></tr><tr><th>mean</th><td>1.379941</td><t=
d>9.683997e+05</td><td>3.023914e+05</td><td>2.797693e+05</td><td>2.148255e+=
04</td><td>3.646735e+05</td><td>2.501980e+05</td><td>1.067329e+05</td><td>7=
.742585e+03</td><td>2017.460887</td></tr><tr><th>std</th><td>0.378972</td><=
td>3.934533e+06</td><td>1.301026e+06</td><td>1.151052e+06</td><td>1.001607e=
+05</td><td>1.564004e+06</td><td>1.037734e+06</td><td>5.167226e+05</td><td>=
4.819803e+04</td><td>1.699747</td></tr><tr><th>min</th><td>0.440000</td><td=
>8.456000e+01</td><td>0.000000e+00</td><td>0.000000e+00</td><td>0.000000e+0=
0</td><td>0.000000e+00</td><td>0.000000e+00</td><td>0.000000e+00</td><td>0.=
000000e+00</td><td>2015.000000</td></tr><tr><th>25%</th><td>1.100000</td><t=
d>1.511895e+04</td><td>7.673100e+02</td><td>2.712470e+03</td><td>0.000000e+=
00</td><td>9.121860e+03</td><td>6.478630e+03</td><td>4.662900e+02</td><td>0=
.000000e+00</td><td>2016.000000</td></tr><tr><th>50%</th><td>1.350000</td><=
td>1.291170e+05</td><td>1.099477e+04</td><td>2.343600e+04</td><td>1.780900e=
+02</td><td>5.322224e+04</td><td>3.687699e+04</td><td>6.375860e+03</td><td>=
0.000000e+00</td><td>2017.000000</td></tr><tr><th>75%</th><td>1.620000</td>=
<td>5.058285e+05</td><td>1.190219e+05</td><td>1.352389e+05</td><td>5.096530=
e+03</td><td>1.744314e+05</td><td>1.206624e+05</td><td>4.041723e+04</td><td=
>8.044400e+02</td><td>2019.000000</td></tr><tr><th>max</th><td>3.250000</td=
><td>6.371614e+07</td><td>2.274362e+07</td><td>2.047057e+07</td><td>2.54643=
9e+06</td><td>3.168919e+07</td><td>2.055041e+07</td><td>1.332760e+07</td><t=
d>1.403184e+06</td><td>2020.000000</td></tr></tbody></table>\n",
       "</div>"
      ],
      "text/plain": [
       "       average_price  total_volume          4046          4225     =
     4770  \\\n",
       "count   33045.000000  3.304500e+04  3.304500e+04  3.304500e+04  3.3=
04500e+04   \n",
       "mean        1.379941  9.683997e+05  3.023914e+05  2.797693e+05  2.1=
48255e+04   \n",
       "std         0.378972  3.934533e+06  1.301026e+06  1.151052e+06  1.0=
01607e+05   \n",
       "min         0.440000  8.456000e+01  0.000000e+00  0.000000e+00  0.0=
00000e+00   \n",
       "25%         1.100000  1.511895e+04  7.673100e+02  2.712470e+03  0.0=
00000e+00   \n",
       "50%         1.350000  1.291170e+05  1.099477e+04  2.343600e+04  1.7=
80900e+02   \n",
       "75%         1.620000  5.058285e+05  1.190219e+05  1.352389e+05  5.0=
96530e+03   \n",
       "max         3.250000  6.371614e+07  2.274362e+07  2.047057e+07  2.5=
46439e+06   \n",
       "\n",
       "         total_bags    small_bags    large_bags   xlarge_bags      =
    year  \n",
       "count  3.304500e+04  3.304500e+04  3.304500e+04  3.304500e+04  3304=
5.000000  \n",
       "mean   3.646735e+05  2.501980e+05  1.067329e+05  7.742585e+03   201=
7.460887  \n",
       "std    1.564004e+06  1.037734e+06  5.167226e+05  4.819803e+04      =
1.699747  \n",
       "min    0.000000e+00  0.000000e+00  0.000000e+00  0.000000e+00   201=
5.000000  \n",
       "25%    9.121860e+03  6.478630e+03  4.662900e+02  0.000000e+00   201=
6.000000  \n",
       "50%    5.322224e+04  3.687699e+04  6.375860e+03  0.000000e+00   201=
7.000000  \n",
       "75%    1.744314e+05  1.206624e+05  4.041723e+04  8.044400e+02   201=
9.000000  \n",
       "max    3.168919e+07  2.055041e+07  1.332760e+07  1.403184e+06   202=
0.000000  "
      ]
     },
     "execution_count": 8,
     "metadata": {},
     "output_type": "execute_result"
    }
   ],
   "source": [
    "df.describe()"
   ]
  },
  {
   "cell_type": "code",
   "execution_count": 9,
   "metadata": {},
   "outputs": [
    {
     "name": "stdout",
     "output_type": "stream",
     "text": [
      "<class 'pandas.core.frame.dataframe'=3D"">\n",
      "RangeIndex: 33045 entries, 0 to 33044\n",
      "Data columns (total 13 columns):\n",
      " #   Column         Non-Null Count  Dtype  \n",
      "---  ------         --------------  -----  \n",
      " 0   date           33045 non-null  object \n",
      " 1   average_price  33045 non-null  float64\n",
      " 2   total_volume   33045 non-null  float64\n",
      " 3   4046           33045 non-null  float64\n",
      " 4   4225           33045 non-null  float64\n",
      " 5   4770           33045 non-null  float64\n",
      " 6   total_bags     33045 non-null  float64\n",
      " 7   small_bags     33045 non-null  float64\n",
      " 8   large_bags     33045 non-null  float64\n",
      " 9   xlarge_bags    33045 non-null  float64\n",
      " 10  type           33045 non-null  object \n",
      " 11  year           33045 non-null  int64  \n",
      " 12  geography      33045 non-null  object \n",
      "dtypes: float64(9), int64(1), object(3)\n",
      "memory usage: 3.3+ MB\n"
     ]
    }
   ],
   "source": [
    "df.info()"
   ]
  },
  {
   "cell_type": "code",
   "execution_count": 13,
   "metadata": {
    "scrolled": true
   },
   "outputs": [
    {
     "data": {
      "text/html": [
       "<div>\n",
       "\n",
       "\n",
       "  \n",
       "    \n",
       "      \n",
       "      \n",
       "      \n",
       "      \n",
       "      \n",
       "      \n",
       "      \n",
       "      \n",
       "      \n",
       "      \n",
       "      \n",
       "      \n",
       "      \n",
       "      \n",
       "    \n",
       "  \n",
       "  \n",
       "    \n",
       "      \n",
       "      \n",
       "      \n",
       "      \n",
       "      \n",
       "      \n",
       "      \n",
       "      \n",
       "      \n",
       "      \n",
       "      \n",
       "      \n",
       "      \n",
       "      \n",
       "    \n",
       "    \n",
       "      \n",
       "      \n",
       "      \n",
       "      \n",
       "      \n",
       "      \n",
       "      \n",
       "      \n",
       "      \n",
       "      \n",
       "      \n",
       "      \n",
       "      \n",
       "      \n",
       "    \n",
       "    \n",
       "      \n",
       "      \n",
       "      \n",
       "      \n",
       "      \n",
       "      \n",
       "      \n",
       "      \n",
       "      \n",
       "      \n",
       "      \n",
       "      \n",
       "      \n",
       "      \n",
       "    \n",
       "    \n",
       "      \n",
       "      \n",
       "      \n",
       "      \n",
       "      \n",
       "      \n",
       "      \n",
       "      \n",
       "      \n",
       "      \n",
       "      \n",
       "      \n",
       "      \n",
       "      \n",
       "    \n",
       "    \n",
       "      \n",
       "      \n",
       "      \n",
       "      \n",
       "      \n",
       "      \n",
       "      \n",
       "      \n",
       "      \n",
       "      \n",
       "      \n",
       "      \n",
       "      \n",
       "      \n",
       "    \n",
       "    \n",
       "      \n",
       "      \n",
       "      \n",
       "      \n",
       "      \n",
       "      \n",
       "      \n",
       "      \n",
       "      \n",
       "      \n",
       "      \n",
       "      \n",
       "      \n",
       "      \n",
       "    \n",
       "    \n",
       "      \n",
       "      \n",
       "      \n",
       "      \n",
       "      \n",
       "      \n",
       "      \n",
       "      \n",
       "      \n",
       "      \n",
       "      \n",
       "      \n",
       "      \n",
       "      \n",
       "    \n",
       "    \n",
       "      \n",
       "      \n",
       "      \n",
       "      \n",
       "      \n",
       "      \n",
       "      \n",
       "      \n",
       "      \n",
       "      \n",
       "      \n",
       "      \n",
       "      \n",
       "      \n",
       "    \n",
       "    \n",
       "      \n",
       "      \n",
       "      \n",
       "      \n",
       "      \n",
       "      \n",
       "      \n",
       "      \n",
       "      \n",
       "      \n",
       "      \n",
       "      \n",
       "      \n",
       "      \n",
       "    \n",
       "    \n",
       "      \n",
       "      \n",
       "      \n",
       "      \n",
       "      \n",
       "      \n",
       "      \n",
       "      \n",
       "      \n",
       "      \n",
       "      \n",
       "      \n",
       "      \n",
       "      \n",
       "    \n",
       "  \n",
       "<table border=3D"\&quot;1\&quot;" class=3D"\&quot;dataframe\&quot;"=
><thead><tr style=3D"\&quot;text-align:" right;\"=3D""><th></th><th>date</t=
h><th>average_price</th><th>total_volume</th><th>4046</th><th>4225</th><th>=
4770</th><th>total_bags</th><th>small_bags</th><th>large_bags</th><th>xlarg=
e_bags</th><th>type</th><th>year</th><th>geography</th></tr></thead><tbody>=
<tr><th>11247</th><td>2017-01-01</td><td>1.15</td><td>803348.87</td><td>876=
95.70</td><td>531287.44</td><td>114647.36</td><td>69718.37</td><td>63550.62=
</td><td>1078.38</td><td>5089.37</td><td>conventional</td><td>2017</td><td>=
Chicago</td></tr><tr><th>11248</th><td>2017-01-01</td><td>1.34</td><td>3691=
5.87</td><td>36.67</td><td>34076.57</td><td>0.00</td><td>2802.63</td><td>28=
02.63</td><td>0.00</td><td>0.00</td><td>organic</td><td>2017</td><td>Chicag=
o</td></tr><tr><th>11355</th><td>2017-01-08</td><td>1.16</td><td>822522.24<=
/td><td>79629.99</td><td>499835.88</td><td>151447.25</td><td>91609.12</td><=
td>81467.82</td><td>1420.05</td><td>8721.25</td><td>conventional</td><td>20=
17</td><td>Chicago</td></tr><tr><th>11356</th><td>2017-01-08</td><td>1.81</=
td><td>28099.34</td><td>70.76</td><td>23893.31</td><td>0.00</td><td>4135.27=
</td><td>4135.27</td><td>0.00</td><td>0.00</td><td>organic</td><td>2017</td=
><td>Chicago</td></tr><tr><th>11463</th><td>2017-01-15</td><td>1.23</td><td=
>776820.81</td><td>78836.36</td><td>480071.92</td><td>142550.33</td><td>753=
62.20</td><td>67302.01</td><td>1595.12</td><td>6465.07</td><td>conventional=
</td><td>2017</td><td>Chicago</td></tr><tr><th>11464</th><td>2017-01-15</td=
><td>1.85</td><td>38542.50</td><td>78.31</td><td>34378.08</td><td>0.00</td>=
<td>4086.11</td><td>4086.11</td><td>0.00</td><td>0.00</td><td>organic</td><=
td>2017</td><td>Chicago</td></tr><tr><th>11571</th><td>2017-01-22</td><td>1=
.21</td><td>845065.66</td><td>120093.41</td><td>497235.79</td><td>136328.96=
</td><td>91407.50</td><td>83227.70</td><td>1680.17</td><td>6499.63</td><td>=
conventional</td><td>2017</td><td>Chicago</td></tr><tr><th>11572</th><td>20=
17-01-22</td><td>1.51</td><td>47561.03</td><td>52.69</td><td>43587.09</td><=
td>0.00</td><td>3921.25</td><td>3921.25</td><td>0.00</td><td>0.00</td><td>o=
rganic</td><td>2017</td><td>Chicago</td></tr><tr><th>11679</th><td>2017-01-=
29</td><td>1.10</td><td>830499.38</td><td>86213.34</td><td>511365.64</td><t=
d>135946.07</td><td>96974.33</td><td>85615.70</td><td>1691.15</td><td>9667.=
48</td><td>conventional</td><td>2017</td><td>Chicago</td></tr><tr><th>11680=
</th><td>2017-01-29</td><td>1.51</td><td>44735.40</td><td>87.33</td><td>405=
54.73</td><td>0.00</td><td>4093.34</td><td>4088.90</td><td>4.44</td><td>0.0=
0</td><td>organic</td><td>2017</td><td>Chicago</td></tr></tbody></table>\n"=
,
       "</div>"
      ],
      "text/plain": [
       "             date  average_price  total_volume       4046       422=
5  \\\n",
       "11247  2017-01-01           1.15     803348.87   87695.70  531287.4=
4   \n",
       "11248  2017-01-01           1.34      36915.87      36.67   34076.5=
7   \n",
       "11355  2017-01-08           1.16     822522.24   79629.99  499835.8=
8   \n",
       "11356  2017-01-08           1.81      28099.34      70.76   23893.3=
1   \n",
       "11463  2017-01-15           1.23     776820.81   78836.36  480071.9=
2   \n",
       "11464  2017-01-15           1.85      38542.50      78.31   34378.0=
8   \n",
       "11571  2017-01-22           1.21     845065.66  120093.41  497235.7=
9   \n",
       "11572  2017-01-22           1.51      47561.03      52.69   43587.0=
9   \n",
       "11679  2017-01-29           1.10     830499.38   86213.34  511365.6=
4   \n",
       "11680  2017-01-29           1.51      44735.40      87.33   40554.7=
3   \n",
       "\n",
       "            4770  total_bags  small_bags  large_bags  xlarge_bags  =
\\\n",
       "11247  114647.36    69718.37    63550.62     1078.38      5089.37  =
 \n",
       "11248       0.00     2802.63     2802.63        0.00         0.00  =
 \n",
       "11355  151447.25    91609.12    81467.82     1420.05      8721.25  =
 \n",
       "11356       0.00     4135.27     4135.27        0.00         0.00  =
 \n",
       "11463  142550.33    75362.20    67302.01     1595.12      6465.07  =
 \n",
       "11464       0.00     4086.11     4086.11        0.00         0.00  =
 \n",
       "11571  136328.96    91407.50    83227.70     1680.17      6499.63  =
 \n",
       "11572       0.00     3921.25     3921.25        0.00         0.00  =
 \n",
       "11679  135946.07    96974.33    85615.70     1691.15      9667.48  =
 \n",
       "11680       0.00     4093.34     4088.90        4.44         0.00  =
 \n",
       "\n",
       "               type  year geography  \n",
       "11247  conventional  2017   Chicago  \n",
       "11248       organic  2017   Chicago  \n",
       "11355  conventional  2017   Chicago  \n",
       "11356       organic  2017   Chicago  \n",
       "11463  conventional  2017   Chicago  \n",
       "11464       organic  2017   Chicago  \n",
       "11571  conventional  2017   Chicago  \n",
       "11572       organic  2017   Chicago  \n",
       "11679  conventional  2017   Chicago  \n",
       "11680       organic  2017   Chicago  "
      ]
     },
     "execution_count": 13,
     "metadata": {},
     "output_type": "execute_result"
    }
   ],
   "source": [
    "d17 =3D df[df.year=3D=3D2017]\n",
    "data =3D d17[ d17.geography=3D=3D'Chicago']\n",
    "data.head(10)"
   ]
  },
  {
   "cell_type": "code",
   "execution_count": 15,
   "metadata": {},
   "outputs": [
    {
     "data": {
      "text/plain": [
       "['Albany',\n",
       " 'Atlanta',\n",
       " 'Baltimore/Washington',\n",
       " 'Boise',\n",
       " 'Boston',\n",
       " 'Buffalo/Rochester',\n",
       " 'California',\n",
       " 'Charlotte',\n",
       " 'Chicago',\n",
       " 'Cincinnati/Dayton',\n",
       " 'Columbus',\n",
       " 'Dallas/Ft. Worth',\n",
       " 'Denver',\n",
       " 'Detroit',\n",
       " 'Grand Rapids',\n",
       " 'Great Lakes',\n",
       " 'Harrisburg/Scranton',\n",
       " 'Hartford/Springfield',\n",
       " 'Houston',\n",
       " 'Indianapolis',\n",
       " 'Jacksonville',\n",
       " 'Las Vegas',\n",
       " 'Los Angeles',\n",
       " 'Louisville',\n",
       " 'Miami/Ft. Lauderdale',\n",
       " 'Midsouth',\n",
       " 'Nashville',\n",
       " 'New Orleans/Mobile',\n",
       " 'New York',\n",
       " 'Northeast',\n",
       " 'Northern New England',\n",
       " 'Orlando',\n",
       " 'Philadelphia',\n",
       " 'Phoenix/Tucson',\n",
       " 'Pittsburgh',\n",
       " 'Plains',\n",
       " 'Portland',\n",
       " 'Raleigh/Greensboro',\n",
       " 'Richmond/Norfolk',\n",
       " 'Roanoke',\n",
       " 'Sacramento',\n",
       " 'San Diego',\n",
       " 'San Francisco',\n",
       " 'Seattle',\n",
       " 'South Carolina',\n",
       " 'South Central',\n",
       " 'Southeast',\n",
       " 'Spokane',\n",
       " 'St. Louis',\n",
       " 'Syracuse',\n",
       " 'Tampa',\n",
       " 'Total U.S.',\n",
       " 'West',\n",
       " 'West Tex/New Mexico']"
      ]
     },
     "execution_count": 15,
     "metadata": {},
     "output_type": "execute_result"
    }
   ],
   "source": [
    "region_list=3Dlist(df.geography.unique())\n",
    "region_list"
   ]
  },
  {
   "cell_type": "code",
   "execution_count": 18,
   "metadata": {},
   "outputs": [
    {
     "data": {
      "text/plain": [
       "[1.491748366013073,\n",
       " 1.3033006535947709,\n",
       " 1.4748202614379067,\n",
       " 1.4372385620915031,\n",
       " 1.5363071895424845,\n",
       " 1.3956862745098024,\n",
       " 1.4459150326797388,\n",
       " 1.5492810457516344,\n",
       " 1.5242647058823546,\n",
       " 1.2378431372549026,\n",
       " 1.2202287581699358,\n",
       " 1.0761601307189557,\n",
       " 1.2630882352941188,\n",
       " 1.2538725490196079,\n",
       " 1.446486928104574,\n",
       " 1.3105718954248364,\n",
       " 1.3858496732026147,\n",
       " 1.7607516339869276,\n",
       " 1.0757516339869277,\n",
       " 1.259607843137256,\n",
       " 1.387826797385623,\n",
       " 1.3585294117647044,\n",
       " 1.3110130718954258,\n",
       " 1.2697712418300666,\n",
       " 1.340424836601307,\n",
       " 1.3730718954248398,\n",
       " 1.2177450980392168,\n",
       " 1.2300653594771231,\n",
       " 1.6594771241830066,\n",
       " 1.5388725490196093,\n",
       " 1.4495588235294123,\n",
       " 1.3612418300653577,\n",
       " 1.5241993464052297,\n",
       " 1.2092973856209135,\n",
       " 1.3273856209150328,\n",
       " 1.3513235294117651,\n",
       " 1.4095915032679747,\n",
       " 1.544787581699347,\n",
       " 1.2487581699346404,\n",
       " 1.2338071895424845,\n",
       " 1.5846078431372537,\n",
       " 1.4561111111111118,\n",
       " 1.7599673202614365,\n",
       " 1.543937908496732,\n",
       " 1.366535947712419,\n",
       " 1.1053104575163395,\n",
       " 1.3266830065359454,\n",
       " 1.5032516339869277,\n",
       " 1.456176470588235,\n",
       " 1.4179411764705885,\n",
       " 1.2999183006535948,\n",
       " 1.3237908496732036,\n",
       " 1.323447712418303,\n",
       " 1.252972085385879]"
      ]
     },
     "execution_count": 18,
     "metadata": {},
     "output_type": "execute_result"
    }
   ],
   "source": [
    "average_price=3D[]\n",
    "\n",
    "for i in region_list:\n",
    "    x=3Ddf[df.geography=3D=3Di]\n",
    "    region_average=3Dsum(x.average_price)/len(x)\n",
    "    average_price.append(region_average)\n",
    "\n",
    "average_price"
   ]
  },
  {
   "cell_type": "code",
   "execution_count": 19,
   "metadata": {},
   "outputs": [
    {
     "data": {
      "text/html": [
       "<div>\n",
       "\n",
       "\n",
       "  \n",
       "    \n",
       "      \n",
       "      \n",
       "      \n",
       "    \n",
       "  \n",
       "  \n",
       "    \n",
       "      \n",
       "      \n",
       "      \n",
       "    \n",
       "    \n",
       "      \n",
       "      \n",
       "      \n",
       "    \n",
       "    \n",
       "      \n",
       "      \n",
       "      \n",
       "    \n",
       "    \n",
       "      \n",
       "      \n",
       "      \n",
       "    \n",
       "    \n",
       "      \n",
       "      \n",
       "      \n",
       "    \n",
       "  \n",
       "<table border=3D"\&quot;1\&quot;" class=3D"\&quot;dataframe\&quot;"=
><thead><tr style=3D"\&quot;text-align:" right;\"=3D""><th></th><th>region_=
list</th><th>average_price</th></tr></thead><tbody><tr><th>0</th><td>Albany=
</td><td>1.491748</td></tr><tr><th>1</th><td>Atlanta</td><td>1.303301</td><=
/tr><tr><th>2</th><td>Baltimore/Washington</td><td>1.474820</td></tr><tr><t=
h>3</th><td>Boise</td><td>1.437239</td></tr><tr><th>4</th><td>Boston</td><t=
d>1.536307</td></tr></tbody></table>\n",
       "</div>"
      ],
      "text/plain": [
       "            region_list  average_price\n",
       "0                Albany       1.491748\n",
       "1               Atlanta       1.303301\n",
       "2  Baltimore/Washington       1.474820\n",
       "3                 Boise       1.437239\n",
       "4                Boston       1.536307"
      ]
     },
     "execution_count": 19,
     "metadata": {},
     "output_type": "execute_result"
    }
   ],
   "source": [
    "df1=3Dpd.DataFrame({'region_list':region_list,'average_price':average_=
price})\n",
    "df1.head()"
   ]
  },
  {
   "cell_type": "code",
   "execution_count": 23,
   "metadata": {},
   "outputs": [
    {
     "data": {
      "text/plain": [
       "Text(0.5, 1.0, 'Average Price of Avocado According to Region')"
      ]
     },
     "execution_count": 23,
     "metadata": {},
     "output_type": "execute_result"
    },
    {
     "data": {
      "image/png": "iVBORw0KGgoAAAANSUhEUgAAA34AAALECAYAAABXD+KzAAAAOXRFWHR=
Tb2Z0d2FyZQBNYXRwbG90bGliIHZlcnNpb24zLjMuNCwgaHR0cHM6Ly9tYXRwbG90bGliLm9yZy=
8QVMy6AAAACXBIWXMAAAsTAAALEwEAmpwYAACruUlEQVR4nOzdZ5gsVdX28fvmAAKSVBAVPICKA=
RUUEQQMYEBQMSsgKkbEBJjxMWB8zDkhKMEACiqKioCBHAVFkvjIiyiIiihJjOB6P6zdTE2f7qrq=
7uk5c4r/77rOdabD7qqZ7q6qtffaazsiBAAAAADoruWW9g4AAAAAAKaLwA8AAAAAOo7ADwAAAAA=
6jsAPAAAAADqOwA8AAAAAOo7ADwAAAAA6jsAPANCa7f1tv22et/ly23+y/Tfbd5rPbc8F22H7Xk=
t7P+aC7W1tX1m5fZHtbZfeHs0/2z+wvfvS3g8AGBWBHwCMyPaJtq+1fbulvS+Tsv0O2/8pQdV1t=
k+3vdWw50fEnhHx7nncvxUkfVTS9hGxakT8Zcjzbl9+h2Pma9/mi+0XlODx2Ut7X/pFxP0j4sS5=
ft3yO586QfuRPtejiIgdI+LQuXgtAJhPBH4AMALbG0h6hKSQ9OQpvP7yc/2aLXw9IlaVtLakUyV=
9y7b7n2R70bzvmbSOpJUkXdTwvGdK+pek7W3fdep7Nb92l/TX8v+8WUqfxbnU+1yvJekESUcu5f=
0BgKWKwA8ARvN8SWdKOkTlQtz27cqowgN6T7K9tu1/2L5zuf0k2+dVRh82qTz3cttvsn2+pJtsL=
297X9v/z/aNti+2/bTK8xfZ/ojta2z/xvaryojQ8uXxNWx/0fYfbP/e9nvaBG0R8R9Jh0q6i6Q7=
2T7E9udsH2P7JknblfveU9mXp5Tf64ayvzuMug/l7/dx21eVfx8v991b0q/K066z/ZOa3d9d0v6=
Szpe0W3ndh9n+Y3W7tp9W/s5Dt9vid3uh7V+W9+Yy2y/r+33eUH7vq2y/qO+xNWx/yfafbf/W9l=
ttDz0X215f0qMk7SHp8bbXqTy2yPb/VD4n59q+e3ns/rZ/aPuvzjTZ/2n6nV3SOMtn8Y+SDra9c=
nnPr7V9saSH9u3f5bYfW35+h+0jyu93ozMNdPPKczez/fPy2JG2v179LFWed7/yXm7lMmI3zt+u=
JyJulvRVSevaXrvyWgM/n27+fp1o+yXl5+XKfvzW9tVl/9Yoj21Q2u1u+3fl9d7StL8AMC0EfgA=
wmucrLyK/qnIhHhH/kvQtSbtWnvdsSSdFxNW2N5N0kKSXSbqTpM9LOtqzU0V3lfRESWuWC9X/px=
xZXEPSOyV9xTMjWS+VtKOkB0naTNJT+/bxUEk3S7qXpAdL2l7SS5p+sbI/L5B0ZURcU+5+jqT3S=
lpNORpYff4Wkr4k6Q2S1pT0SEmXj7EPb5H0sPL7bCppC0lvjYj/k3T/8pw1I+LRQ/Z7saRtNfO+=
PF+SIuJMSTdJqrZ7jqTD6rbb4ne7WtKTJK0u6YWSPlbeY5Xg8PWSHidpI0mP7dvdTynf03soA7r=
nl9cY5vmSzomIb0r6pUpQW7xW+bl5QtmXF0n6u+3VJP1I0rGS7qZ8D37c9DsXd5F0R0nrK4PN/S=
Tds/x7vJpHHZ8s6WvKv9nRkj4tSbZXlHSUssPkjpIOl/S0QS8QEb+UtKekM0p675rloVH/dqps+=
/mS/iLp2nJ33eez6ftV9YLyb7uyX6v2fueKh0u6j6THSHp7CWwBYP5FBP/4xz/+8a/FP+UF3H8k=
rVVuXyLpNeXnx0q6rPLc0yQ9v/z8OUnv7nutX0l6VPn5ckkvatj2eZKeUn7+iaSXVR57rDL1dHl=
lauS/JK1ceXxXSScMed13SPq3pOuUAc1PJD2kPHaIpC/1Pf8QSe8pP39e0scGvOao+/D/JD2hcv=
vxki4vP2/Q+91q/jZvlXRe+flukm6R9OBy+z2SDio/r6YMBNdvsd2Bv9uQ7X9b0t7l54Mkvb/y2=
L3L/t9L0qLyd9m48vjLJJ1Y89q/lrRP+fnNkn7R9xl6yoA2u0r6+Rh/623LZ2GlyuOXSdqhcnsP=
ZcdA7/blkh5b+Sz9qPLYxpL+UX5+pKTfS3Ll8VN7n6UB+/kCSadWbo/0t9Psz/UtyqBv2zafT9V=
8v8rtEyW9pPz8Y0mvqDz3PspjxPKa+eyuV3n8bEm7tPlc8Y9//OPfXP9jxA8A2ttd0vExMxp2mG=
ZGQH4iaWXbW5b0vAcpRzikHD15nTPN87qSunZ3ZZDSc0V1Q7af75nU0OskPUA5V0ml3RVD2q4va=
QVJf6i0/bykO9f8XkdExJoRceeIeHREnDtsv/rcXRlI9Bt1H+4m6beV27/V7L9Nk94orCLiKkkn=
aeZ9OUzS08to5tMl/Swietuq2+6w3022d7R9ZkmjvE454jbsvam+/lqSVhywzXWHbGcbSRsqR9B=
6v8sDbT+oYR+H7rua/9Z/joh/9j1/2O8zyB8rP/9d0kolRfJukn4fEVF5vO6z1W+kv11xRORo4T=
qSLpT0kHJ/0+ez7vvVb9Dfs9cB09P/N1m15vUAYGqW9YnbADAvbK+sTN9cVOY/SdLtJK1pe9OI+=
IXtI5QjB3+S9L2IuLE87wpJ742I99Zs4tYL4hI4HqhMDTsjIm6xfZ6kXsGVP0har9L27pWfr1CO=
ZqwVmTI6qah57AplCuCg+0fZh6uUF+O9Ai6Ly32NbG+tTKl8s+3XlbtXk3R/26+PiItt/1aZuld=
N82za7sDfrQSQ31QGm9+JiP/Y/rZmvzfV92Nx5edrlKNB60u6uPL474f8eruX1z3Ps2vtPF85At=
zbxwv72l2h2WnHVU1/6/73u/f7VJ8/jj8o59i5EvzVBaj9+zHq327mhSKucc7D/Kntw9T8+az7f=
vXr/T17FitTSP/U9xoAsNQx4gcA7TxVmTK2sXI070GS7ifpFJU5ZcqgYmflPKxqgHGgpD3LaKCd=
Sw88sczFGuT2ygvfP0tZTEQ54tdzhKS9ba9re01Jb+o9EBF/kHS8pI/YXr0Un7in7UeN+4vX+KK=
kF9p+TNnOurbvO8Y+HC7prc6COGtJerukr7Tch90l/VCz35cHSFpFGexJ+V7spUw3rFZ2rNvuwN=
9NOep0O+V7c7PtHZXzw3qOkPQC2xvbXkU5R06SFBG3lMffa3u1EuC/dtDvanslZUfDHpXf60GSX=
i1ptzKK9gVJ77a9UflcbeJc5/B7ku5iex9nMZfVbG/Z4nce5AhlUH0H2+uV7Y/jDOX351XO4kVP=
Uc4vHOZPktYr8/NG+tsNEhGXSDpO0htbfD6Hfr8GOFzSa2xvaHtVSf+rrCY6F50uADCnCPwAoJ3=
dJR0cEb+LiD/2/ikLOexme/mIOEs5h+xukn7QaxgR5ygLRnxaWVziUuUcpoEi4mJJH1FeLP9J0g=
OVcwZ7DlReuJ4v6eeSjlGOMtxSHn++MkC5uGzvG5LmfImDiDhbpbiJpOuVKZa90Y9R9uE9ks5R/=
j4XSPpZua9WJTj6VPU9iYjfSPqyZtI9D1fOX/tJJU23drvDfrcyiruXMji4VjmKeHTlb/IDSR9X=
pv5eWv6verXyM3KZco7bYcp5gf2eKukfyjmW1c/bF5Xz3XZQrm94hPKzcEN5bOWyj4+TtJMyzfD=
XyuIjtb/zEO9Upi/+pmznyzXPHSoi/q1MtX2xct7dc5UB6r+GNPmJcpTxj7Z771nbv90wH5K0h7=
PSbt3ns+n7VXWQ8m9ysvJv9E+NHxwDwFR5dro9AGBZU0ad9o+I9RufDCwQts9Sfm4PXtr7UofvF=
4CuYMQPAJYxzrXVnlBS5tZVphMe1dQOWJpsP8r2XcrndndJmyiXnFhQ+H4B6CoCPwBY9liZgnet=
MhXtl8q5WsBCdh9Jv1Cmzr5O0jPLfLuFhu8XgE4i1RMAAAAAOo4RPwAAAADoOAI/AAAAAOi4Ti3=
gvtZaa8UGG2ywtHcDAAAAAJaKc88995qIWLv//k4FfhtssIHOOeecpb0bAAAAALBU2P7toPtJ9Q=
QAAACAjiPwAwAAAICOI/ADAAAAgI4j8AMAAACAjiPwAwAAAICOI/ADAAAAgI4j8AMAAACAjiPwA=
wAAAICOI/ADAAAAgI4j8AMAAACAjiPwAwAAAICOI/ADAAAAgI4j8AMAAACAjiPwAwAAAICOI/AD=
AAAAgI4j8AMAAACAjiPwAwAAAICOI/ADAAAAgI4j8AMAAACAjiPwAwAAAICOI/ADAAAAgI4j8AM=
AAACAjiPwAwAAAICOW35aL2z7IElPknR1RDxgwONvkLRbZT/uJ2ntiPir7csl3SjpFkk3R8Tm09=
pPAAAAAOi6qQV+kg6R9GlJXxr0YER8SNKHJMn2TpJeExF/rTxlu4i4Zor7N2822Pf7rZ97+fufO=
HE7AAAAAKiaWqpnRJws6a+NT0y7Sjp8WvsCAAAAALdlS32On+1VJO0g6ZuVu0PS8bbPtb3H0tkz=
AAAAAOiGaaZ6trWTpNP60jy3iYirbN9Z0g9tX1JGEJdQAsM9JGnx4sXT31sAAAAAWMYs9RE/Sbu=
oL80zIq4q/18t6ShJWwxrHBEHRMTmEbH52muvPdUdBQAAAIBl0VIN/GyvIelRkr5Tue/2tlfr/S=
xpe0kXLp09BAAAAIBl3zSXczhc0raS1rJ9paT9JK0gSRGxf3na0yQdHxE3VZquI+ko2739Oywij=
p3WfgIAAABA100t8IuIXVs85xDlsg/V+y6TtOl09goAAAAAbnsWwhw/AAAAAMAUEfgBAAAAQMcR=
+AEAAABAxxH4AQAAAEDHEfgBAAAAQMcR+AEAAABAxxH4AQAAAEDHEfgBAAAAQMcR+AEAAABAxxH=
4AQAAAEDHEfgBAAAAQMcR+AEAAABAxxH4AQAAAEDHEfgBAAAAQMcR+AEAAABAxxH4AQAAAEDHEf=
gBAAAAQMcR+AEAAABAxxH4AQAAAEDHEfgBAAAAQMcR+AEAAABAxxH4AQAAAEDHLb+0dwBzb4N9v=
9/6uZe//4lT3BMAAAAACwEjfgAAAADQcQR+AAAAANBxBH4AAAAA0HEEfgAAAADQcQR+AAAAANBx=
BH4AAAAA0HEEfgAAAADQcQR+AAAAANBxBH4AAAAA0HEEfgAAAADQcQR+AAAAANBxBH4AAAAA0HE=
EfgAAAADQcQR+AAAAANBxBH4AAAAA0HEEfgAAAADQcQR+AAAAANBxBH4AAAAA0HEEfgAAAADQcQ=
R+AAAAANBxBH4AAAAA0HHLL+0dwMKxwb7fb/3cy9//xCnuCQAAAIC5xIgfAAAAAHQcgR8AAAAAd=
ByBHwAAAAB0HIEfAAAAAHQcgR8AAAAAdByBHwAAAAB0HIEfAAAAAHQcgR8AAAAAdByBHwAAAAB0=
3PJLewew7Ntg3++P9PzL3//EKe0JAAAAgEEI/LDUEDACAAAA84PAD8scAkYAAABgNAR+uE0ZJWg=
kYAQAAEBXEPgBLRAwAgAAYFlGVU8AAAAA6DgCPwAAAADoOFI9gSkiRRQAAAALAYEfsAARMAIAAG=
AukeoJAAAAAB1H4AcAAAAAHTe1wM/2Qbavtn3hkMe3tX297fPKv7dXHtvB9q9sX2p732ntIwAAA=
ADcFkxzxO8QSTs0POeUiHhQ+fcuSbK9SNJnJO0oaWNJu9reeIr7CQAAAACdNrXALyJOlvTXMZpu=
IenSiLgsIv4t6WuSnjKnOwcAAAAAtyFLu6rnVrZ/IekqSa+PiIskrSvpispzrpS05dLYOWBZM0o=
1UImKoAAAALcVSzPw+5mk9SPib7afIOnbkjaS5AHPjWEvYnsPSXtI0uLFi6ewmwAAAACwbFtqVT=
0j4oaI+Fv5+RhJK9heSznCd/fKU9dTjggOe50DImLziNh87bXXnuo+AwAAAMCyaKmN+Nm+i6Q/R=
UTY3kIZhP5F0nWSNrK9oaTfS9pF0nOW1n4CtwWkiAIAAHTb1AI/24dL2lbSWravlLSfpBUkKSL2=
l/RMSS+3fbOkf0jaJSJC0s22XyXpOEmLJB1U5v4BAAAAAMYwtcAvInZtePzTkj495LFjJB0zjf0=
CAAAAgNuapTbHDwAAAAAwPwj8AAAAAKDjlvY6fgCWYRSFAQAAWDYw4gcAAAAAHUfgBwAAAAAdR+=
AHAAAAAB1H4AcAAAAAHUfgBwAAAAAdR1VPAEvFKBVBq9VAx20HAABwW0bgB+A2gYARAADclhH4A=
UANAkYAANAFBH4AMAUsbg8AABYSirsAAAAAQMcx4gcACwgjhQAAYBoY8QMAAACAjiPwAwAAAICO=
I/ADAAAAgI4j8AMAAACAjiPwAwAAAICOo6onAHQA1UABAEAdRvwAAAAAoOMY8QOA27hRRgsZKQQ=
AYNnEiB8AAAAAdByBHwAAAAB0HIEfAAAAAHQcc/wAAGNhbiAAAMsORvwAAAAAoOMI/AAAAACg40=
j1BADMq3FTREktBQBgfIz4AQAAAEDHEfgBAAAAQMcR+AEAAABAxzHHDwDQaaPMDZSYHwgA6CZG/=
AAAAACg4xjxAwBgAEYKAQBdQuAHAMAcImAEACxEBH4AACwQrFUIAJgW5vgBAAAAQMcx4gcAwDKO=
kUIAQBNG/AAAAACg4wj8AAAAAKDjCPwAAAAAoOOY4wcAwG0UcwMB4LaDET8AAAAA6DgCPwAAAAD=
oOFI9AQDASEgRBYBlD4EfAACYF6MEjNJM0DhuOwDADAI/AADQSQSMADCDOX4AAAAA0HEEfgAAAA=
DQcaR6AgAA9Bm3gA2FbwAsVIz4AQAAAEDHMeIHAACwlDFSCGDaCPwAAACWUQSMANoi1RMAAAAAO=
o7ADwAAAAA6jsAPAAAAADqOwA8AAAAAOo7ADwAAAAA6jsAPAAAAADqOwA8AAAAAOo7ADwAAAAA6=
jgXcAQAAbmNGWfhdYvF3oAsY8QMAAACAjpvaiJ/tgyQ9SdLVEfGAAY/vJulN5ebfJL08In5RHrt=
c0o2SbpF0c0RsPq39BAAAQDuMFALLrmmmeh4i6dOSvjTk8d9IelREXGt7R0kHSNqy8vh2EXHNFP=
cPAAAA84CAEVj6phb4RcTJtjeoefz0ys0zJa03rX0BAAAAgNuyhVLc5cWSflC5HZKOtx2SPh8RB=
yyd3QIAAMDSNMpoYXWkcNx2QFct9cDP9nbKwO/hlbu3iYirbN9Z0g9tXxIRJw9pv4ekPSRp8eLF=
U99fAAAAAFjWLNXAz/Ymkr4gaceI+Evv/oi4qvx/te2jJG0haWDgV0YDD5CkzTffPKa+0wAAAOg=
sRgrRVUttOQfbiyV9S9LzIuL/Kvff3vZqvZ8lbS/pwqWzlwAAAACw7Jvmcg6HS9pW0lq2r5S0n6=
QVJCki9pf0dkl3kvRZ29LMsg3rSDqq3Le8pMMi4thp7ScAAAAAdN00q3ru2vD4SyS9ZMD9l0nad=
Fr7BQAAAMw1UkSx0C314i4AAADAbRVrHGK+EPgBAAAAyxgCRoxqqRV3AQAAAADMDwI/AAAAAOg4=
Uj0BAACA2whSRG+7CPwAAAAANKJy6bKNVE8AAAAA6DhG/AAAAABMDSOFCwMjfgAAAADQcQR+AAA=
AANBxBH4AAAAA0HEEfgAAAADQcQR+AAAAANBxBH4AAAAA0HEEfgAAAADQcQR+AAAAANBxBH4AAA=
AA0HEEfgAAAADQcQR+AAAAANBxBH4AAAAA0HEEfgAAAADQcQR+AAAAANBxBH4AAAAA0HEEfgAAA=
ADQcQR+AAAAANBxBH4AAAAA0HEEfgAAAADQcQR+AAAAANBxBH4AAAAA0HEEfgAAAADQcQR+AAAA=
ANBxBH4AAAAA0HEEfgAAAADQcQR+AAAAANBxBH4AAAAA0HEEfgAAAADQcQR+AAAAANBxBH4AAAA=
A0HHLL+0dAAAAAIB+G+z7/dbPvfz9T5zinnQDI34AAAAA0HEEfgAAAADQcQR+AAAAANBxBH4AAA=
AA0HEEfgAAAADQcQR+AAAAANBxBH4AAAAA0HGs4wcAAACgM8Zd/2+Udv1tlwWM+AEAAABAxxH4A=
QAAAEDHEfgBAAAAQMcR+AEAAABAxxH4AQAAAEDHEfgBAAAAQMcR+AEAAABAxxH4AQAAAEDHEfgB=
AAAAQMcR+AEAAABAx7UO/Gzffpo7AgAAAACYjsbAz/bWti+W9Mtye1Pbn536ngEAAAAA5kSbEb+=
PSXq8pL9IUkT8QtIjp7lTAAAAAIC50yrVMyKu6LvrlinsCwAAAABgCpZv8ZwrbG8tKWyvKGkvlb=
RPAAAAAMDC12bEb09Jr5S0rqQrJT2o3AYAAAAALAMaR/wi4hpJu83DvgAAAAAApqBNVc9Dba9Zu=
X0H2wdNda8AAAAAAHOmTarnJhFxXe9GRFwr6cFNjWwfZPtq2xcOedy2P2n7Utvn296s8tgOtn9V=
Htu3xT4CAAAAAIZoE/gtZ/sOvRu276h2RWEOkbRDzeM7Stqo/NtD0ufK6y+S9Jny+MaSdrW9cYv=
tAQAAAAAGaBPAfUTS6ba/UW4/S9J7mxpFxMm2N6h5ylMkfSkiQtKZtte0fVdJG0i6NCIukyTbXy=
vPvbjFvgIAAAAA+rQp7vIl2+dIerQkS3p6RMxFELaupOr6gFeW+wbdv+UcbA8AAAAAbpOGBn62V=
4+IG0pq5x8lHVZ57I4R8dcJt+0B90XN/cP2cw9lqqgWL1484S4BAAAAQPfUjfgdJulJks7V7MDL=
5fY9Jtz2lZLuXrm9nqSrJK045P6BIuIASQdI0uabbz40QAQAAACA26qhgV9EPMm2JT0qIn43hW0=
fLelVZQ7flpKuj4g/2P6zpI1sbyjp95J2kfScKWwfAAAAAG4Tauf4RUTYPkrSQ0Z9YduHS9pW0l=
q2r5S0n6QVyuvuL+kYSU+QdKmkv0t6YXnsZtuvknScpEWSDoqIi0bdPgAAAAAgtanqeabth0bET=
0d54YjYteHxkPTKIY8dowwMAQAAAAATahP4bSdpT9uXS7pJZY5fRGwyzR0DAAAAAMyNNoHfjlPf=
CwAAAADA1NQt53BnSf8j6V6SLpD0voi4Yb52DAAAAAAwN5areexLytTOT0laVdIn52WPAAAAAAB=
zqi7V8y4R8Zby83G2fzYfOwQAAAAAmFt1gZ9t30FZzEWSFlVvR8Rfp71zAAAAAIDJ1QV+a0g6Vz=
OBnyT1Rv1C0j2mtVMAAAAAgLkzNPCLiA3mcT8AAAAAAFNSV9wFAAAAANABBH4AAAAA0HEEfgAAA=
ADQca0CP9sPt/3C8vPatjec7m4BAAAAAOZKY+Bnez9Jb5L05nLXCpK+Ms2dAgAAAADMnTYjfk+T=
9GRJN0lSRFwlabVp7hQAAAAAYO60Cfz+HRGhXLtPtm8/3V0CAAAAAMylNoHfEbY/L2lN2y+V9CN=
JB053twAAAAAAc2XoAu49EfFh24+TdIOk+0h6e0T8cOp7BgAAAACYE42BnySVQI9gDwAAAACWQY=
2Bn+0bVeb3VVwv6RxJr4uIy6axYwAAAACAudFmxO+jkq6SdJgkS9pF0l0k/UrSQZK2ndbOAQAAA=
AAm16a4yw4R8fmIuDEiboiIAyQ9ISK+LukOU94/AAAAAMCE2gR+/7X9bNvLlX/PrjzWnwIKAAAA=
AFhg2gR+u0l6nqSrJf2p/Pxc2ytLetUU9w0AAAAAMAfaLOdwmaSdhjx86tzuDgAAAABgrrWp6rm=
SpBdLur+klXr3R8SLprhfAAAAAIA50ibV88vKKp6Pl3SSpPUk3TjNnQIAAAAAzJ02gd+9IuJtkm=
6KiEMlPVHSA6e7WwAAAACAudIm8PtP+f862w+QtIakDaa2RwAAAACAOdVmAfcDbN9B0lslHS1pV=
Ulvm+peAQAAAADmTG3gZ3s5STdExLWSTpZ0j3nZKwAAAADAnKlN9YyI/4q1+gAAAABgmdZmjt8P=
bb/e9t1t37H3b+p7BgAAAACYE23m+PXW63tl5b4QaZ8AAAAAsExoDPwiYsP52BEAAAAAwHQ0pnr=
aXsX2W20fUG5vZPtJ0981AAAAAMBcaDPH72BJ/5a0dbl9paT3TG2PAAAAAABzqk3gd8+I+KDKQu=
4R8Q9JnupeAQAAAADmTJvA79+2V1YWdJHte0r611T3CgAAAAAwZ9pU9XyHpGMl3d32VyVtI+kFU=
9wnAAAAAMAcalPV83jb50p6mDLFc++IuGbqewYAAAAAmBONgZ/toyUdLunoiLhp+rsEAAAAAJhL=
beb4fUTSIyRdbPtI28+0vdKU9wsAAAAAMEfapHqeJOkk24skPVrSSyUdJGn1Ke8bAAAAAGAOtCn=
uolLVcydJO0vaTNKh09wpAAAAAMDcaTPH7+uStlRW9vyMpBMj4r/T3jEAAAAAwNxoM+J3sKTnRM=
QtkmR7G9vPiYhXTnfXAAAAAABzoc0cv2NtP8j2rspUz99I+tbU9wwAAAAAMCeGBn627y1pF0m7S=
vqLpK9LckRsN0/7BgAAAACYA3UjfpdIOkXSThFxqSTZfs287BUAAAAAYM7UreP3DEl/lHSC7QNt=
P0aS52e3AAAAAABzZWjgFxFHRcTOku4r6URJr5G0ju3P2d5+nvYPAAAAADChuhE/SVJE3BQRX42=
IJ0laT9J5kvad9o4BAAAAAOZGY+BXFRF/jYjPR8Sjp7VDAAAAAIC5NVLgBwAAAABY9hD4AQAAAE=
DHEfgBAAAAQMcR+AEAAABAxxH4AQAAAEDHEfgBAAAAQMcR+AEAAABAxxH4AQAAAEDHEfgBAAAAQ=
McR+AEAAABAxxH4AQAAAEDHTTXws72D7V/ZvtT2vgMef4Pt88q/C23fYvuO5bHLbV9QHjtnmvsJ=
AAAAAF22/LRe2PYiSZ+R9DhJV0r6qe2jI+Li3nMi4kOSPlSev5Ok10TEXysvs11EXDOtfQQAAAC=
A24JpjvhtIenSiLgsIv4t6WuSnlLz/F0lHT7F/QEAAACA26RpBn7rSrqicvvKct8SbK8iaQdJ36=
zcHZKOt32u7T2mtpcAAAAA0HFTS/WU5AH3xZDn7iTptL40z20i4irbd5b0Q9uXRMTJS2wkg8I9J=
Gnx4sWT7jMAAAAAdM40R/yulHT3yu31JF015Lm7qC/NMyKuKv9fLekoZeroEiLigIjYPCI2X3vt=
tSfeaQAAAADommkGfj+VtJHtDW2vqAzuju5/ku01JD1K0ncq993e9mq9nyVtL+nCKe4rAAAAAHT=
W1FI9I+Jm26+SdJykRZIOioiLbO9ZHt+/PPVpko6PiJsqzdeRdJTt3j4eFhHHTmtfAQAAAKDLpj=
nHTxFxjKRj+u7bv+/2IZIO6bvvMkmbTnPfAAAAAOC2YqoLuAMAAAAAlj4CPwAAAADoOAI/AAAAA=
Og4Aj8AAAAA6DgCPwAAAADoOAI/AAAAAOg4Aj8AAAAA6DgCPwAAAADoOAI/AAAAAOg4Aj8AAAAA=
6DgCPwAAAADoOAI/AAAAAOg4Aj8AAAAA6DgCPwAAAADoOAI/AAAAAOg4Aj8AAAAA6DgCPwAAAAD=
oOAI/AAAAAOg4Aj8AAAAA6DgCPwAAAADoOAI/AAAAAOg4Aj8AAAAA6DgCPwAAAADoOAI/AAAAAO=
g4Aj8AAAAA6DgCPwAAAADoOAI/AAAAAOg4Aj8AAAAA6DgCPwAAAADoOAI/AAAAAOg4Aj8AAAAA6=
DgCPwAAAADoOAI/AAAAAOg4Aj8AAAAA6DgCPwAAAADoOAI/AAAAAOg4Aj8AAAAA6DgCPwAAAADo=
OAI/AAAAAOg4Aj8AAAAA6DgCPwAAAADoOAI/AAAAAOg4Aj8AAAAA6DgCPwAAAADoOAI/AAAAAOg=
4Aj8AAAAA6DgCPwAAAADoOAI/AAAAAOg4Aj8AAAAA6DgCPwAAAADoOAI/AAAAAOg4Aj8AAAAA6D=
gCPwAAAADoOAI/AAAAAOg4Aj8AAAAA6DgCPwAAAADoOAI/AAAAAOg4Aj8AAAAA6DgCPwAAAADoO=
AI/AAAAAOg4Aj8AAAAA6DgCPwAAAADoOAI/AAAAAOg4Aj8AAAAA6DgCPwAAAADouKkGfrZ3sP0r=
25fa3nfA49vavt72eeXf29u2BQAAAAC0s/y0Xtj2IkmfkfQ4SVdK+qntoyPi4r6nnhIRTxqzLQA=
AAACgwTRH/LaQdGlEXBYR/5b0NUlPmYe2AAAAAICKaQZ+60q6onL7ynJfv61s/8L2D2zff8S2AA=
AAAIAGU0v1lOQB90Xf7Z9JWj8i/mb7CZK+LWmjlm1zI/YekvaQpMWLF4+9swAAAADQVdMc8btS0=
t0rt9eTdFX1CRFxQ0T8rfx8jKQVbK/Vpm3lNQ6IiM0jYvO11157LvcfAAAAADphmoHfTyVtZHtD=
2ytK2kXS0dUn2L6LbZeftyj785c2bQEAAAAA7Uwt1TMibrb9KknHSVok6aCIuMj2nuXx/SU9U9L=
Lbd8s6R+SdomIkDSw7bT2FQAAAAC6bJpz/Hrpm8f03bd/5edPS/p027YAAAAAgNFNdQF3AAAAAM=
DSR+AHAAAAAB1H4AcAAAAAHUfgBwAAAAAdR+AHAAAAAB1H4AcAAAAAHUfgBwAAAAAdR+AHAAAAA=
B1H4AcAAAAAHUfgBwAAAAAdR+AHAAAAAB1H4AcAAAAAHUfgBwAAAAAdR+AHAAAAAB1H4AcAAAAA=
HUfgBwAAAAAdR+AHAAAAAB1H4AcAAAAAHUfgBwAAAAAdR+AHAAAAAB1H4AcAAAAAHUfgBwAAAAA=
dR+AHAAAAAB1H4AcAAAAAHUfgBwAAAAAdR+AHAAAAAB1H4AcAAAAAHUfgBwAAAAAdR+AHAAAAAB=
1H4AcAAAAAHUfgBwAAAAAdR+AHAAAAAB1H4AcAAAAAHUfgBwAAAAAdR+AHAAAAAB1H4AcAAAAAH=
UfgBwAAAAAdR+AHAAAAAB1H4AcAAAAAHUfgBwAAAAAdR+AHAAAAAB1H4AcAAAAAHUfgBwAAAAAd=
R+AHAAAAAB1H4AcAAAAAHUfgBwAAAAAdR+AHAAAAAB1H4AcAAAAAHUfgBwAAAAAdR+AHAAAAAB1=
H4AcAAAAAHUfgBwAAAAAdR+AHAAAAAB1H4AcAAAAAHUfgBwAAAAAdR+AHAAAAAB1H4AcAAAAAHU=
fgBwAAAAAdR+AHAAAAAB1H4AcAAAAAHUfgBwAAAAAdR+AHAAAAAB1H4AcAAAAAHUfgBwAAAAAdN=
9XAz/YOtn9l+1Lb+w54fDfb55d/p9vetPLY5bYvsH2e7XOmuZ8AAAAA0GXLT+uFbS+S9BlJj5N0=
paSf2j46Ii6uPO03kh4VEdfa3lHSAZK2rDy+XURcM619BAAAAIDbgmmO+G0h6dKIuCwi/i3pa5K=
eUn1CRJweEdeWm2dKWm+K+wMAAAAAt0nTDPzWlXRF5faV5b5hXizpB5XbIel42+fa3mMK+wcAAA=
AAtwlTS/WU5AH3xcAn2tspA7+HV+7eJiKusn1nST+0fUlEnDyg7R6S9pCkxYsXT77XAAAAANAx0=
xzxu1LS3Su315N0Vf+TbG8i6QuSnhIRf+ndHxFXlf+vlnSUMnV0CRFxQERsHhGbr7322nO4+wAA=
AADQDdMM/H4qaSPbG9peUdIuko6uPsH2YknfkvS8iPi/yv23t71a72dJ20u6cIr7CgAAAACdNbV=
Uz4i42farJB0naZGkgyLiItt7lsf3l/R2SXeS9FnbknRzRGwuaR1JR5X7lpd0WEQcO619BQAAAI=
Aum+YcP0XEMZKO6btv/8rPL5H0kgHtLpO0af/9AAAAAIDRTXUBdwAAAADA0kfgBwAAAAAdR+AHA=
AAAAB1H4AcAAAAAHUfgBwAAAAAdR+AHAAAAAB1H4AcAAAAAHUfgBwAAAAAdR+AHAAAAAB1H4AcA=
AAAAHUfgBwAAAAAdR+AHAAAAAB1H4AcAAAAAHUfgBwAAAAAdR+AHAAAAAB1H4AcAAAAAHUfgBwA=
AAAAdR+AHAAAAAB1H4AcAAAAAHUfgBwAAAAAdR+AHAAAAAB1H4AcAAAAAHUfgBwAAAAAdR+AHAA=
AAAB1H4AcAAAAAHUfgBwAAAAAdR+AHAAAAAB1H4AcAAAAAHUfgBwAAAAAdR+AHAAAAAB1H4AcAA=
AAAHUfgBwAAAAAdR+AHAAAAAB1H4AcAAAAAHUfgBwAAAAAdR+AHAAAAAB1H4AcAAAAAHUfgBwAA=
AAAdR+AHAAAAAB1H4AcAAAAAHUfgBwAAAAAdR+AHAAAAAB1H4AcAAAAAHUfgBwAAAAAdR+AHAAA=
AAB1H4AcAAAAAHUfgBwAAAAAdR+AHAAAAAB1H4AcAAAAAHUfgBwAAAAAdR+AHAAAAAB1H4AcAAA=
AAHUfgBwAAAAAdR+AHAAAAAB1H4AcAAAAAHUfgBwAAAAAdR+AHAAAAAB1H4AcAAAAAHUfgBwAAA=
AAdR+AHAAAAAB1H4AcAAAAAHUfgBwAAAAAdR+AHAAAAAB1H4AcAAAAAHUfgBwAAAAAdN9XAz/YO=
tn9l+1Lb+w543LY/WR4/3/ZmbdsCAAAAANqZWuBne5Gkz0jaUdLGkna1vXHf03aUtFH5t4ekz43=
QFgAAAADQwjRH/LaQdGlEXBYR/5b0NUlP6XvOUyR9KdKZkta0fdeWbQEAAAAALUwz8FtX0hWV21=
eW+9o8p01bAAAAAEALjojpvLD9LEmPj4iXlNvPk7RFRLy68pzvS3pfRJxabv9Y0hsl3aOpbeU19=
lCmiUrSfST9aiq/0NxbS9I189huaWyTdgtnm7RbONuk3cLZJu0WzjZpt3C2SbuFs03aLZxtTrKv=
S8P6EbH2EvdGxFT+SdpK0nGV22+W9Oa+53xe0q6V27+SdNc2bZf1f5LOmc92S2ObtFs426Tdwtk=
m7RbONmm3cLZJu4WzTdotnG3SbuFsc5J9XUj/ppnq+VNJG9ne0PaKknaRdHTfc46W9PxS3fNhkq=
6PiD+0bAsAAAAAaGH5ab1wRNxs+1WSjpO0SNJBEXGR7T3L4/tLOkbSEyRdKunvkl5Y13Za+woAA=
AAAXTa1wE+SIuIYZXBXvW//ys8h6ZVt23bMAfPcbmlsk3YLZ5u0WzjbpN3C2SbtFs42abdwtkm7=
hbNN2i2cbU6yrwvG1Iq7AAAAAAAWhmnO8QMAAAAALAAEfssI26vZXnXENrcbcN8d526vAAAAsBD=
Yvv3S3gcsbAR+C5ztB9r+uaQLJV1s+1zbD2jZ/Fu2V6i81l0l/XAa+7msGRIUL3HfbY3tRfO8vb=
1tr14q+37R9s9sb9+y7aa2X1X+bdri+ZvV/Zvmvi4t83ERYHuR7Q+N0e7etn9s+8JyexPbb537P=
Zwbtu9gewvbj+z9G7F968472/fsHY9sb2t7L9trjrHbo+zfvL4fc3kMbvn93abNfQ2vcQfbm7R8=
7rNsr1Z+fqvtb7XZz0nYXsn2K21/1vZBvX9T3N5ytp89rdcfss0N29w34Dnr2H5S+XfnOdiPBXW=
9YHtr2xdL+mW5vantz47xOsvZXn3Od3ACtl9b96/layyyfTfbi3v/pr3fCxVz/OZB08E+In5W0/=
Z0SW+JiBPK7W0l/W9EbN1iuy+V9ERJz5B0d+WSGK+PiONbtH2ypN6FzUkR8d0WbVaR9DpJiyPip=
bY3knSfiPhei7ZrSHqHpEf0tinpXRFx/TS2aftnEbFZ030D2t1O+ffcQJXiSBHxrrp2pe3If9NK=
2wdI2ljSSpVtfqmhzcrKv8uvRtjObyR9Q9LBEXFx23al7dqSXqol/zYvqmnzi4jY1PbjlYWe3la=
23fQ+7F229a1y19MkHRARn6ppc0L5cSVJm0v6hSRL2kTSWRHx8IZtjrWvk7BtSbtJukdEvKucrO=
4SEWc3tNta0hckrRoRi0tg/LKIeMWQ59eePCPiow3b+4mkx8QIJxTbJ0l6g6TPR8SDy30XRkTbj=
q15Y/slkvaWtJ6k8yQ9TNIZEfHoFm0fKOlLku6o/Lz9WdLuEXFhTZvzlJ/RDZTVrY9WHtee0GJ7=
H5T0Hkn/kHSspE0l7RMRX2loN9H74ew0Wkezv/u/q3n+WMfgIa91YES8tOE54x7zT5T0ZOXvdZ7=
y/TspImq/M7bPj4hNbD9c0vskfVjS/0TElk2/T+U17qzZx/yhf8/y/CMlXSLpOZLepTx2/DIi9m=
6xrXtL+pykdSLiASXAfXJEvKeh3ckRMVInSGm3t6SDJd2oPFY9WNK+TdcnQ97HcyPiITVtni3pQ=
5JOVH4HHyHpDRHxjZb7elD1PFY6cL4TEY+paTPy+bDSdh1J/yvpbhGxo+2NJW0VEV+saXOWpGdK=
OnrU76/twyTtKekWSedKWkPSRyOisUPP9vqSNoqIH5VrjuUj4sYW7VofL2zvV/daEfHOhm29WtJ=
+kv4k6b8zzaKxE2eSa76FaqpVPXGrj5T/B15wSqq74Lx9L+iTpIg40S178SPiQOc6iN9WfmhfFh=
GnN7Wz/T5JW0j6arlrL9tbR8SbG5oerDxobFVuXynpSEmNgZ+kg5Sjmr3ew+eV13v6XG7T9l0kr=
StpZdsPVr4PkrS6pFVa7Od3JF1ftvmvFs/vbXfcv2nvoLetMvA7RtKOkk5VXkwOa7OT8kJjRUkb=
2n6QMpB+csPmNlGum/kF28sp35evRcQNTfup/NucIulHyhNIG72//xOUQdQvSrDT5MWStoyImyT=
J9gcknSFpaOAXEduV535N0h4RcUG5/QBJr5/WvpbOiPdpycD9Hi22+VnlierRygu5GyV9U9JDG9=
p9TNLjVdY/Lftad3G2Wvn/PuW1e+um7iTp5Bb7+XNJ3ykXnjf17oyIbw1volUi4uy+P+HNLbYlS=
bL9dEkfkHRn5Xvj3GTU9lY7R3neIWl95Tmw167u/dhb+Xc5MyK2s31fSbUXGxWfl/Tavs67AyTV=
dd79tyxr9DRJH4+ITzkzP9rYPiLeWNpeKelZkk6QVBv4aYL3Y9iFlfJ40v/cSY/BS6gL+mxvpfx=
br93XwbG6crmoJmtExA0l+D84IvazfX6Ldr1j4BMlfS4ivmP7HS3a9ToJPyLpbpKuVn5Wfynp/g=
1N7xURz7L9lIg4tFzQH9dmm5IOVAn8JSkizi/tawM/ST+0/XpJX9fs7/5fG9q9KCI+UTrS1lYu5=
3WwpIGBX/nO3V/SGuW737O6KsfVId4i6aERcXV5rbWV56lWgZ+k39v+XES83PYdJH1f+feqM875=
sOcQ5d/iLeX2/yn/vkMDP0mKiCv6vr9tt7tx+YzvprzGeJPyGqc28HMOLuyh7NS6p7JjbH9JQwP=
i0q718UJqDuxa2FvZcfaXMdqOdc23kBH4zYMJLzgvs/02SV8ut58r6Td1DfpOblaO9p0n6WG2H9=
bUe688UT0oIv5bXu9Q5YVdU5Byz4jY2faukhQR/2h5Ed9r+4zK7XeWXu827UbZ5uMlvUB5gPqIZ=
i46bpT0Py22t15E7NDief3G/ZtK2Yu3qaSfR8QLS2/gFxravEMZaJ4oSRFxnu0NmjZUeuoOlHRg=
CRQOl/Qx29+Q9O6IuLSm+SoR8aambfQ51/bxkjaU9GZnatR/G9pI+b5VT2q3aOa9bHLf3ndQkiL=
iwhIYT2tfD1ae5D4maTvlBU7bfd0yIjbrXfRHxLWlM6fRKBcBvRNr+f026/XYlgvVI1ts7o6S/q=
IMUG99Wc2MyA5yje17lufJ9jMl/aHFtno+KGmniPjlCG2kvHh6jfJE3vbC6J8R8U/bsn27iLjE9=
n1ath2n8+4/5Zi2uzL4lqQVap5f1XveEyQdHhF/bXkYnuT9GOXCaqxjcBlZuC5KFojt7SQ9VdJv=
JX06Iv49pOmKklZVXu+sVrn/BuWxtcnyzmkSz9bMhXgbv7f9eUmPlfSBMnLQdnrNu5Wjyj+KiAe=
X33XXFu3+U/6/rlxf/FHZ6dvGuIF/bwSrujRXSGrq2Bq1I+0+kp4kaU3NfCek/NzUjvZKWq4X9B=
V/0QhTnSLibbY/YHt/SQ+R9P6I+GZDs3HOhz1rRcQRtt9ctn+z7aZj1RXOTI8o54i9VNI+W1jBO=
S3oqcrv0n9st8neeKXyOuOssp+/drs02rECMdsrKTt976/ZnahNo6hXKIO3cYx7zbdgEfjNr3Eu=
OF+k7FnuXUCdrLLQfY3V+m4fNeT+OmtK6vXYrdGyzb+dQ/29C4d7qn0PyT9sPzwiTi1tt1GmKs3=
pNiPiUEmH2n5GiwP3IKfbfmD1fRzBmhr9bypJ/4iI/9q+2Zl7f7WaT6o3R8T17ePu5Ey/eKLyM7=
aB8sLsq8rUmGMk3bum+fdsPyFyDc62XizpQZIui4i/276Tmj/fUgZTZ9nufbafqobe0Ipf2v6Cc=
gQklJ0pbU6Q4+7ryhHxY9uOiN9KeoftU5TBYJP/lPek9/leW+2CzXEvAhZLql5A/1stLhwjos3f=
od8rlSNf97X9e2WH1nNHaP+nMYI+Sbo+In4wYpsrnXPsvq0c4bhW0lUt247ceaf8XO0p6b0R8Rv=
nHKamEbue79q+RHn8fEX5zPyzRbtJ3o/WF1YTHIOPUKZ0X1/Om0cqR9I3VY6Mv2TI9k6SdJLtQ8=
r3T85shlVbZjK8SzlqdlpE/NT2PST9ukW7Z0vaQdKHI+K6Ejy+oUU7SfpPRPzFOd9quYg4wZnV0=
OSAMiL1NuWo/arl5zbGCvwjonF+3RAjdaRFxHeUWQVbRcQZI27rWNvHKTsyJWlnSY3HgL6RxbOV=
f8uzlcfVpzdkNIxzPuy5qZxfeu/Fw9T8/dpT0ieUo+lXKkdOB66TPcDnJV2uzEY7uXSytPlu/Cs=
i/t27zrC9fG+fG4wbiH1Zmcr8eFVSmYc9uTIIcpmkE21/X5XrwxaDINJk13wLEnP85pHtw5WpEN=
ULzlUjok1P3qjbWqTslWp7oqm23VXS+5XpQVbOS/ufiDi8od32yh7RjZUHnW0kvbDa213TdlNl6=
mIvILpWOQ+mNqXG9uMkvbVvmy+IiBMb2lXnFxwoaTO1m19wsaR7KS+K/qWZNLHaXPEhf9M3R8TX=
6tqVtp9V9oTvopzP+DdJ59VdbNv+oqQfS9pXmZ++l6QVImLPhm1dVvbxi9GXFmz7kxGxV03bGyX=
dXhks9HqeB6be2b5vGTUZOL8maua9Vl5jM2WatCWdHBGtUuFKr+HLNTPf8mRlKtbAi+Nh+9h2X2=
2fpgycvyHpJ5J+r/xuNo4YOVNvdlZ+Pg9VjlC8NSJqR+Fsr6W8CHis8u9zvKS9m3pYbb9FecF6l=
PIY9TRJR0TE/za0G2t+UGl7e2WPfOO8kL52n5B0F2UwVj2ZD7wYq7yPz1am+H2rr13jZ668zqOU=
x6lja0aZqs+/g7Lz7tbPqqR3RMS1bbY3jrLNGyLiFuc86NUj4o8t27Z+PyoXVvdXjsi0vrAa9Rj=
sMmeu/PxhZTrsG0sQd16LY/DY85jG5Zzft1FEHFwC8FUjoinol+0fKTuz3idpLWVn30Ojxdz+Cf=
b1HppJQb5WJfCPiMsb2q0i6bXK+eR7uP08++U005F2XQl01h12zrf9xoj4oO1PaUBwUXduKu2fr=
tnni6Pqnl/aHFzzcNSNNI1yPhzQdjPltIUHKKfArC3pmU3XQ3PJ9vIRUTvi65xPfJ2k50t6taRX=
SLo4ImpHxsv1yUjHi9Lu52UEvDd/dgVJx8WQudaunxsY0a42w1jXfAsZgd88GvWCs7T5oaRnRcR=
15fYdlHOuHt9iez+OmsnHDW3vqpzTYmXhi7YXDXdSpqhYOR/mmhZtbg1Sy4iWWvbETrLNcYuKrD=
/o/l5PckPbsf6mfa+xgfIirikgXkUZhG9ftnecMlWztuff9qoR8bdR92tUtg8oFwmDOgVi2IG80=
n7QsiQ3RsR/Btw/Ec8uCvMQSedLIxWFeaiyV3JNZQrXGpI+GBFnttz+fZVzJizpx2OOcrVm+yGa=
mXfcKqD2CIVBPGEhmcrrDLooG3oxNuSzVm3X9JkbqXjJJDzZvFA5R3s30Ox9HTgneJL3o+HCqnZ=
uzqjHYNsXRMQDy88/U3acHVdu3xoU1mzvvIh4UOlMeYjKPKYW7cYterKfck7/fSLi3rbvJunIiG=
isJFqC738o0xF3Ux4zvhIN8+bKufAdyg7QUM4xe3dTh8+AbbfuiLH9dWUg/fzy91lZWfjoQUOeP=
1ann+2dIuK7tncf0u7Qmn3cUNIfeue/so/rNAW1S0s5z1+pDI4s6VfKqSI/HfDcgYFwT1NAXF7j=
7UPa1gZGJXh/sWZfZ3whGgKLYceNuuNFaXd2RGxh+2RlkPlHSWc3HRdtP6u/s3TQfUPajn3Nt1A=
R+C1wvR6OpvuGtP2IpI2UKTFtCy4MDBjbBJHjtivP+0nThVff8ycdhen1GH1C0okRcdQIf9dNNV=
N99JSI+MWY+3u9pN8O61Wbi1GxUXmCSmSlfbVy6YlNvb7jsn25cu7qtcoTzprKtKSrJb00Is6ta=
dtf3ENS80W1c47ue6Nvjm5EvGD836SeM/Xqyoj4l7MoyCaSvtTrCKppN1Zlx9J25ADH9k8j4qHV=
71DvQnvAcyeq0DYp2/eIiMua7ut7fOSqcLa/q/oLsqGFlmyfqpl5oTupzAuNiMb0YNtfVhZaOE8=
zcxhj2AXg0no/Rj0Gl+fdVfk9f7Kke0fORbqrpO9GxOYN27tIOcJ0mHIe00m94LOhXetOjb525y=
krVf6s0q4xQC3P+0D0zQ8bdN+Adj9Udij3vue7Sdo2Ih5b02bSir7nRMTmfd/9oX9Xlwqs43b6V=
V5ntfL8xo5K2+dI2jrKCL0z/f20iKgtkmX7k3WPNwVV454PbZ+r7Fz4fbn9SEmf6XV89D13YCBc=
2cehAXHlNV5XubmSci7lL9ue98c1yntYnv8SZXGzByoL4Kwq6W0R8fmGdhNVEB7nmm8hY47fPLB=
9geovAOpOBP+1vbh34VV6H9pG6yMVXHCOSK4iaS3nyGK12trdhm1k3HZ9fm77aLUPUj8y5H4pf8=
emk8dYhTq85DICX3GOXg2tJll8VpnK1BstekD5+U6294zB6U2vVVbMGvS71v6OpZf69VoygGv6u=
4xdicz2+5Ujmr3KpXs7523uW9Pm+YPuHzY6UXGspKMqPf7bK+fTHKH8W9eVTB+nuIc04hxd2x+P=
iH2GBQB1F/4V35S0ue17KQv6fFd54dpU1n+syo59AU6vYM7QamsVrecHzVUgYXs9ZTpUb3TjVGU=
665UNTb+h/C5WHakcBRpmnGIEHy7/P12Zktr72++qnE9TZ5J5oZsrq/S1Ok/Mxfsx5DN+vaRzlA=
HToEyDUY/B+yjTnu8q6eExM7p/F7UrujLuPKZxi578OyLCpUiGR1tT83HKEcmqHQfc1++OEfHuy=
u332H5qQ5tR5v4PMuo8+5eW/7cbZ2Olw+3LKsuj2P6zcrTxoppmy0clLTtyXlqbIllDOxBb7OfI=
58OKPSV921mdezPl0g4Dj/ltArsmETHrGsOZSn30kKdPek3b/x7K9jVqeA+do4s3RKbIn6zmOge=
yvaPy77ZuXxC/utpXLB73mm/BIvCbH0+aoO1bJJ1aeh2l7D3ao03DGL3gwsuUJ9e7KQ94vTPdDZ=
I+M4V2VSMFqTFTKXWl/ouKEog2GbdQx8jLCBSXS3px78DmXJfnDcrUv29pQAnriNij/D/OCfJIZ=
VnlL2i04GaSSmRP0ODKpXUnumqP60rKlMafqWapimLzqMxXjIjjbf9vRLzWzQvrjlPcQxq9KEyv=
mMeHa57TpFfW/+mSPhHty/qPW9lx3LLXgwqD7DboiZP2olccrAyCn1VuP7fc97gh252kHPzIxQg=
ii4rI9rtj9jpn33WmKtX5Z7nQ+bXtVynnhbZddPpCZTA0SoXU3nFznIp5UhZPWFuzi2f8SVkM6k=
Dl8jz9RjoGl0B2iTnR0XJub0R8UlL1s/dbZ7XMJuNWOz3CWdVzTWfZ+xepoRqz7ZcrU9ju4dlLR=
qwm6bQW2zzB9i7KDjAp5wR/v67BHAT+71B2xN3d9ldV5tkPe3Lfd2/Q/tRmJCmPM/3Loxyo+uVR=
/mz7yRFxdGnzFEmNU0L6g6oRR6jGOR/2tvtT23sprwv+KelxEfHnQc+dow7GfquoPrCa5JpWGuM=
9jCxw9yrNfLbbuErZ+fRkzQ7ib1R2/rYx7jXfgkXgNw+ikgvsAYtdNrQ91pnq15vD9ppoMYetbG=
ukHvGI+ISkT9h+9Si9GZV2e5WTa3Ufmi7Ce68xTlVASTpdS/beD7qvf3v/dS5Wfu+WgWKPNd4yA=
vet9mZFxMW2HxwRl7W5IPcIc3aKmyPicy32q98klcikESuXRsSrq7dtr6GZgKnOX22/STMXgjtL=
utaZptg0cnuC7Q9p9OIeL1TO0d273D5ZOfdnoCjppr0AYEy9sv7P12hl/cet7DhutbWIiMe6Mj/=
IOa9mkLF70fusHRHVeX6H2N6n5vmTlIOfpCrc2q6kkpa/y9oNbfZRXnztpewcerRyaYc21pJ0se=
2z+/a16QJwpIp5fR48KLiNiEc6UyyXMMExeAmlB762Q9RDFsVWczXgsaqdRsSHncXHblB+9t6u5=
jUxD1NWm3yfZgcIN0bzunhSdsK+VjOjy8spK0S+VsMLbU3UEVM63c7VzDXK3g3XKDvVPDa0s7di=
nOVR9pT0VdufLvt4hfKY2sqYo4zSiOfDAcHbKsrj8RdtD/sOT9zB2DeCt0h5fBo6vy8mn9827vr=
UI60ZGblEyIXKDJhxR0bHveZbsJjjN49cWewyIu7pnMC/f9TMgXPORzovIm6y/VxlQPOJNl88Z7=
7/YZpdRny3iBjYI97XdtRAY6I86lGDVM8sAvwVSc/R7PTS/SPivg3be4nyAn49lTUOlRPSmwo8v=
FZ5AdarCPZUSYdGxMca2n1deQKoBiprKXvCT42auQYecc5OafMO5Xy3ozT74q+pOECvEtm/lJXI=
ehWs2lQiG6sabN9rrCDp/Ii4X8Pz1lKmvfWKkJyqPFFdr6wuN3S9QU84t2RUHm/B8F7bjZUXLWd=
ExOElaNg5It7fou3IlR09frW1Qd/9cyOiLn1yIs7Kh4doZpRpV2UV4aa5yCOXg/eYxQhK2x2UgU=
NvDuEGkl4WJU15rjmrji6hqQPCI1bM62v7S0mPj5kpCYuVVU839pB5e+Meg4ds/yFRM6+3POcHK=
otiRxaVWV65NuoS86aGtB+16MlB1dFS26tK+k7T57Py/HkpJuQJ54g5p2gcLuno3qjINDmX8PmZ=
Zl/XbB4RT23RdlXlde+oFYRPV35uqiNU/xs1VVbHOR8O++72tPgOryjpvsprqF9Fi6rDpV21gMn=
NyqVyhqZCluuEQcFDq+uFcd/D0lHUr/FcavtY5ZzJVn+PvrZjXfMtZAR+88g52XsLZSXA3iToC+=
pOPM50j01VijpIOkjS0yOi9gDR2170FVcYdN+AdqMWB5goCCuvMVKQWk5WL1DOZ/lpZZs3KL+UT=
QVsLlCmGZ4ZWentvpLeGRE7t9jXzTTiMgJldPcVlXanKuei/VOZXjk0daRcVLWes1PajHWAnJRH=
rFza18O5SNL9lMsHtJkHIc9DFVLbR0TEsz1kXkM0z2e4RAPmFMbo6ZStecy5k6MGOJ5Jn/ygZq9=
RtrqkN0TE/Qe0mZPUpBJcfFo5ahPKkf69mi6OndVAB213aoUMnJkPvePgJRFRu77pkL9N05y5Sf=
dxrIp5pe2Oyjl0/0/53d+wvMaJymJLHx/QZuxj8Dg8QgGi8tikRU/erVyI++WlE+b7kg6M2aPUw=
9q+StlZ1LqYUKXtJlqy07ZpFG1sJVjZWbn+69nK0ZjvNX1Gndkd+2mm+MlJkt4VEbUZB569PIqU=
o6jvjAHLo9h+bkR8Zdh72fQeVl5niWI1g+4b0G7sSt7OEepeh/DZMXsB+kHPf6Jyekf1O/iyaDm=
toXJdE8rO6FYp1OPwkkvcnKQh72Ffu4FTe1p81j6vHDQ5WrNHCtu+/yNf8y1kpHrOr3EWu7w5Is=
KZk/7JiPhiUw9dxTVllLDaI97mYnOk4gDK1KAXKHtuq1+kG5Xrz7UxUtpWzCwC/MaI+GD1MQ9PM=
av6Z0T807Zs3y6yemabddW+HBHPU/ZW9d83VET8Q1mkZVChlqbAZeQ5OzH+orq9g/JGmj3PpylF=
SZ6p4Hr0gPuGqaan3KysctpUnKM3Iv0FZVWvxc6qWy+LiFc0tS3tn6gl5zINS23ppXaOO69h5Dm=
FNcFmr0e16QJwrLmTbUaw+oyTPjkXcx8l6e79QWIZXW0aFalW1ltJuVbhwMXY5ypIVRaO2UB5zt=
3UmbZV916MPGfO9qkR8fABvfFtR+0HLf49sMx733aXU85B20gZ3FoZ3PYuxj4+pOlIx+AB70Eo5=
2mdEC2q1Wr0RbEnKnoSEW+z/QHb+yvf//dH+wXr99EYc21tH6TsJL5IlYBRNemTk37GyyjUSWWE=
8tHK7/1Bys6fOgcpz23PLrefpxyRHToHsGzjyKipUtqnlz44aQGby2y/TbM7pgd1rt5qzPNh73n=
PlvQhZceJJX3K9hsi4hs1zT4iabso2S7OeanfV7uF6t+unCvd+5wcYvvIGLJkie3VI+IGD15WqT=
GzqAR4e5XXWqRM/WxTaGmsqT3K4/tVytTnkT4L417zLWSM+M0jj7HYpbOoy7HK+UWPlPRnZepn3=
SjhZ5XzA9bUkj3ie0dDmqjtI5U956MWB3jGCCe2/rbjpm2NlWJWUg1eqDzBPlq5LMAKEVFbLbF/=
e+WgdUFEbNzQbuR1uSon4tWURRBGmrPjnJfQv72mEZ+R0688U9X1BEnbavaI7w+iOW1zpJ7N0uY=
sZeGCo2OEEuvlefuX/d1OGTw+s2z3xS3a3kU5ah+SftqmB9dZ3W2RRphTaPuuEfEHz9EaQqV3/c=
stPjNrS3qjlgyKm1Kgx0mffJqkY5pGv2raT1Siu9JmOUk/GvQ7uqQQesz0yfIa46Rqnxyz58zde=
p/ti2LASOrSNGh/W7QZ6Rg85D24o/Ii/NcxJEugdCCepjwufVRZUfkiZWD9rJjj0uyeXbzEykD6=
bOV5vNXomzMd/XHRsID2gHYXN52LBrSZi8/4ysqOn52VF+Hfi7752wPajJuRdLSk5zWNDLbY5xW=
jfSrkKKOME50Py2v8Qvn+X11ur608Rg0dYez/DjpHGE5q8710ZhU9OGavc/izYftq+3sR8SSPn3=
p5mHIKwy3KTJg1JH00Ij405PkTZ5WV1xlp+YjSZqxrvoWMEb/5ta+yQtAFyknYx6ihypfyQPocZ=
UXIPzrTmwZ+OSouV36Z9huhR7pq3OIAP7b9UY2YulG8SBmk9vKmTyv3DeTJKvQpIp5WfnxHOcmu=
oXJiHrK9NytHL1e23euZsqR/K+fvNDlYM+tybaeyLldDm0kma++nPOlsrPyc7ahML22qlrm3ZtK=
vtit/56ZRoGpV12ow01jVdcyeTUlSRFzh2YVx2lYv3TpyDtP5EfFO53qXbS7GXqIcAflJZV/fFR=
EHNTTtLS1RXWcsVLMcR6/TJSJ+O05gPMDflSMyTb6qTNV6kvLEvLuys6nJ05xFPEZZN/DJkj7uT=
C38mnI+WeOFru2tlNXf1vbsFK7VlQH2qDaStHjQAzE3BXpGzaCQ8nerLuOzWHlclvKY08j2nTU7=
eB84EuoJUxqLkYoulMdGOgYPew9KIHCuhldLXE/SJ5SjkZdI+qHyePP1aFEozaMv4N5fvOTnyoJ=
MO6ld8RJp/GJCZ9jeOCIubrGN3mv25kbeUWN0xDjnr2+pfO8+o1yvrqnAliT9w7m8wanldbZRHj=
+a/FPSBc7pIdXPWl1HyomSXhBlwXbbD1VeezWlavZGdp5f9/p9xj4fVizXd5z/i3K0atA+9q5/L=
rJ9jLLqZShH8JZY8H2Iy5XHit4o/e2UKaMDRcSTyv/jZhZtXEYMd1Nen7xJ+R0edm07UVaZx1s+=
YtJrvgWLEb+Osr2u8gtyJ2Xe960H4qYex3F7/mx/U5m60ZsM/jxJm0ZEbfnmcThTX5+qvHg8uvL=
QjZK+FhGnt3iNhysrrB5cetRWjYim9I33RcSbx9jfcyPiIa7M6bR9SkQ8oqltee5II03OFMFNlc=
ULNi3Bwxcioq6imjwzD+Y8ZQnjf7XphS1tR6oGW9qM3LNZnvcN5ef708pRyb2Uk8N3abHNsyJiS=
9tnKtOK/iLpwoioDYxs/0oZNP6l3L6TpNMjoi49bZFy9HysieADAuNHKOfO1QbGnp22tZyyA6Bx=
7mTlc3rrQtO2T4qGOcW9z0gZxXuqck7jCS3exxWUnRI7K3vTfxgRL2lo8yhlp8aeymNbz43Khbx=
/3dC+lwrp8v8fJb05BmQrePh6VW1TbsfKoLD9BC05X6d2zlyl7ZOVaV93UxZ4Wl+5GPPAUULPzO=
u8j7KDoXc83Uk5n6X2/SivMW7P/8jH4CGv02akaEVlEL61MgtmK0nXNfXce8wF3CfhMYsJORf6/=
q7yM/0vjfY5PVjZGTVqR8wOyu/tqOu+Pkh5rbBG2c+/Sto9Is5vaDdoqktETTaL7ccrg/9PKkeO=
dpT0kmio5Gz74vLcozV79K630aEdG+OcDyttP6RM2a2mep8fA5ZaKu/bMBE1c5dtf0p5fFus/O7=
/sNx+nHKeX+351PZ3lJ+V70TE3+ue29fuImUW02GSPh0RJ7ndnMmxsso8RnGeStuxrvkWMkb85o=
HHKA7hCedrRMTvS2/he5Un8Fb5/qXtSZ697MQqateTfs+IeEbl9jtLANHI9j2UB+aHlX08Q7l0x=
WWDnh8R35H0HY+RYla2t5/yIuA+ytG4FZRpBNs0NP2e7dvH6FVWx16Xa8yRpn9Elku/2fbqygvA=
NoVdrrS9pqRvK3vxr9WQ+U8D/N5LrtF0vTItYtgoVeuezT57Kj8v6yoXKD9eWXa9je+V3/FDyh7=
ZUPPIu8p2qtXgblSWBR8qsqLmkzUzkj2qt0h6aH9grFyEvM5YcyeVlVwl6Q/OeZBXKXtZm4y1bm=
BE/MdZbTEkrSzpKZJqA42YmVN0SIvv3aD2o8zxmHS9KmmMDIqIOMaZHj7KnLmedyuPoz+KrNK5n=
TJ1fti23ilJzsXUN4tS8dBZGfjIhm31XmPknv9Rj8EePJ/oDsqpE01l9aX8fK2uDDTWUH62L2jR=
bqwF3D3BuohNAV6Ng5QdrheoeVmb/m2+sNIR8xxJn7Xd2BETueTU1rY30AhVwCPiPOV819XL7TZ=
zvCRpzcglpG7lXGS7blvH2d5TGdhco0xrbFNoZX/lSOY9NHuNYimPWXXn1N1t3yLpsIi4rsW2qv=
v7BtvPUH4XLOmAiDhqyHNfOMpr9zmn/H+uZqpWStnB1MZHlUHp+8vxrVVhH2UhqMsl/ULSyeV6s=
837/z3bz9GSxYuGLj1RjLt8RG+b41zzLViM+M0D23eLiKs8R/N1Wmzv/srUlKuUwdOoc/VGXnai=
tDtDORpRTd34cERs1WKbZyrTIHo9XLtIenVEbDm81fgn1xKQPliZx97rxb11lKOmXbXK6peVa0A=
1Vll1ppb8Ujnv8t3KC5APRcSZde1K23FGmj6rTFPYRdLrlAVkzhvlJFFGVtZQlmVvTC8rHQ1bKe=
c2SNlDeqayIMW7ImKJ9fmG9GxeEBFvbLufk3BWW1wpWqQj2/6SpAdK+o7ypP8U5dyd/5OGp2HZf=
q/y79ifBlfb21zazqr6WzoPfhENJeidBY7+ELPnbKwTJdWppt2TJJ0i6e7K5VVWV85lObqh3fuV=
I33/UI5Mr6m8ABj6/S0jBbsoU59PVP59jm8zylDa31vS67XkRUCb5QeerJmU9BMj4nt1zy9txkq=
59RgZFKWz7bWS1o+Il5Zj8H1a7uc5EbG5czT9waUD6OyI2KKh3SXKDI1/ldu3U37W2lRlHrmK7K=
jHYOeoYm+kVpop7nKipPcMCxxsH6A8P9wo6SzlMenMaKggWGn/A0mvUhYV2cy5gPuLI2LHhnZHK=
lNLn6PKuogRURuklLbjzrX9SZvPf8NrrCBpB+V0hEdERO2akx5jDmtpdyfNLMkTKkvyRENBGw+e=
2/vzGLBkSOXxtymLyOyhPN+8RtLrIqJ2cftK+89FxMvbPLfS5l7Kv+HOygDrYOXxbSoX3R5xSaw=
53na1sM8OTQMTA9pb0qKmY79zWYbrtWSF7EFF86rtjtL4S4CMdc23kDHiNz++p+wleE+MWAnIWX=
nsokov7KqS7h8RZ9U0+4byC3/8mPv7SpVlJyQpIn7tnC/S5OXKSpvV1I0XtNym+wKDr5SRsSbjL=
jr874gI270Kb217f6pVVj8RLausRkQv1/5vypPBKMYZaepVt9y/HCxXl/SrNhvz7LLOp7UJ+or/=
SrpfRPypvM46yg6ILZXpQ0sEfqVn8+maKZU8tGezvOYbI+KDnklR6X+9unkeddXi2hRd+H+aPe/=
hO+X/phGkXjpJtVeydo5fxbG2j9PswPiYFu2OrGxXypPkkZpd7XMJlcDiemVA1kpE7Gv7A5pZN/=
DvysC4zguUaUIvi/EKvByp7JH/gtrP7+wFqQ9VzmeUpL1tbxM16TyebC7qOPMDD1Ze3PQ6za5U/=
r6NgZ+k68p54mTlotVXq8UIlfL7eXa5SApltdND65vcapwqsiMdg8cZVSwWK+cs/VqZaXGlssha=
W2Mt4C7pXhHxLNtPiYhDnQUt2q7dOO5c20vKdr6r2aPLbeYw93fEfEEzFTfrjDOHVcrv/smSell=
Cuyl/54EVO53r4j1H0obOeZ09q6m5WvlakraIrK59RjknfkFZ9bJW6WxrNSWjKrK65ltK0Pkk5W=
jsf52VVz8R9WmiT5f0AWVWkNUu0+tgZerks8rt55b72qzb/CRlh/T6mr3WbGMA5yUL+zQeM2z/r=
6QPVkZC11R2UL+1oel6EbFD0+sP8CJlrYJvSbcuH9H2Omysa76FjBG/eWD7QuVFw9s1e60rSfUH=
Zds/V6bf9E6Oy0k6p7/Hq6/N7ca8kOq1782B+nlkqtDyyl7ZxnkCpX3r1A3PpO+8UXky/pryomN=
nSbeLiHc3tO/t40iLDjsLEWykPCi+T3lgOCwacvI9U2X1RcqTQWOV1dLuh8oKcteV23dQzkV8fF=
278tyRR5o85uLBXrKs81OVPd3DChlU2/aPTlk5eveAph7Zvtf5XUQMLLZhe6eI+O6wA2/ULDbsC=
eZCLE19gfHJdYFxpc2ginlD51AMC6R7WvTe90aoFkfEHqOMUI3LYy4QX3pwHxSlAEXprf553fHN=
Y85FLc99mLIn/n6SVlSmzd9Ud1FVGbW79XtT9/71tb29skiDlRfTa0j6at1ISvmurqesdNm7yB1=
7vSq3qCI77jF4zP2xcvRs6/LvAcqOyTMiYuB8ugGvMeoC7pOsizjuXNtBx7hWxzbbX1Oef38wyv=
WDx68CvsT3t/e5H/L89ZVzXd+n2YV8blTOf2saLVpZeXxq1QHa1/arynnATUvF9LfbRBlgPEEZ9=
H9VeSx/Xv/xua/dpZJ2iog2ndi9NmNVSa1s7+nK83XroMCzC/scoZaFfQZdD7hFRWbn6P2nIqJN=
inbvuH2qsqL9adGQ8TLkNXrXfC9Uy8r6Cx0jfvNjT+UJeE0tWfGrac6dq1/EyLSd2vdtkqCvOMl=
2r5rR45Qnre8O3cEhVeFc5kQMCkwqztXs9J2XVR4LZS9Und6cpOuclZv+qEz9qhURHy6/2w3KOS=
Zvj4gfNrXTTJXVF0X7KqtSLuR7XWX717rdKKo03kjT713SU1xZPLjFtnbV7LLO71f23DcGfpJOs=
f09zcwLeoYyf//2Gq2HfejksIj4bvm/7UhEte0kcyEmSb9aQ2MsVFx5/W9J+pbttdRuHU5J+rPt=
J0dJ0Sy9lXUVDM+peayN3ghVb5SxcYRqzF7tqu/afoVybkp1dGNoT3rFmsoLfykDoybjzkWVsgD=
RLsq/x+bKOWlNFVb/XS5Uex1+91Tld6wTETdVbrb6npQe7W+XC/HGFOQWGqvITnAMHlk5h15o+z=
rlaPb1ylGYLZTfzaH6z2/lvHa9pHMj56kN01sX8a2aWRfxbS13eay5thMe416sXFvxFmca9X2VQ=
eB/GtqNWwX8BNu7KAMGKZfVGToCFzkl5reStvLsGgQrK+dvDg3Ibe+knPe8onLE8EHKY3Dbqud3=
VVbNPFuz0/XrOjbOVZ73vihp38p12VnOaTB1/jRK0FeMu26zlBlEF44S9BUHS3pOjFjYR9Ki6gB=
FeQ9v16LdwyW9wJn23aZ40W7Kc9LjJO1XrkVO7/2L+sy5nnEq6y9ojPjNI9svjogvjtjmW8q0i8=
+Vu14habtokZs8rjKq+GJJ2yu/WMcpK0IO/LB4SAWynhh/onojZ+GTbyrzrw9WWXQ4IvavbTjZN=
sdZd+5cSU+LmfLs60s6qqmHa8L9/IDyorb14sHO+Sy7VkYm15T0lSjlmxvaWhns9Saknyrpm6Oe=
TOpG/MrjuyuXnejNcfylpE9GQzGBSvtBHRWNF3LO4hdfV84ruzX9KgZUWutrN3K12zJK9H5lcPJ=
uZRreWspg4/kRMbTsfWl/T2Xv8t2U78UVpd2lDe2eFRFHNt03oN3II1Tj9Gr3tR+3kuSuyr/tCc=
q/zSOVvflfq2nTusregLa9v0119Ob0qKkoZ3t7ZWGfjZWFi7ZRlqM/saZNtVqpNDOC2yqgtv0ZS=
YfETFp6a55dRXaRcnSzsYrsfLC9l/LibxtlQHWasnjYacoRjtoRCmfq5Oaa6fx8orJM/n2V2RAf=
HGFfWlUl9PhzbccuKFPOUY9QFsw5U9kZ9PeI2K2h3chzWEu7G5ULrPf+/stpJqga+nn1GDUIyu/=
2aOWIVO/4NCtDpWFfx5mne48YUpyuxfY+IekuyiJrrVJ2S0Ay8rrNpe1DleeZkzTa8iGyvbWWnG=
ddey62/UZlRfaDy76+SLkmb+13yRPWySidp7sol9vYMCLGWf5nmUfgN488eI5RbdXDMir0SeVBK=
yT9WLk+Vptg49HKSeyty+yOy5OXrX+WsojIjbbfqswVf3eMmWrUYntjjTZ4/PL6OyjnifROFI+U=
tEdEDJ3z0XcxtYRBvY0ec/FgT1jWeVTDRonLPr8lIgZV8JOziMRrlGmFPyvP30z5nnyiTfA37oW=
cJ1zqoOm+vsfPURbnWUP5udkxIs50rqt4eLRPm11VeZxvm5421qLoznLZj1Gm02xWAs/Do6agiO=
3TIqKp53sqbN9V+Tm3pLOipsJf6dBYrzx/pJTb0v5k5bylLygzEv6gDOKWCIptf1qZ7ni6s/jFw=
8r2zowWa85Nwlm6/j7Kans3qbk3vdq2+h1oVUV21GOwc+7xUDGkWJJzbdleqtdI6Yil/XGSnhFl=
0efynfqGcg7kuTHCQs5NnVqT8mQFZX5WvruvlrRy5Fzqn7c51nhAFfC2x5xROYsCbaH83rYK4tw=
3faXc11jMre81xunwfaKWDMKbKlDKE6TsjqN0av5NfdVgmzrtPWZhn9J2R+U5w8qiN63mv3qEJW=
DKdemDNdPxc0/lPN8zlGnejfOvPbuy/orK6sN/i4g2mSILEqme8+vFGlL10Fmef1Dxi6uVPRTje=
IGyuMdflL2Hpygv4murmXmMib4xedn6t0XEkeVL/XhlWsb+mln8eti+riPpfyXdLSJ2tL2xpK2i=
eWT1gxpvtGGs8vqRJa8308yF3GtaXMiNs4D7uIsHT1rWedQLubo01U/UPPYK5cjp5ZX7fuIsff0=
1NS9QL+XalptVLuT2U75/j1T+/sN6Hcdd6mCchYqXj1KcqRwbzpSkiLjELZZJKO1uvejwTNr1wI=
uOchJ+gqR1bX+y8tDqalcYZD9l58LdnfNhtlFzYadznHNEvq0RC1FU9vsBylGx6oVVU2/zNso5G=
kc7U6PeaHtoee6IWWmQrfet4nnKUbBXKTst7q6Zghb9fi3pIyUw/boyeD6vzUbKaM+eku4l6XxJ=
B0XLCqlFbZXKOpFLAFXXGh26+HPFqMfgusp9Q4slRcSwTqa2FisXbe75j7La6j9sjzqtovbL6zH=
n2tpevrzXkxSUse2tlMHii8t9jdeI1RE45YX1uspzd+188tL2DsqU4Or39+SGZv+KiH/3jmnOqS=
9NIxgXOpcBWFRGCPdSdga0MqDDt7G4k+39Ja0iaTtlp88zlZ2wjWK06tufrHu8TRCmHD3dvu02K=
8Yt7KOI+IGkH4zSxqMvw3WDMiPoM8p024EBYsN+zrpWsf1U5XFumUXgN79GrnpYAouXasmh9DZr=
AT2/vMbdlAedzyhTv5re949rjIm+kk4vPdYjl63XTG/REyV9LiK+41xHqskhygPAW8rt/yvbbwr=
8xsmhl0ac62P7vuVivddb3VsTb7HtxXV/m2pvlFtOTB/lhNHXbuQ5cwO0vpBr6kmssXoMmKAdEZ=
e7FBVqYdwLufc45+u9TjPpV/u02N6ekr5U2krStco00TrV9LP+ILHxOznGRcdVyuD/ycrgt+dGZ=
bBSKyJ+aPtnmunY2LtFx8bqyrlg1QuOpjnPtyoXAdsqA79jlIHLqWoO/j+nXD9sU2WxrYNKm7qR=
2zNtPzTGSIOsBJT/UFaWq3vuJyR9ooyg7CLp4BLQHa4sBvV/Nc0PVX6WT1EG8fdXpkS33s9Bvel=
t2nq8tUZHOgZHROsqs3PsMOX735tbvZOkw53zhS4e8bWavrvjzrU9W5n5MNac92IfSW9WTkG4yL=
m27gn1TSSNWQW8fGb2Vnaenac8dpyh5mrHJ3mEGgTFq5XXCP9SfpeOU3P9gKpxOny3jiw4d35Ev=
NP2R9T+2DZKyu6eyqkERyiP4+16Bmf7ke3tY/RK8BcqU1JHLewzaBSttuBV8TSVJWAkKXKZtLpO=
5JcoB1teIumFtn+qmdG+34+yzz0R8W3bSz2FfRIEfvNrg17QV1wt6d6Rix0Pm0D9HeWJ/EcaoWS=
5JJXe7EcoK0Jeo8z/PqVF03En+k5Stv73tj+vTIn6gHMNqTbFE9aKiCNsv1mSIuJm56KpA3kmFX=
Lc0YZRy+u/VtkbOqi3utXfxmNMTPeIa/rYvkDDL0oiWlQT1PjB9CjqRsqaRtF6xrqQiwFLHbhmk=
r7tvcuF/KoRMepCxZvavkF5El+5/Kxye6XhzW410kVHRPzCWX14+wk6AVZSBrXLS9rYuUTG0N77=
cTspKp6pXF/p55GLT6+jDHKbVMtzfzLalefeTtLLbP9WLdMgG75TqmtbgsUPKI+FD1YGp/spRw6=
H2ThKupvtL6rl6EJlf0ftTa96g7Io1Ky1Rst+929n0mPwWCO944qIdzvnPvfmLu8ZEb0AbYn5bz=
XvuyWt07CtQ8trDJxr22J3xy4oUzoaT6rcvkw5MtZknBE4KYO+hyrTmLdzprG36RDcVxkUXaAsB=
neMGr73kdNd3qKZDuJRjVPcqXc++nvpfP+LsippG6MsU3VXZSXunZXZGV9Xzq2vzezq80pl5sO/=
lJ0HTWnXvWkoq2mMwj4TjKKNugTM4SrXas4U5C2U3+P32V4xIgbOGezbt+r0meWUx8hleo4cgd/=
8Gqfq4SrRooDAEB9XptzsL+mEQSMlQ7xR0jHOMratJ/pO2CP7bOWisR+OiOucqU5LLH0xwE3lIq=
N3IHiY8sJ8mGoq5MijDTHiunMRsUf5f5K/zTuUB6wTy2udZ3uDhjYHa7Q1fQYVb+nNbfqflvs5c=
epeC/dzluPvZ0mNZdLL/ox6IbdI+flcVzkP9UJnOvT/KKvJDZsD80Jl2uqnlKmlbQK+3j5OOun8=
n+X/1hcdkenadyonxLZrN0qSnIWEdpZ0kWZGK0OZyTCszaQLDv8jssrxzSWovlrtPgM3lo6i50p=
6ZHl/V2hoM04aZGNBpGE8s4j2LsqUuZPUfFF8a+dh6QAbdbOj9qZXjbLW6ETH4AlGeifxc+Voyv=
JlHxbH8NL+Y7/vFW/WzHVC3X09d/bMvOleh8pnyv+1F8e2Px4R+3jInPKmi3iNNwInZQXRf9qWs=
8LjJbbv09SofOe/LenbEVG7tqFnr/c36LXaVvUcZz3V7zmLo31I+Z0KtausLY2Qsls6W/ZXTutZ=
V1nN8yLbb4oB04eGvEbb73nPONNQ6rbfdhTtiDJAsKYzxfhFavibluvrLTUzz++hymPTaS13r3q=
8ulk5B/opLdsuSAR+8+uVml318EuaqXo4LDD4nu0nRESbRZtniYi1bN9fOXfpvc7c9l9F8yLy71=
VO9F1JOcrUmseczBwRfy8jMOs4q1NJ2ePV5LXKns172j5NuQ7VM2u288Kyn9tExKwvft3oTd9rj=
FNeXx6j+lVxc0RcP+KF3NoRUZ0gfojtfYY9uZKOpjKi+BxlsPMbZdXUNiZK3WvpfnP0OqNcyH1R=
OS/rbEmfLKM+WynnDHy7Zhu/tH25pLX7gtXWRTMm8N0xLzp+K+m0csFUTdduqu72VOW6faPMeRq=
1c6LfOeV3PFCZnvo3tRvlGrk8d+/74UxhazPi2kudXKRcV3TgotT9yoXzrsqU97OV81b3iNlLNA=
zTGyWWZo8UtypcpRF708tzesHG75Vl6r8jzVprdAlzcAwed6R3LM5iJ/tJ+pMy68bK33Hg9zdaV=
hgcsq1hc21XUyWwH2CRcnRv0EmiaXSiFxyMezE/8ghccWX5/n5b0g9tX6uZqRBLcJ4A91POlXW5=
6xblum7DrjG2Ul7kH65MRR0nDbLX4Vu9dqvt8C1teqmk3ywd/itFyyV8NEbKrnM6ya7K4+cPNDt=
lv5btRw66f1jGRhkd7h0jeh1wty4BUrOd5Uun1FijaDHiEjDOdbAXK4u3naHMvDozyvz+NuYgM2=
XBoarnAueZksethuD72q6uPFA9SpnyuZbyQ1+b1uSaRVQb2g2cVxQRL65tqCVOrreOGAy7OHaWH=
76iXLgtrzzhPEOZqvf2aFjLyyNWL/Tk5fUnqX71RWU1132Vv+NeklaIiD1r2vxIOf+xuqbPC2NI=
yety0N5FM2v/fF3S69ukQsw125tFu3mh477+wAu5ms/ahZI2KSe3lZRp0/eKmkqQlbZ3UfbULtG=
zPMkFYsM2l5P0sIg4vdy+nVpedHjI0izRXN3tB5KeNcoJ1ZMtOGxJ60XEFeX2Bsr5n4NGgyfmLF=
z1EeUc6auVha9+GRH3b9H2aOWCzW3+/icog+FvNh3D5prHWFB92Oelp+5zM+oxuPKc3sLo5yrPN=
TcqpyY0vhfjcC47smUZWZkq57zTBytHd99eeWh9SetExCuHtGv8u02Tc86bmkbgato/SlnB+Nhh=
2Qa2X6MMiveIUqTDOQ/xc6XdEoXlSsdLrzNlE+U6gYdHxEXj7Gdbziyk5ygDISnTNA9r+5324GW=
q3hYRnx/w3HcqR5l/qewoOjZGK+rUS93sWUmZYXRuNK9RO9ISIJ6pHFvtlO6Noh0Yw6vb30v5+e=
/vKHqkpN9HxMBiUrY30ei1KvpfY9LMlAWHwG8eefIFi0fd3vnKD+mpyvLjrT6ozkW7fxIjTvR1K=
Y9c+X9VSd+KFtWiRj25OgtJPDZyfuQjlQe8V0t6kLKAzsBRP2fVsq2VE9mrJ4rVldUiB85l84Tl=
9W3/UmNWv3Lmpr9Fs9dVfHeURdaHtKmu6SNlWsPew4IN2/9Vzv98cZS13mxfFg1ropXnvTGy9Pf=
AinRtgtu+1zswIl46SpsRX3/kz1r1omppX2S1YfuMiNiq+ZlD26+mPDbVBnKV93xd5SjMjzU7zX=
foez9q58SA9udGVtpsxbMLCiyh7jhs+xfK+bg/iogH295Oud7lHi22e4SycMUPNXsUdaTvxXwov=
em3HmfqetNrXmM55bzWganN4x6DK+0/qzwW76IstPQ3ZZXWqfTMl2D8caNeTE+4zRWUmTOzMi8i=
4tNDnv/zpnNQi23+RoOP3wPPAYNG4JQdaXUjcP2vsUg577GaBTMw86KM3jwu+opGlaDz+Bbn4Ns=
pjzEfUs6RH9qhUWkz8G8ys6txzwFt7qcscnScMrPEymD+cZIeHRFtMplaK+fuyzQzp7C3v2Nnlt=
i+u6QPRsSuDc8btATI0M67cT+nZcT0f/o79mxvLmm/iOivZj5nbP9Q2RnXGxl/rqTdIqJtZsqCQ=
6rn/BprCQGPV/L41uIBtm8f7VKFekaa6FsxyWTmK1Q/N6/fokrv2c7K1ItvKtMqzqtpt6Ky92x5=
zV5S4AbVpIhq8vL6Y1W/KtsYeWJ6OXm2nb8g5UjiLpJOsH2sMpBumxbT+zyPW5FulmkGfcWon7X=
7eiZV08q04vPVPFJ4REQ820sWe5iPVM/jnalJ3xqls8GZVvRlZWl22b5GOaI9rIe8ugxI7XyaAV=
6k7JzoXfyfVu5ra6RKm1Hmsdh+lzJ16svK92I31S8vIkn/iYi/2F7O9nIRcYJzXmMbJyg7Vf6rv=
DBuW4Ro3pVAb5xg7zBldcFblJ+FNWx/NCIGpdCOewzu7eMryo/7l2PV1EZ6i8sknWj7+xphzrtn=
ijvV3tf3+KDMC0fzHPFWnSUNqlk+KylTsAeup1rsozJnqn8EzvZrBo3AVXlIlo+GpNAqs1yWqBQ=
cEX8ugfKw7dxOmTq9qzJd8pNqP/2gP/NpOWUg/nplUDfIu5WdrEf07cczlNNohi3lUn3uGsq5/Y=
8od52o7OwddN5qe401iislPaDF8+wllwCpm5++toev4Vv3ndpg0Hc8Is5xc72DSY00bWZZQOA3v=
0aueujxSx73ela/qDzJLi5pJC+rnDgHitEn+vYMmszcdu7FqCfXRZ5Zu+gxysqZPUM/15HrTZ0q=
6YEx2pICY5XX9wTVrzzGAu6VtvdQFhZ5WHmNM5RrB1425LWOknSUM2f/qcoS/uvY/pyyvPfQ0d+=
I+G75f+RqkLZ/3D/CM+i+OTbqZ23ceYW9UvpzUexhVK9VpojfbPufat95c4Ck10bECZJke1vlHL=
qtBz05ZqoQ3l5ZrOGWcnuRpNvVbWiMzol+I1faLB4fEdX1QT9n+ywNX79Ryrk2qyqL1XzV9tVqW=
N/QmYL+v8pg9rfKi8a7K1O32hZMmrpJRkIrNo6IG2zvppzj9SZlALhE4BeleqTtQ4ZlIDTs763H=
hygFy6Z8zPhd+beiZua8t+lM2V1Lrkn6ggH3VV2i7CTYqZJ58ZqmDcUcpAUPyID4eDlXvn3Q8yU=
9X30jcBFxmbOa+PFqXtN3b+W84LYptHUFp4alhx6qDGB+IOmdEXFhy21JmvmblFHs5ykLzp0n6Y=
kRMawC9ANjQMZRRHzT9v+23PRBys7iZ5fbz1MeN54+4LkHKNdQ/cG4o4l92TrLKTOnftGi6d4ab=
QmQurmodermVa884muN6pryma5mpkw97XuaCPzm1zhVD8cteSxlVc/Hq/TER5ZsHziJt984o4wx=
2WTmQSfXOocrLx6uUQZip5T9vpcaRnMiqxfW9WQOMm55/aOVqSz9y2g8SlkQoU5vsv3TlaOFXym=
3d1XmxNc5TFnV7Wnl9i7Kv9mWQ1tIKiPDX1Ve3N5R2eu7r/JEXqv0Vr9eSxawWaKTwjlXbhVJa5=
XPWu9EsLpyHlXTtrZR9oiuX7bVu+hvU9VxpM/aOBenpd0fJmk/iQk6b27fC/rK65zoFkU+lCmej=
1Wm3Ul5Mj5eQwJGSbL9QUnvUX5/j1Wmiu4TEV8Z1qbPuAuO31IClK8pL3Z2VfNSOU8p+/kaZe/2=
Gpq9bM0gH1J2+GwYETdKknPe9YfLY/sMa+ghRRMioq7Ax1gmHAntWaGMujxV0qcj4j8tMiEOcSk=
k07c/Azs1Jz1mjKu/g7Dsx9DUMtu7KlM0N/TsqpKrqfmCcZLMi4l4Zq1ZaabgRt37P9YIXMWomR=
fV4kVVdefg5yk7he4taa/KZ7JVR1j5PV6k/N6fKukpMWQ+WUVddlXbzKt7RkR1ZPCdNZlMuysrA=
L+jHCvOUh5Pfxzt51xXs3VuVk5faax6Wa4JT67cbloC5I/RMg24z09tvzQiZhUos/1ijVDEpq/t=
XaLFPH3NzkwJ5TI1o2SmLDjM8ZtHnj2htSeiZjF22z+NiIeWL/2WEfEvty+AcFZEbOlKXrXtX0T=
zHIqBo4zDTsh9bcetXNlr3zot1Vlw5a7K/P6byn33Vs4vqS0O4lzXbCNleezqvJu5rEA5J7nptk=
+OiEc23df3+Fl9oxqyfWZEPGy036A95zyo/ZUH4lsvpCNiiQOz7b2VF753UwbAvTPyDcpJ3gPns=
lTaX6I8Gfdva6yeuMro8ZypGUmZ6tzesu1vKHuNj42I/zY9v9LuKOVofXU+w+YR8dSGdiMXauk9=
bvtpmhllPqHp+FRp/zBJF1WCqtWUI09nNbTbQDnq0pusf5oy4Lx8wHPHKipQnvNr5Tqt0Xf/Ikm=
XRMRGNW1HKpowF4YcM5a4b0jbvZSjfL9QptUtlvSViHhETZvq/MyVlEHPzRHxxiHPrx4zqtUfWx=
0zJlHes+2VnQTbSzp10KhOee76yvS79yk7zXpulHR+m+NMJfNiV2V2z6FqyLyYlHMuY0+v4MaHI=
+JXQ55fVwytTZGeLyorM46UQjufbF+p/Ft8XNlZOMug64XSZtDvYOVx5u4ttnuGpDdExKnl9jbK=
96J23nYZmdxS2Sn2GGVn1fERUZfNMDbn/Mo3aslK7sM6b8aaH++s3HuUcmS3dz2xubLj9mktA7j=
+1/x+RDxx1HZdwIjfPIrxJp+PVPK4zxUlEAvbKyp7Ytqkmo41yughlSvVYn0lj5GWGmWeXd99/9=
e0reKOyt7X6gFqrpcekOYmN31t2/covWmyvaFy2Yo6JzjXxemNauws6fu9kc65SA0a4OaI+FybJ=
0bOc/mE7VdHi0n2A1wfEUPLRg9i+9SIeHj5+csxe1mTsyXNacGWCUbd5sL+yvW8PmX7SEmHtEwD=
epHyu977HpysmXXB6tzkSjXWclHfNJetNyrwBGUP819bjBJVfU6z37ObBty3hBLgtV2H6eManJb=
59/JYXcdN9Ad95c5bBo109XHkEjcvVhbL+KCzuMU0jTMS2vPdiLh1+QHbv1NDr/iADqHTnGvHDn=
v+pMeMkZUA/zmaWV5jG0n3iJx3PWw/f6tM7R27uFJMkHkxwTab5hH2G2cErmrULJ+loTffddPyr=
2rY9cKBGj5S2nbqy8slHeqc62dlNfHaauySVDr5zij/3u5ccurxw57vJeef3/qQ2qXNf1U5D/VJ=
yjm+u0uqq+y6pu1PKFNvT4yaAnVVEfEnSVs7i2r15h5+PyJ+0qb9kNesDfo8pFhdpf2CK87VFiN=
+88BzVPXQLUoe9z1/LWXP9mOVX+TjlZOOa0dFxh1l9GSVK89STuw/ujI6eWFEtJlgvGDZvjQi7j=
XqY33P20GZx9+bn7eBMigeuKBrafOb8mO1wldPRLuUyFY8kza7l7LU/VGa3YO7RJDpynIc5fbzl=
T3+v5X0jqbA1Fl5dpHyxFvd1tCR3r6R71t/HnR7Gty3BlwMXzdwLre5hvIC/i3K1KoDlSMx/+l7=
3krKE/e9lOtxHdT/nIbtPFQZMPQ6pe4qaedBo72VNu9Xjmr8Q1k+fE1J32szwlTaDxplPH/Yxco=
4x+G6Y5DtCyLigTX7921lcZ0v9d3/XEnPjvo5uj9XLoT9MWWl3YuatjepUUZCB7QdtDRDbdVVz0=
63X07SQyR9MiJqF/EunZh7KtenlbLwxedH+by2UUZufqfsTPh2RNxo+zcR0aqYRhmR/pRyjvCKy=
uPVTTHFkf5JlGPFfpr5u56krH45Sjpmp5QO6TNHuaZxpvoe33Sd1fK1ep+VvyuPp1+tee7IqfNl=
dHqoaJim0PuOV4+7tk+KiEcNef7ykh6uTE3dTtn5fpwyjb1tp/3IBnT0Dryv7/FqoP1O5XfjVjF=
GTYOFghG/+TFW1cMybH9+78IjyqKZbUXm34+TGjTuKOPYlSslKSKu6Ovxb9vbPDLP39osE+emR8=
SxtjfSzJpAl8SQhbIrAdWG5fbuyoDqcrUIqMZ0rvJv2Hvz3lDdfUmDgszPKzsker3q79fMchwHq=
Lm6Xy84qFZdC9UXPYohPw+6fauaXtFs2NAr6iFrwCnTY6bGuZbUc5XzXH6u7J19uLJXdtu+px+q=
rOB7ijJN6H6qmYPWLyJ+WjID7qP8HFzSdCEeEfs6K2PeUEbB/q7Rir1c5kwx7I0yv0IznSODjHM=
cnqSowCslfcv2izTzHXloafe0uoYavWjCxEYcCZUklff8/soqntXCE6uredSnety4WblkQeOar5=
I+qxwt/my5/TzlZ+Al7fe8lW8qOyZ2Vo6Gfkftirr0fFo5X+9I5XHq+cqOlYVqlIIiExs1TXAp2=
V3SZ2z/nzKYOjaa0wrXl3Skc37gj5WjW2e3CR5LoPdK5fI435H0o3L79co06qGBn6TtI+KNztT5=
K5WjxCdopjbAEqqBXUmnfGi5eXYMWVOvT+8Y/wfbT1ReJ65Xs72blR01J5Zt3lV5vnlPucY5Ixq=
KD45p1rnWmbpduxRQNbCzvc+yHOj1Y8RvnpQP2vsj4g2NT57d7quS3jzK6IDtYVW4pBzteXfN4/=
2v1TjK6NmVKx+kTIlpVbmy8hrfUObFf1o5p3Av5dyiXdru6yg8T2uzeI5y051l9jfW7BPkEim0H=
nN9w/nmylxT25+R9OeIeEe53WoO6xjbvEy57tdyyuIar+89pFyzaIk1mUq7Xq9ob/Hk3mdmN+W8=
q9rJ6p5gDbhx2f6WsqPgy5IOrn7ObJ8TEZv3Pf/W0aTSK3t2/whOw/ZWUKYntR6FsX1QVOY3O6t=
mfifar+N3Z2Vp9t6F4o+UPdxtLlhasX24ck3TQR0320fEzi1e49HKCw8r5yT+eK72by4556APGg=
mtm4P+FGVw9GTNXs7jRklfi4jT53D/lo+Imz1gnvqg++Zom1aOTOyqTEleXRmcHhPNa1yeExGb9=
42GnB4RQwseLU1DRtCnciwur328Mk3w9aqkCUbEm6awrRdJOiUifj1m+/sqA5THK6+HTlAGgqdF=
qWQ8oM1qys7NHZQZDb8sbY6LTF0c1OY7kq5Vpmo+RjnHd0Vlp/R5Dft4UUTc3/aByjUfj237vbD=
9bOU58UTlceoRyjmG32ho9yRlZ+HdlR3pqyurp9Yu7WN7pehL8yzH842iRVGZtmy/WZmqv7Jy1F=
TK3+/fyiXA3tzydRb82r2jIPCbR7Z/Mmpvlu2fKHthztbsIiR1aUKvG3D37ZUnrDtFxKo1bWeNM=
rbcx5eqpnJlRHyxxWuMlZY6rqVwkqvmpl8UI+Sm295POUKzsbJU+o4aUlxgaQRUlW0/S9lBcKPt=
tyrnWr07IpaYm2T7QkkPKhdyl0jaI0rVWLdM8S09jP29xUODMA8urnSraJiDa/u0iNim6b4B7Xo=
XgL+Q9ODISo1nR8QWde3GUUZ8r1QG+T8pI75PV0MKbf+JbdQTne0vKEdher2iz5N0S0QMHYWx/W=
5Ja0XEy51VGr+vLNJR+z6Ny7MrLC5h0DF1rjpuRrU0RkOc64z1rKQclbwqWkxFsP3I6Kv6bHubu=
ou4UTsLPLNY9M8kPStKYZ0yGvqNaV+Ylf3dQaXAS0Ss1fD8k5Xnsy8oq6X+QdILphGgzgWPWVBk=
gu2NlCY44bbepcx2WF/5PT5FGQieN8ZrrazsDNhR0lb9nWg17TYubbaPiIHz7vo64BZJukbS4ig=
FrBpef+zU+XJuelyv06wcf340rc+qM4vmpVHqNJRjz/si4t5T2t772gZ5Q9oT+GE8HqGSZKV3c+=
BBMFqmfZZep72VQd8Rkj7S1CM+6iij56By5Xyz/SNJh2j22iwvbDvaMJ/KQXJTST+PiE3LxegXB=
v1d5yKgmmA/z4+ITWw/XFnR7sPKz8USJx7bb1H2oF+jrAC4WUSEs4rioS2Cqf2Vpd23U15YPVM5=
StUmVWwszjmvr6pcGG0t6bNNwXT5rD1V+TdZS5nu+dBp9Px7zBFf27do5phkzfSQti17PtYojDP=
Vcw1l2s37I+KbDb9ir6PpxIj4dRmR+aJm5oe+IIbM87T9Z+U8x8OVJc9n5ZXXHVMn6bgZx3yOht=
Tsw3LKi7821ZwHzfGrvVgatbPAZR5uGUE9RLPnPL8wKsuQTJvtlSOitniRM1PgT8pOgtcoP+efj=
bI+30LjLKj2JeV+SjnytHv/eX0Ot3dmRDzM9nHKkfurlAH8wMyLOdrmypJeqvxerRsRdYuNyw3L=
Pg3qSLN934i4xLOXx6i2qZuHPmkH3B00kzq/iqTV23ROuW/+cPnu/yKGzCn2hFllth+oTC0+UTk=
F4k6SXhINU22c6eQfkHRn5fG79vxk+1VRqv3avn9EXFT3+n1tq1W5V9HsEcPGc+JCRuA3j4aMOE=
QMSKWpfuFtfyoiXj3itu6oXMR5N+WJ9RMRcW3LtiONMtYFFP0HlJpt3ls5T2OdiHiA7U0kPTki3=
tNmn0dle7EyrXQrzazNsncshTXXmvRGh5wl3rdTplFdGBFLzBGbNKCacD97F2bvk3RBRBzmmqIp=
nmw5jl6Q2ft/VWUhje3n+NeqbvMhypNV78LoOkkvqgk07qUcCT9P2Qu7nPL7uL6yItlY6w817ON=
SGfEdZRTGs+eCWdLblMeaY6XmJVVK58aDI9eKe44yfXd7SQ9WdjQNXEKg9KA/TtnJs4lyhPHwUS=
4G5st8jobU7MN9lJ/TofPSnMUvtlbOB/1Y5aHVlSOiQwP/UTsLPLtM/soqxVKUo5P/iAW0DEBPC=
TQWx5AlERYil4IiEXGDc27Tx6e0nbHSBMfc1luV8/lXVc53PlU54ldbj8BZJK03D3WxMhi2cjTt=
tzGgSJrtAyJiD89eHqMn6jpS5qADbqzltGx/SHlM7HWE76zM/BrY0eQJssoqr/FU5VSEGyU9sk2=
HiO1LJe0UEW2q0/dfR3dq1G4SFHeZRzHacg7V3uiRLtbLl/jpyiIZD4z2i3j2NC7d0GeSAgg9By=
qLgnxekiLifNuHKatUzbnI0cxRCkksTec4i+0cqExT+ZvyQnkJEfFe2z/WTEDV69lZTjnyM02/t=
90r2vIB27cr2x0oJluOo9fb/nfbd1NWB2tVbW9cJVDbtFwYOZqr3X1cOeLZO5H/V1mie3Pl4vPT=
GAlf5Jk1CR8jqTqPcJrH+zcolxC5THnsWl/Dl4Ho/71/rhz52UntllS5OWbSAZ8k6UuRKeE/cla=
2GyhyLs6xko4tn81dJZ1o+10xT8sDjGCkoglzodLD7fL/H5Vr89VZUXkxvbxml7C/Qc0Fmm6xfc=
++zoK6gl6Lyraq58beBebSXDplINs7KbMeVlQu5v4gZZXMBX3eiYjqEg2vVR7HprGd75Ufr1d2a=
E7T05UFhL6vrFZ6ZrRYSiBmiqTtr6w4fky5vaNKcbIBbXrH3B37t+Gsnly3vdoRyDoeYzktz6xT=
+obSIfdw5ffrDNUUkomIj1Reo5dV9kJlhslHhrWrtPli2ddNJN1b0ndtfzoiPtPQ9E9tg75Bmx2=
zXecQ+M2jcmL7hLJ4SSi/XPtExG8GPH2SodjXKYurvFXSWzxTKbPtEPXvJP2hd9AqvZbr1Dx/4s=
qVklaJiLM9u6rnnC6oXfZpzgrfzJeYqXK1v+1jlekbQ9NvJgyoJvFs5RyYD0fEdc6KXSMVMxrB9=
0ow/CHlguOhDIynpgQLz1DpUe19VmP4vMK5WMNxVIdLOsn2Ncrg+BTp1hP81MqyR8SPnVXZbq3q=
qdkVV6vPHWc906r/ls/Wtcrg9r2Vx2o7msp7+ERl0LeBMsVsrtfunAvvcZbXf51mRkP2meYGY4x=
1JyPTY0+yfcgY2RLVzgKppGzWPP8PNd+1eVFS4FbtC46GeYdyrtWJkhQR503xez8tc36x7Dla3m=
oUkXNDV1MGNo+TdKDtP0VZ17WFh0bEnpXX+4FzjnKd07XkmqKD7psrm2v05bQ+rrJOacm0+Jak3=
jSdj6umc3JAVtlmbbPKlNVjX1L29Tcl+2foiH0lS+Qc219XVpyvFhAcdgxf01nldDlJq/dlmzRm=
l3QVgd/8OkzSZzRTynsXZQ/JoMm397V9vvLAe8/yszQTvA0tIR8RQ0dZWjpSmb7Tc0u576GDn65=
9JB3lXPx3iQIILbd5je17qpwIbD9TYy4L0eCmAffdmqIgacEEfh4yR6D3WFM65HyLXNT4W7bvXF=
JppQwAprGt3vv0Tecc05VajMBJkmyfolyY/BRlVbbGifPFd5TB07mqnHRqzMVI+Ejme8S3pE8+W=
1l+/AdlpP5JyrTtlZXpl8PaHqpMr76u3L6Dcg5y7cLfkt6uXJJhkbIX/qLS/lGqWc6hbO8ByvLq=
74yIC1v9kkvBoNEQ2/tMe7vlPdhIswvKnFzz/I9HxD6SPu0Bi9IPGt3yzJIzvc6ClylHT45Xlqw=
furm2v8dcKpkneyrPg+cql674aER8qKHpzRFxfV9n5rJmGnOBxlreahLOqtiPUBac21w517e/GF=
2da0q66FeUf5PnKrNMBm3rLsrj4cq2H6yZz+3qyrli0zLOclpjdU5OmlUWER/ru3296pdyqQagf=
1em9t/aXMM7707STGbXyX2v0ya7pJOY4zePbJ8VfYUuXCY4D3juRAtrTsKDK162KdQwSeXKeygP=
Ilsre/J/o1xeYZq/58iFb+bTkDkCPbVzBZYGL7le3WLlem5ztl6dJ1z4vbS5h7Ln9xHK0fd/Ked=
7vKah3UjFcTwHSwEsdLYPUc7ROVvZgfVb5d/0zRHx7Ya2P4+++Z+D7hvQ7q6S/ixptWoPs+3bK8=
9pAy9CbP9XMx0/1RNfYyaERywqMA22fxcRi5ufOfbrv0R5PFxPmS72MOW6WnVzkh4SEed6hCJkH=
r8A0R3bfL/nWu98WDo2H6JMfz23rvO1tPuich23fZXHqL0krVAdOVoIPLuIxayHJK0cEcv8AIHt=
72ums++n0bDG6ID2d9Tsxe1PVnYeDSrusrukFygDzGpwe6OkQ6Y1ylSuFx6kEZbTsn1pDJnD2/D=
Yf8s2btYIx1LbR0TEs73k2riNAxql/RKVggfdV3lsK2VaL4FOBYHfPHKW271OeaIL5QTa2ylHAQ=
dWiFoanGvcfSrKJGvnWk17xZQqXrqyxmG5eFtuhFGYcbY3duEbDOd5WK9u3IvGAa9zV2Xv7yOUI=
yq/i4gdGtocoPxeXNByG0tlKYD55Cy0sknkEhUrKYsK3avN71Y+L9v2vnvle3lSNBSDsv0D5fpW=
Jyrn7J0aOadxajxiUYEp7cMVEXH3Kb7+BcqsjjNLoHNf5cXt0A6K8p7vqVyY/AJJX2x6L7wUl5w=
Zh+2LlMeXwyR9OiJOatkRuoqkt2hmdOI4Se+JFnPLuswz6/4OVBeoTLjdeS20Y/sZ0aJK8Rxub+=
QK8PPdOWn7rhHxh2EDG00d/R6xerBzbuYWkv5PZX53F867k1rme3KWMb0v0cv67n+R8kC4RIWop=
WRPSV+1/WllT8wVkp4/rY1Flh5+SPl5UCrmnJk0RWE+2X505FpsTx/0+LR6Difwn4j4i+3lbC8X=
ESc4y/XPpUWVDpKdlYuwflOZ8nlemxew/f+UAcphyqUAXh0R/23R9OGSXuCs9PYvNfRSRi7Su3X=
fSPj3RxkJXwb8u/e3i4h/2v6/EU6sH5F0uu3eIsHP0uz5egNFxI4l4NhWmUr+Ydu/08yJvdUyNC=
OapKjAXJl2L+0/y3so27eLLEl/n4Y2hyoL0ZyiXKNsY+WoYZ2lVYBoXJ+XdLkyDfXkctFaO8evd=
GYeHRGPVQZ/mPHh8v/TlamJXym3d1X+neecJyy046w2/XotWTFz6Gh4RHzTI641O4m6AK/GPpp8=
mk5rUaqojprJ5ZnqwWvbfm3lodWVKf/DtrdnaX9f5fHpEOfc6ROU54vTIot+3aYw4oehnCXyPc3=
Rt8q2Wq9xOOF2xkpRWBpsvzMi9vMIy4AsTZ6H9eo8Nwu/760M4u6unIN4kqSTo1QXrGk3Vi9ll9=
n+u6ReGW4rK7VdqvapO/dXjrha0o8j4uIx92ND5Yl9B0l3iYgtxnmdAa/b63R5lPIi9dtqV1Rg3=
O0ttbQ720cpi6vsoxy5v1aZmviEmjbVBaeXV66lWVu8wktxyZm5Uglc655ztKTnRcu5x7c1tk+O=
iEc23TdH2zpX+Zk+MUoquStLpbRo/wtJ+yuDo1sDhahZksfzvNass0DKpyTdTxm4LZJ0U5trGs/=
/OqWjrsf3KGVH357K96HnRknfjYhfj7DtlZXvyY6StoqIgUXIuozAbx54DuYlzbf57Kkq21smgh=
ssyfYdIuLakqZbXa9uDUlfjSy1P1fbmrOLxtKx8UJlT+560bKUtu07a/b3YhojTMuEYcFwT5uge=
K7/nrZXjIh/T/IaldcadFzq6ezxqVxoraEs2DN0PlR/mlVd2lVfu7HX8JxvZYSgOr/rJOVoUW1A=
Z/sI5TzJH2p2Z+acV61cFtn+paQnRsRl5faGko6JiPtNYVtnRcSWrswhHjHwOzciHjLiNud1rVn=
b5ygLBh6pHLV7vqSNIuJ/prG9SYybOm97/XE6Wp2FA6+MiH/Z3la5jMSXohQWu60h8JsHnmBeku=
1tlGWh11emGPR6RqaWFjrfPVWo575lBHr3TzMQH4Xtq5XFNk6XdJqk02OKy0dMetFYRpcfrlwD7=
AxlmtopvQuQmnb9xWvWl/TLmMPiNcsa28cpU2Z+EBEjVXCd9O85ZHTsemVBhdc1vZ8j7utIRQW6=
wg0FZTzhgtPLAtvfVFZMPLTc9TxJm0bEwBT8SrvdB90fEYcOuv+2xvYOyikX1eU8XhYRx01hWxM=
V2rH9DuUx6ijNHvEf2mlfCTbPVKa1/kXShRGx0bi/R8M+nhMRm1cDWtunz2XGzVyxfdo4I/vOAj=
aDqgfXFror00A2V37GjpN0tKT71GUzdBmB3zzwBJPZSzrba7RkisGcjaIM2Oa89VSVVK97xkwhm=
Y8pe5qlnEi/oHp/lwbn2n29ZQSqn4HGhVLnSwm8tq78W1vSmcoc+qGLai8Ntp+lTO3804jtpl68=
ZlnjLF2+Q/l3b0lnKQPBH0fD/NlJ/56236lc2PwwZaCxizId81eSXh4R2471Sw3e1khFBbrCUy4=
osywYdI5uOm+jndKped9y85KIaLNMzjjbqRbasfLi/93RstCOc153v9oOeNtvU6ZePkZZwC8kfS=
Ei3jbi7rdi+2TlsihfkPRH5bIOL4iGIkRLg+1PaIzUeZdaEMVKyiD+5oh4Y0O7n0Wu5fgG5VzmT=
7lFBemuIvCbB5PMS/KAJSCmbUBP1V8lXTCNnipnha/3RcTp5fbFkt6mHHF8RkQ8da63uaxp+ows=
NCWt4gnKIg/rRsRU1qwbl3MR5udI2jAi3u1cc/AuEXF2Q7tej+ovJD04spLl2TFH88mWdeXvuqV=
y7sRjlGm/xw8L/Cf9ew46Nrosj+MWVRdbbqNXVGAfSdW1p1ZXVmZdcBdVc6lpxO+2wPYZkt4QEa=
eW29tI+nBEbDXk+U9Rpo5/ptw+S9kRJklvjIhvDGp3W2R7ay2ZyfKlpbZDU1IC3NZrzY65jfUl/=
Uk5v+81yg70z0bEpbUNl4K5nNpj+6SIGFjRtPKcs5QL0r9FmWL6m2XtumouLcQKWl10uKSTbF+j=
vBg6RZKc85KaDgQnOCtRfkuze0amORL2PdtrSvqgZio9fWFK27prL+grbohSAtl2f/XT26rTbT8=
wWi4jMN/KyXtrSVspC6Zcphzte66khThi+xlJ/1WONr1bOUH8m8pS9nWuK6PfJyur3l6tLBIESZ=
HVPc8o/95uey1Jj69p0vt7nqLx/p7/tf1sSb0L6WrK/Fz1aK6oTAleXtJqlftv6NveMsuzq+TNe=
kj5u9/W7SnpS865flIWvRmYxlm8UTn63HM75bHl9pIO1szn9TbN9peVxaDO00wmS0ias8CvBBjD=
jgXRdvqK7RUkvVwz8zxPlPT5aFgPsD+wtT21wDYifussXHLXiHjnNLYxVyLiheO0cy7507Occl3=
Nu7Ro+kLl9/i9JejbUDPVZG9zGPGbJ+POS/LgRbyjKad5zH0cVITmucrKh1MpQmP7VxExsGS4sz=
T8ved6m8sKzyxyuryy4ullarGMwHxzVkr9maSPSvp2RPx9Ke9SrUrax62pHm1GiDwPxWuWVbbXU=
6Y1PVwZVJ8qae+IuLKmzSqS/qn8PD9XOYr21bbHGdv3kPQJZYdDKDsbXiPp95Ie0huhmQses6jA=
ssD2fnWPL/SLyPlie3VJiogbbO8TER8f8ryfRsRDK7c/HRGvKj+fGREPm5cdXuCcxV02jilehNp=
+xoC7FytH8BdFxHotX+cLklbQ7Hmet0TES2raDAxsY0rFfVxZsiIiNvSIS1bMp3Lt+zlJ60TEA2=
xvIunJEfGehna/UR7rrewk/I3yd5yzY/1tAYHfPHBWWzpN0g+U5YQX5AKunqPFsUfc5gmS9o2Is=
/ruf5hyUfdt53qbywrPQcXE+VDmefVG/bZQBqo/Uxn9iTkssjEXStrH1pJ+WgLAtZUdMkPz/Z3r=
ch0XuS4X+tj+oXKu3ZfLXc+VtFtEPG7AcwcVZXH5/5+S/p+kt0TEj2u2t0h5fHjDpPvehscsKoB=
uqkuBtX1pRNxryGP/LyLuOd29WzbYPlLSXlHWdpuH7d1D0v8oR+0+JumL0bL676COwabOwvkIbP=
u2N9GSFfPJ9kmS3qAcNe3t69RSL21vpFxmamPNriC9UNbOnlekes6Phyl7wneQ9E7bf1FOLv5Bt=
Kh+6PlbWmHixbHH8CZJX7d9iGbSAh+iTKXZeVij24g/KdMT7iXpAuWJasGlFpYR4m+Vf72RnBdJ=
eqekDVWzwOpS8klldbY7236vMmXvrXUNIuIW23+3vcY052ksw9aOiOq8jUNs7zPoiRGx2qD7pVs=
DugdI+qpm1pUa9Bq3ePZE/2l7feXnW4sKzOP2sbC45rGzbL80Ig6c1SCnLtTOI76NWUvSxbbP1u=
xpLHM6QmX7fsq5XQ+W9CFJe45xHr3F9j2jrPVagsimhb8vVKYhzktgqyxycr1d99FcMFaJiLP79=
rXxPRk35VaZYr2fMuDfTpn6uUz8oaaBwG8elIPMieWfbN9VWQDhPaUn4oyIeMWgth6ytMKUdnWR=
ZxamfYykanW9qXxWypd/S0mvkvSCcvdFkh4WI1Zd7KBDJf1HOQdqR2Vv1d5LdY8GKHNfekUwtla=
eYC+V9F3lSPeCEhFfLb2jj/n/7d15lGRVle/x768KkZJRBl2NCE4og8jcDYh2K6LycECUVkTbgW=
XLckAGhyf4VKRtBRsnaAfURrRRAVucmSxkplSQoaAd+wktXTwZZBRUwN/745ygIrMiMyMzI+JGR=
P4+a+WqiBt5456CrIy7z9lnb8ov/33cXT+hPwLL6+pW+nJNdKukV1H2MwPsTylfPiu2HwSulnR8=
F99+pUqT7NOZ+P+jp03V63tObtR8SZ21joVpulWcQ4FvSnolEyczHw7s0+dxjZL39/sCdVVxJ0o=
K5KGUYG2dVsAxi+0r76DUW/i/lM+MzSjBw3QGEti2ubb+zC2u95UHU1osDaNbVYrAGUDSy+guQP=
40JeX2U/X5q+uxKVNuqyW2l0pSzZR6v6SLKMHggpNUz4apVMLb1VP0g9JgWyv0rDn2LK55IiUF9=
ge27+71+48yScttb1Mfr0bppTh05eMl3ULZX3Vp/fqx7fuaHVXvKX25pqRSGfUEVu63u5Syx69v=
6cjqYWW4Lq7VqajAJ6fanxyjb4qUZCg3/ktsTzsZKunZlEwdgOtsn9fjIcYMJF3Pyv+HrT9bKz2=
eTaqfSmXOp9TzZ2w9IaljpUnbfZkw0jxbVgxSXTE9kTJRfDtlr94BM31ezCXltn7PJcAzKIWVzq=
PsA//wQv39ncBvAFRaFkz5H3q6GSANvgnovJpjz/F6z6esvvwZOAc4y/bVvb7WqNGkPmGTnw8LS=
UdQ0pavbHos05l0I6e2x6tRNsQnAyI6WqhFBSTt0I/f+7FwzRBQ2/Y6PbxWK4Npvu+zGNibVVtP=
fHS+772QqRRMW9TtpH+tQ7HfpJTbr890X6RSuPBnwHqUSt7rAsfaXjaP4Y+sBH4D0Dbzsy8l57t=
VRnZ/4HrbR0xzbqcmoJ+z/d7+jbgZkjagzFbtBTyNkiZzlu3TGh1YQyQ9yMoUNgFLgHvpwwfkfE=
h6BSV43xa4mrKCe47t2xsd2AwkrQ28CXgjcIbtw6f4vvTlmkJNyZxuUqtvabCaolR7P1b8FipJn=
7P9hqbHETEXtbDejcBZlHuJ6+f4Pt+npvpTqhYD01e8lbQvcAzwKMpndl8+t+ezsNCUuj3kfazc=
q3cBZSJt2v3zkvag7NebkHJru1P1+5hCAr8BknSh7WfOdGya8/veBHSY1OINz7f9wabHEt2RtD0=
lCHwupajLDygfuENT1EClR+UhwD9QKlF+zNO0ZKhpIq+w/dv6/CrKRMyawEm29+jzkIfWVOmvLf=
1Mg9XEUu1rAC8BVvQj2JxHUYGIaJBKdey9KJ9Lj6G0mjkTuGCmdM2295h1dUxJv6Y0C+9m//icT=
ZVS2tKv1NL5kPQflOI37e0xtrW9bxfndp1yO4pB8SAk8BsglfK+e7uWt1dpIvl921t2+N5OPfVe=
CtxAn3rqNan+Y34pq6ZS9KN6aQyASt+rPYHn2f7Hmb5/AOPZEDicUi3234Dju5lEUfpyjYS6X/o=
H7k+P01n38Ro1kpZOnsTodCxiVNUJnGdQgsC/A26xvXcX5x0DLLV9ziyudUk/6iJMca3FlDoMrx=
rE9eZL0lW2t5vpWNtrc7ofHsWgeBCyp2WwDgHOr5WhoAQ5U90QfxZ4DoBKT70Ps7Kn3omU6p7j5=
FvAncAVtFXAitFRN5cfDjy2BnqPBv40DEFfdQNwCyVV5F7gQLWVk55mv8Yj25+0gr5qIwKVXojv=
YtU+SYPsc7c5pShVP+w8qYDAeZLGYh+ypDUolaM3lPRIVha/WAfYuLGBRfSIpEfZvrmu0J9H+fe=
7BdBtQbllwBl1cul+ukvbvFzSqcA3mVjVsx9Vhx+UtJGk1d1lb8KG3Sdp99YeaUlPB6YrCDen++=
GFGtjNJIHfgNRfGOtSbk62qIenW6Zuoqdekzax/fymBxHzchIlcN+tPr+RUmr/u42NaKKPsDLtY=
8pech2kL9fMTgFOpRRAOIjSh/OWfl6wrUhEq1DP/6MEn/0wlz5eo+KNlEnJjSn/fluB312UfeUR=
o+4iSf+nVS9A0uHAgba36vL84ygVi5e7+zS5dSgTjO0V2E3td9sH11PazHybie1thrEAzUHAl+p=
ePwG/Z2U7r07mdD8saTnTp3oOXXP7QUiq5wDNcj/ftcB2th+Q9HPgH21f2HrN9pTNjUeRSluH42=
0vb3osMTeSLre9k6QrbW9fj81YannYSXoUK2dtV+nL5fSbRNIVtnds3wsj6QLb06bajIqFUFRA0=
lttd9M/MWKkqPROPpFSoOXRlAqPh9u+p8vzzwb2sv2XGb+5IZI69qSbrgBN0+p2EGzfNcP3zel+=
uO7vnJL72G5omGXFb7DOlfR2ysx4+4xMp/zkrwIXSLqVsgR+EYBKT72xKe7SNiOzGvC6mgb7J1a=
mUizIGZkR9WdJS1jZlPWJjEHaru2bgd00sS/X95y+XO1aRU5ukrQ3sALYpN8XrZXzdqf8zF1k+5=
v9uI5L89/NmUUfr1Eh6Z9tH2H7eEl72j636TFF9JLtmySdBbybUpXz3d0GfdVNlG06ZzIxbXOV1=
TRJ77R97FQVj/tV6dj2USp9nu3aimtYTa7p0NpyMU1NhzndDy/UwG4mWfEbIJVeUJPZUzQR1YB7=
6jUhMzLjQ9KewHso+7zOAZ4OvNb2+U2OK/pP0gsoH8aPpbSfWQc4yva3+3jNTwFPotwUQEkB+i/=
bb+7hNca+yJba+oNqSHuFRsyHpHMpwdvBlAmpfwMutP32Ls/vejVN0gttf2eqisf9qHQs6U3A/6=
ZUmga4BzjG9qd6fa1eqEF4q6bDQynzto+b5pw53w/Xc48HtgRWp1Qc/8MMezTHVgK/GAqS1u9w+=
G6nXPpIqHtYXwYsBXahrIoss31rowOLvpJ0jO13SdrP9ukDvvZ1wFNbe27qz+By21tPf+asrvFT=
4Dm2f1+LCnyNlUUFtrQ98kW2EvjFuJO0T3s2QK2CeYTto5sbVW9Ieg9lX/1bvLJi/BOATwA/sv1=
PTY6vk0FvV1Lp5/gKSs2BnSitnJ5k+8hBjWGYJPAbIKUX1JQkXU9ZLbidEjSsR5mhuxl4g+0rGh=
tcdGU2e1ibNDnNpHV8mjSTmEJN1d6BcoMx0IBB0jeAQ1tZATV74MO29+/hNR7aoyrpXynl399fn=
09ZfnyUSLoR+Cjl9+6h9fFDhrQ4RMSsSNod2Nz2SSqtfda23SkLq9O5TwbezqqfGVNWLa6rjPvZ=
vqM+fyTwNdvPm/NfovN1fkHpgffHSceXAFfbfnIvr9cLg67p0FZ/oH0P+qW2d5vp3HGUPX6D9Wl=
KL6jW8vur67Gx6QU1D2cBZ9g+G0DScym9dk6j/Pf6mwbHFt2ZzR7WJqV1SO+cBdwKrCmpfYN+N+=
XO50Qrm/KuC/xM0o/r878BLu3x5RZLWs32A8AeTGy/My6fn59jZZXb9scRY6Gmau5E2aN7EiXd7=
98p2xG6cTrwGeDzdF/Nd6NW0Adg+/ZaKKznJgd99dh9koaqGE2DNR3ulbQ6cJWkYymLCmvOcM7Y=
GpcPrlExtr2gemAn2we1ntg+pxYdOKyu0MTwe339s32PlYGOe1gblNYhvfMe2++Q9C3bLx7QNf9=
lQNeBhVFk65eUfTO3NT2QiD55CbA9tSqz7RWSZjPB8YDtT8/ymg9K2tT2f8NDGQn9SLG7UdIetp=
e2H6zFyG7qw/Xm4wUNXffVwCLgLZSshsdSsn4WpAR+gzXOvaDm6/eS3kXZQwOlUMPtNRd/qGato=
jPbj296DF26VNI2g0ozGXOXUVI9py3H3UuuTXklrQncZ/svNRVrC+DMHl/rg5KWsrKoQOvGbRFl=
r9842Aw4vW5FWEr5b/jjtr9rxKj7s21Lau0H7mq1p632wHdqAZUzmFjVc7psliOBiyW1mog/k4k=
ZA71yMPAtSRdTslgM7ExZzRzUZFy3fkfp4fckYDnwhZpN0Ve2b5C0UX08tO0tBiV7/AZIC6AX1F=
zVnPv3UUqzC7gYOIoyq76p7V83OLzowqjsYZX0n5QPnt+Q1iHzotJf6SPAe4F3TH7ddr+aFSPpC=
uAZwCOBZcDlwL22D+jXNcdZXQF5DiXF/q8pvc7OAs52elXGCGq1KqlbEDYH9gQ+RMlO+Ypn6FtZ=
K7Gb8hkx2ZQV2dvO35CVxc4u61exM0lrAK+ktBsScB1wSqcU0CZJOpXS+uciYC/gBttv6+P1RLm=
vfAvlv8si4AHK/sIFu6c/gd8AtCreSXo8pb/V2PWCipD0ecoe1la56lcDD9oemj2s9YPgGZRy/B=
Okdcjs1YIJBwB/D0xu3WDbr1/1rJ5d+6e2d5D0VmCJS++ssSi4MgwkbUW5OXturwtSRAzCpIq1e=
wLPpdx7ne0B9KuU9BjKBH97QZgL+33dYSVpue1t6uPVKJkFfSsKJulQ4H9RGr7/ph57AqW2xlm2=
P9avaw+zBH4D0HaDklLZk0j6uO1D2go2TGD7RQ0MK+agvQLidMeaJukK2zs2PY5xIulA218Y8DW=
vBN4EfAw40PZ17TcW0R1JW9j+uaSOn00ek56xsfDUGgp/R+cVu64Lj0l6M2UF7Y76/JHA/p6mT5=
6kYyhbVq5j5XYVL+R7msn3wP2+J66fEXtOXmmtaZ/n2N6+X9ceZtnjNxi3Sfoh8HhJqzQ0Xsi/C=
IAv1z8HWbAh+mNU9rAuk7Sz7Z80PZAxcr9Kc/MJbH+pj9c8BHg3pRrwdfXnbcGnzc/BYZS9R52a=
JxuYsmR9xJDbgrLvTUycWG4977bw2Bts/2vrSa3Q+QZWVmjvZB/gKcnqmmDbturPApbU5/2qAv2=
wTum1tm+pW1MWpKz4DUAtI7sDJchZJe2tVaxgoat9Zza1/YumxxKzNyp7WOsev6cA11PaTmSP3z=
xJat8rswal9cFPPQYNziNiNEm6sherOpKuofTKaxWHWQxcY3vrac45k9LH7575Xr/LMT4bWGb73=
kFcbxRMt6K4kDPwsuI3ALb/TFllOHJykCdpv4aGNVQkvZCy6rc6ZWV0O+ADC3w1dKTYXippc4Z/=
D+teTQ9g3NieUOFS0rqsXM3vqaSH90e9md2bVZtUp4F7LHRnA6dJ+gzld85BlMJH07mX0jduKRM=
rgR7cpzG+FviMpNsoxVMuAi62fXufrjcK2lcY24kyQbkgZcVvgDrNMCzkWYd2tULfs4HzWzN0kq=
7JKszoGKUbx1qUZHPbJ9V8/7Vam79j/moazTW2t+zDe+9o+wpJf9vp9WRQzI2k7wN/pJRZf6iFT=
sqfx6iS9FrbX+zB+ywC3kjJZBBwDvB521NuZZD0mk7HbZ/c6XivSNoYeBnwdmBj21ngiQnyAzEA=
kvaiVBZ6jKRPtr20DqW0bJQGqXeWoosxor5DhxvHYSPpfcBOlJXJkyiVSP+d0vco5mDS6tsiYCv=
gtH5cqwZ9iyn7bl7Vj2ssUJtkoi3GSS+Cvvo+f6FUguy6iXu/A7zJJL2KUrF6G+BW4ATKql/EBA=
n8BmMFpcfUiygbjVvuBg5tZETD51pJrwQW13TBg4FLGx5TzM6o3Di+BNge+CmA7RW1h1nMXXtxp=
gco/Zlu7NfFbD8oaSNJq9dU+pi/MyU91/Y5TQ8kYhhIOs3230taTue08lU+7+ZyTo98HPgv4DPA=
D21f36frxIhLqueA1BnqL6W5cGeSHgEcSVufHeDoYWtAGlOr5auXDvuNo6Qf2/7rtjYra1Ka645=
C0Dr0atPi29znDxdJn6UUzfo2pUgPMJypxaNA0ksoK9+LKE2W+1VpL2KgJD3d9iUzHetw3l/Zvk=
nSZp1e79T7VdIzKBkvkye+NgNW2P717EbfPUlbA88Edqc0rP+F7Vf363oxmhY1PYCFouaCb1Arf=
MYktu+1faTtnW3vVB8n6Bsty4AzJN0n6S5Jd0+xsbppp9WgYb1akvsHwOcaHtNIkrSLpPMlfUPS=
9pKuBa4Ffifp+X2+/Argu5TPsbXbvmJujgN2BR5hex3bayfoizFxfJfHJrB9U/3zhvYvSlC3+xS=
nvQu4u8M591J6jvaFpHWATSkB5uOAdRniLRfRnKR6DtYNwCW1l19mqFllb9AqUqFvpLRuHJf3e7=
VnPmz/i6Q9gbso+/zea/vchoc1qk4AjqDcZJwH7GV7maQtgK8yc+W7OakZFJtnj19P/Qq4dpj/7=
UbMhqRdgd2AjSQd1vbSOsDiLs5fB3gz8BhKZsG5wFsohVOuAk7pcNrjbF8z+aDtyyU9bpZ/hdm4=
uO3rhH6m2sdoS+A3WCvqV2uGOtK4fZyMzI1jDfQS7M3faq3UXkkfsL0MwPbP+1moKXv8+uIm4Pz=
af6y9/PyCnZiMkbc6sBblXrf9nusuSuXLmXwZuB24jNKD+R31PV9s+6opzpmuTcCSLq45J62tCp=
LWtP2Hmb4/Fq4EfgOUstirSun1sTISN46S9gWOAR5F2ceUvUxz155KdN+k1/o9AXA9yaDopd/Ur=
9XrV8RIq/cXF0j6Yms/Xm3NsJbtbrYhPMH2NvW8z1OqZW5q++5pzvmJpDfYnrB9QNKBTCzu11N1=
dfMLlEB3U0nbAm+0/aZ+XTNGUwK/Aar9wt4JbE3brJDtZzc2qCFRK3l+iFIGvv2/zRMaG1TM1qj=
cOB4LvND2z5oeyBhoNcgVsKRtT+cgGuQmg6KHMjEZY+xDkg4CHqQEX+tK+qjtj8xw3v2tBzXL4D=
czBH0Ah1D2uh/AykBvJ8pn4kvmNPrufBx4HiUlFdtXS3pmH68XIyqB32CdApwKvAA4CHgNcEujI=
xoeJwHvo2x+fhbwOsrNY4yIEbpx/F2Cvt6wPeM+mT5ee1R+3kZCJiZjjG1l+64ajH2fUoDlCmCm=
wG/bSZNZS9omujpmidj+HbCbpGcBT62Hv2f7vF78RaZj+7eTUuynbDAfC1cCv8HawPYXJL2tLQU=
hqY7FEttLJammZLxf0kWUYDCGmKSP2z5kqkI9w1Kgp6Z4Alwu6VTgm0xMSf1GE+OKuUmg0nOZmI=
xx9TBJDwP2oRQ+uV/SjKno85nYsv1D4IdzPX8OfitpN8C1evzBQCY4YxUJ/AarlTZwk6S9KWlKm=
zQ4nmHyx5p7/ytJbwH+h7IHK4bfl+ufw16o54Vtj++l9IxsMZDAb7QkUOmtTEzGuPosZU/w1cCF=
tS/fMLYamo+DgE9QKpDeCJxDqUgaMUEauA+QpBcAFwGPpfSQWQc4yva3Gx3YEJC0M2V2aj3gaEp=
5+GNs/6jJcUX36g3jJ2Y61rS5NvON4SLpCts7SrqmraLdBbb/tumxjSJJy2zvIuls4JOUicmv23=
5iw0OL6DlJq9l+oOlxRAxaAr8YSpJWA15uu1OfnBhCkn5qe4dJx660vX1TY+pkinGuciyGWwKV3=
srEZIwrSY8G/hnY2PZekrYCdrX9hYaHNm+S3jvNy7Z99MAGEyMhqZ4DIOl4pm9SfvAAhzNUpmiQ=
+mZKg9Sr6dwgNYaIpP2BVwKPr6X1W9YGbmtmVKuabzPfGDr/JGld4HBWBiqHNjuk0WX7u/XhnZQ=
CWxHj4ouUAnJH1ue/pKSJj3zgR1srmzZrAgcCG1AyqCIeksBvMC5ve3wUKVjSbqoGqftM0yA1hs=
ullB5+GwLHtR2/G7imkRF1Nt9mvjFEEqj0hqR32j52qgnKhTwxGWNjQ9unSXo3gO0HJI1FxUvbD=
33mSlobeBulKvrXmPh5HAEk8BsI2ye3Hks6pP15zKlBagyRWoX1BmDXpscyHdsXSLoY2CatAEZX=
Mih6rlX57/JpvytidP1B0gbU3xuSdqFMGI0FSesDhwEHACcDO9i+vdlRxbBK4Dd42VQ50VwapMY=
QkXQ3nX+up+x11JT6M7Z+0+OIeUkGRQ/Z/k79MxOSMa4Op2wleaKkS4CNGJMsD0kfAfYFTqRMat=
7T8JBiyKW4y4CliMRENd2ilaMuYAml1P7QBQ0xHiQdB2wOnE7b/oj08Rs9w1g8aNRM2pe7imHpw=
xkxW5IOAS4BrqyHnkK5t/iF7funOm+USPoLpR/tA0ycgM09VHSUFb8BmLQi8ghJrf4xC/4f5nwa=
pMZwkvQoJjbU/u8Gh9PJ+pSiM+2NvtPHbzRl5nL+dgV+C3wV+BHlcyliHGxC6W23BWW/+aWUQHA=
F8PsGx9Uzthc1PYYYLVnxi4iekPQiymbyjYGbgc2An9neutGBxdhKBsX8SVoM7AnsDzwN+B7wVd=
vXNTqwiB6RtDqwE6Wq86716w7bWzU6sIgGZKYgInrlaGAX4Je2Hw/sQZldHSqSNpF0hqSbJf1O0=
n9I2qTpcUV3JN0t6a6aOfG01uPW8abHN2psP2j7LNuvofz7/TVwvqS3Njy0iF5ZQmn3sm79WkFZ=
3Y5YcJLqGRG9cr/t2yQtkrTI9g8lHdP0oDo4CfgKsF99/qp6bM/GRhRds732zN8VsyHp4cDelFW=
/xwGfJKnPMeIknQhsTWkt9CNKqudHU/EyFrIEfhHRK3dIWgu4EDhF0s2UDefDZiPbJ7U9/2ItAh=
Cx4Eg6GXgqcCZwlO1rGx5SRK9sCjwc+BXwP8CNwB1NDiiiadnjFxE9IWlN4D5KCvkBlJSaU2zf1=
ujAJpH0A+CLlGIWUFY5Xmd7j8YGFdGQWhWwVd02VQFjrEgSZdVvt/r1VEphl8tspxVMLDgJ/CKi=
5yRtCNzmIfwFI2lT4ATKBn9T0n/eVhvRR0TEmKn7uJ9OCf5eAGxge71GBxXRgAR+ETEvknYBPky=
ZRT0a+DKwIWXl7x9sn9Xg8CIiYgGSdDAl0Hs6cD+l2Nhl9c/ltv/S4PAiGpHALyLmRdLlwBGU1M=
4Tgb1sL5O0BaUs/FA02Jb03mletu2jBzaYiIjoK0kfpfbus31T0+OJGAYJ/CJiXiRdZXu7+vhnt=
rdse+3KIQr8Du9weE3gQEraz1oDHlJERETEwKSqZ0TMV3u6zH2TXhuamSXbx7UeS1obeBvwOuBr=
lMbzEREREWMrgV9EzNe2tXG2gCVtTbQFrNHcsFYlaX3gMErV0ZOBHdLTKSIiIhaCBH4RMS+2Fzc=
9hm5I+giwL2Uf4ja272l4SBEREREDkz1+EbEg1H5lf6I0lU+/soiIiFhQEvhFRERERESMuUVNDy=
AiIiIiIiL6K4FfRERERETEmEvgFxERERERMeYS+EVERFSSHpR0laRrJX1H0npzfJ+NJX29x8OLi=
IiYsxR3iYiIqCTdY3ut+vhk4Je2P9jwsCIiIuYtK34RERGdXQY8BkDSEyWdJekKSRdJ2qLt+DJJ=
P5H0AUn31OOPk3RtfbyGpJMkLZd0paRn1eOvlfSN+r6/knRsQ3/PiIhYABL4RURETCJpMbAH8O1=
66ETgrbZ3BN4OfKoe/wTwCds7AyumeLs3A9jeBtgfOFnSGvW17YCXA9sAL5f02B7/VSIiIoAEfh=
EREe2WSLoKuA1YHzhX0lrAbsDp9bXPAn9Vv39X4PT6+CtTvOfuwJcBbP8cuAF4cn1tqe07bf8R+=
E9gs57+bSIiIqoEfhERESvdZ3s7SgC2OmW1bhFwh+3t2r62nMV7aprX/tT2+EFgtdkOOCIiohsJ=
/CIiIiaxfSdwMCWt8z7gN5L2A1Cxbf3WZcBL6+NXTPF2FwIH1HOfDGwK/KJPQ4+IiOgogV9EREQ=
Htq8ErqYEdAcAB0q6GrgOeHH9tkOAwyT9mJL+eWeHt/oUsFjScuBU4LW2/9Th+yIiIvom7RwiIi=
LmSNIjKOmhlvQKYH/bL57pvIiIiEHLXoKIiIi52xE4QZKAO4DXNzuciIiIzrLiFxERERERMeayx=
y8iIiIiImLMJfCLiIiIiIgYcwn8IiIiIiIixlwCv4iIiIiIiDGXwC8iIiIiImLMJfCLiIiIiIgY=
c/8fAGr8g+IOKJgAAAAASUVORK5CYII=3D\n",
      "text/plain": [
       "<figure size=3D"" 1080x720=3D"" with=3D"" 1=3D"" axes=3D"">"
      ]
     },
     "metadata": {
      "needs_background": "light"
     },
     "output_type": "display_data"
    }
   ],
   "source": [
    "new_index =3D df1.average_price.sort_values(ascending=3DFalse).index.v=
alues\n",
    "sorted_data =3D df1.reindex(new_index)\n",
    "\n",
    "plt.figure(figsize=3D(15,10))\n",
    "plt.bar(sorted_data.region_list,sorted_data.average_price)\n",
    "# ax=3Dsns.barplot(x=3Dsorted_data.region_list,y=3Dsorted_data.average=
_price,palette=3D'rocket')\n",
    "\n",
    "plt.xticks(rotation=3D90)\n",
    "plt.xlabel('Region')\n",
    "plt.ylabel('Average Price')\n",
    "plt.title('Average Price of Avocado According to Region')"
   ]
  },
  {
   "cell_type": "code",
   "execution_count": 25,
   "metadata": {},
   "outputs": [
    {
     "data": {
      "text/html": [
       "<div>\n",
       "\n",
       "\n",
       "  \n",
       "    \n",
       "      \n",
       "      \n",
       "      \n",
       "    \n",
       "  \n",
       "  \n",
       "    \n",
       "      \n",
       "      \n",
       "      \n",
       "    \n",
       "    \n",
       "      \n",
       "      \n",
       "      \n",
       "    \n",
       "    \n",
       "      \n",
       "      \n",
       "      \n",
       "    \n",
       "    \n",
       "      \n",
       "      \n",
       "      \n",
       "    \n",
       "    \n",
       "      \n",
       "      \n",
       "      \n",
       "    \n",
       "  \n",
       "<table border=3D"\&quot;1\&quot;" class=3D"\&quot;dataframe\&quot;"=
><thead><tr style=3D"\&quot;text-align:" right;\"=3D""><th></th><th>price</=
th><th>volume</th></tr></thead><tbody><tr><th>0</th><td>1.22</td><td>40873.=
28</td></tr><tr><th>1</th><td>1.79</td><td>1373.95</td></tr><tr><th>2</th><=
td>1.00</td><td>435021.49</td></tr><tr><th>3</th><td>1.76</td><td>3846.69</=
td></tr><tr><th>4</th><td>1.08</td><td>788025.06</td></tr></tbody></table>\=
n",
       "</div>"
      ],
      "text/plain": [
       "   price     volume\n",
       "0   1.22   40873.28\n",
       "1   1.79    1373.95\n",
       "2   1.00  435021.49\n",
       "3   1.76    3846.69\n",
       "4   1.08  788025.06"
      ]
     },
     "execution_count": 25,
     "metadata": {},
     "output_type": "execute_result"
    }
   ],
   "source": [
    "x =3D df.average_price\n",
    "y =3D df.total_volume\n",
    "df2 =3D pd.DataFrame({'price':x,'volume':y})\n",
    "df2.head(5)"
   ]
  },
  {
   "cell_type": "code",
   "execution_count": 28,
   "metadata": {},
   "outputs": [
    {
     "data": {
      "image/png": "iVBORw0KGgoAAAANSUhEUgAAAXgAAAERCAYAAABxZrw0AAAAOXRFWHR=
Tb2Z0d2FyZQBNYXRwbG90bGliIHZlcnNpb24zLjMuNCwgaHR0cHM6Ly9tYXRwbG90bGliLm9yZy=
8QVMy6AAAACXBIWXMAAAsTAAALEwEAmpwYAAAoEUlEQVR4nO3df5TcdX3v8ed7h4nsArJB0lZWQ=
iLtDUfAZGEVbHqsQa+oiN0CirnYnlav1Hv7QxTTG25pAY9Kzk1VaKu3UrU/LrlAJHEPEDV4mliv=
lEQTNiFEiC0VAgM9xJIFSQYy2X3fP+Y7m9nZ73fmO7PznR/feT3O2ePuzne+389k8D2ffX/e3/f=
H3B0REUmfvnYPQEREkqEALyKSUgrwIiIppQAvIpJSCvAiIimlAC8iklIdF+DN7Otm9pyZPRLj2C=
+a2a7g6ydmNtGCIYqIdAXrtDp4M3sr8BLwD+5+Th3P+0Ng2N0/nNjgRES6SMfN4N39+8Dz5b8zs=
zPN7DtmttPM/p+ZnRXy1JXAHS0ZpIhIFziu3QOI6TbgY+7+L2Z2AfBl4KLSg2Z2BrAY2NKm8YmI=
dJyOD/BmdiLwq8A3zKz061dVHPZB4G53n2zl2EREOlnHB3iKaaQJd19W5ZgPAr/fmuGIiHSHjsv=
BV3L3F4Gfmtn7AaxoaelxM1sCzAcebNMQRUQ6UscFeDO7g2KwXmJmT5vZR4CrgI+Y2W5gL/AbZU=
9ZCdzpnVYOJCLSZh1XJikiIs3RcTN4ERFpjo5aZD311FN90aJF7R6GiEjX2Llz58/cfUHYYx0V4=
BctWsSOHTvaPQwRka5hZk9GPaYUjYhISinAi4iklAK8iEhKKcCLiKSUAryISEp1VBVNrxobz7F2=
8z6emchz2mA/qy5ewujwULuHJSJdTgG+xSqD+YqzFrBhZ458odgIMzeR57qNewAU5EVkTpSiaaG=
x8RzXbdxDbiKPUwzm67btnw7uJfnCJGs372vPIEUkNRTgW2jt5n2zgnlUJ6BnJvLJD0hEUk0Bvo=
VydQTt0wb7ExyJiPQC5eBbZGw8hxE9Yy/Xn82w6uIlsc+rBVoRCaMA3yJrN++LFdyH6gjSpZy+F=
mhFJIxSNC0SJ6duwAOrL4odnMNy+lqgFZESBfgWiZNTrzfvHvWhoQVaEQEF+KYbG8+xfM0WFq/e=
xPI1WxgbzwGw6uIl9Gczkc+rJ+9eEvWBoAVaEQEF+KYKq3O/buMexsZzjA4PcfNl5zI02I8B8we=
yDPZnMYp595svO7fuvHnYh0YjHxQikk5aZG2iajnx0eGh6a9mKZ1LVTQiEibRAG9mg8BXgXMoVg=
h+2N0fTPKa7dSOnHizPzREJD2STtHcCnzH3c8ClgKPJny9tlJOXEQ6SWIB3sxeDbwV+BqAux9x9=
4mkrtcJlBMXkU6S5Az+9cAB4G/NbNzMvmpmJ1QeZGZXm9kOM9tx4MCBBIeTvMqF1EYXT0VEmsHc=
49xf2cCJzUaAbcByd99uZrcCL7r7n0Y9Z2RkxHfs2JHIeERE0sjMdrr7SNhjSS6yPg087e7bg5/=
vBlYneD0pox41IpJYisbd/x14ysxKCei3Az9O6npyTLV6fBHpHUlX0fwhsM7MHgaWAZ9L+Ho9b2=
w8x7Xrd6tHjYgkWwfv7ruA0NyQNF9p5j4Zsa6iHjUivUWtClIk7E7acqrHF+ktCvApUmuGfvjIU=
eXhRXqIAnyK1JqhHzxc0GKrSA9RgE+RWi2JQYutIr1EAT5ljs/Wfku12CrSG9QuOCUq92cFIjf5=
1mKrSG/QDD4lwiponGKQL6fmZyK9QwE+JXIRaRcHNT8T6VFK0aRExizyBif1oRHpTZrBp0RUcAd=
UGinSoxTgU2KoysKpSiNFepMCfErUqoFXaaRI71GAT4nSblIZq6ybKVJppEjvUYBPkdHhIT7/ga=
XaF1ZEAFXRpE6pWka7OYmIAnyTtGKLPG3DJyL1SGzT7UZ066bbYW0C+rOZptxUVArquYn8rNYDp=
Z/nD2RxhxfyBQYHsrz08lEKU8eOrByLPihE0qPaptvKwTdBWJuAZpQmlu+tCrP7ypR+Pni4wES+=
gAfflwf3yrGE7dd6zV27uOpvHpzTWEWk8yjAN0FUCeJcSxNr7dBUj9JYos75wOPPc/3YnqZcS0Q=
6gwJ8E0SVIM61NLGZteulsVQ75x3bn2ra9USk/RTgmyDsJqNmlCae3J+d0/PDxlLtQ6dauwMR6T=
4K8E1QusmomV0bx8ZzHDpydE7jChtLtQ+dqJukRKQ7JVomaWZPAD8HJoGjUSu9aTA6PNTUSpS1m=
/dRmGx8Rj002M8Dqy+a9fsdTz4f+ZyVF5ze8PVEpPO0og5+hbv/rAXXSZW55N+j0kNj4znWbdsf=
+pyBbB+fGT234WuKSOfRjU4d6uT+LBP5Qt3PG6pS1752877QLfwA8oUpQDXyImmSdIB34H4zc+A=
r7n5b5QFmdjVwNcDChQsTHk53mEv+PSwtU1Ltr4LBgeysG7ZyE3mu21gsnVSQF+k+SS+yLnf384=
B3A79vZm+tPMDdb3P3EXcfWbBgQcLD6Q433bu3ofx7rUXSahU0L718lBvv2ZvIDVsi0h6JBnh3f=
yb43+eAbwJvTvJ6aTA2nuPg4fpTM1B7kbRaz/jClEemhNRLXqQ7JRbgzewEMzup9D3wTuCRpK6X=
FnFny/3Zvlkz9q2PHai6NV+pnLNe6iUv0p2SnMH/IvADM9sN/BDY5O7fSfB6qRB3tnz5+a+b1fu=
9lDOvFeSrbe9XSb3kRbpXYous7v5vwNKkzp9Wpw32TzcXq2brYwfY+tiBqjnzqGqYVRcvmdX9Mk=
zGrCkdMUWkPXQna4eJO1vOTeQjPwhKM/nyjpHlM/vKO2+jTLkruIt0MQX4DlKqQZ8rg5rVMKPDQ=
zyw+iJ+uuaSyJSNcu8i3U03OrVAnJuHwjYNaVRUgWVUfn/FWQtYt23/jOcp9y7S/RTgExb35qFm=
9n6PEjYjHxvPsWFnbtZOUZef39zeOiLSekrRJCzubk9J15pHzcjDxucUF3FFpLspwCcs7m5PSeS=
7M2Y12xcntRuViLSfUjQJiyp7rAzoK85awO0RnR4bNenOE2suacr4RKT7aAafsDi7PV0/tqfpwb=
2k2k1PcccnIt1JM/iEldIiUVU01Xq0N0P5gm61ah61CBZJH/MO2odzZGTEd+zY0e5htNTyNVti3=
bk6FxkzVl5wOht25mYsqPZnM7pTVaTLmdnOqN3ylKJps1YsZk66s27bfrUCFukxCvBt1qrFzHpv=
fhKR7qccfJvFbfyVlMoPmLHxHDfdu3dGT/rB/iw3vu9spXJEuowCfAvVWuTMTeTJmDHpzvyBLO4=
0tC9rXJXVMmPjOVbdvXvWblIT+QKrvrEb0NZ9It1EAb5FarUsiAqcy266v6lBfmiwP7JaZu3mfZ=
FbBRamnLWb9ynAi3QRBfgWqdayICxojo3nuPGevU0P7o1uyh3ncRHpLFpkbZF6WgKUZvvNTs+sO=
Kv6pua1Fnx1d6tId1GAb5Go4Bj2+zidJecPZOsew4aduap3tq66eAnZTPgWINk+092tIl1GAb5F=
wloCGMVc/LKb7mf40/ezePWmWDc+zR/IcsOlZ886Xy216t5Hh4dYe8XSWR8eg/1Z1r5/qfLvIl1=
GOfgWqayWMY7VppenYiofC3PJG18763xx5SbyjI3nIoN1tQVfEekualXQBnFm6dWCfOViaSPtDk=
p/BTQazOPsUiUiyZtTqwIz+0Uz+5qZfTv4+Q1m9pFmD7KXxKlGqfaxWxnMG6luOXi4MGMj7nqUF=
oGjNvUWkc4QJwf/d8Bm4LTg558A18S9gJllzGzczO6re3QpFacaZf5AloyFL3gaM9sAN1rdEpWT=
HxvPsXzNluk1gcrAHXeXKhFprzgB/lR3Xw9MAbj7UaCe++o/DjzawNhSq1q1SskL+QKTEekzhxn=
BdNXFS8j0VT9flMrZf5zZuXaBEukOcRZZD5nZawiyBmZ2IfBCnJOb2euAS4DPAp9sdJCpVGPpY6=
rG47mJPMvXbJnOgU/WekKVYSxavYmhII8e54asqF2gTu6vv3RTRJJTc5HVzM4D/hI4B3gEWABc4=
e4P1zy52d3AzcBJwKfc/b0hx1wNXA2wcOHC85988sl6X0PXaUUP+Eb0ZzNV6+9LbQ5O7s/y4suF=
WR9C2Yyx9op45ZRapBVpjmqLrDVn8O7+kJn9OrCEYvp3n7vXvMXSzN4LPOfuO83sbVXOfxtwGxS=
raGqdNw06NZVR6+aq0odS1B22hUnn2vW1m5LV6ssjIs0Rp4omA7wHeDvwTuAPzSxOumU58D4zew=
K4E7jIzG6fw1hTI823/E+616yo0SKtSGvEWWS9F/gd4DUUUy2lr6rc/Tp3f527LwI+CGxx9w81P=
tT0WHHWAhpbEu0O+cIk167fHVmFo0VakdaIs8j6Ond/Y+Ij6RFj4zk27MzVWmPteqUKoLD0S9Qi=
bZr/shFphzgz+G+b2TvnchF3/17YAmsvitNIrGRosJ8PXbgw4RElrzL9EtaXp3LzERGZuzgBfhv=
wTTPLm9mLZvZzM3sx6YGlVdw0RKkR2dbHDjT1+gZ86MKFDXWjnIvy1z06PMTNl53L0GA/RvGD7O=
bLztUCq0iTxUnRfB54C7DHO6lxTZeKSk9UKv1DN7uc0oF12/bTF3GXbFIq0y9qaiaSvDgz+H8BH=
lFwb46w9ESrOUTeJZsEpV9E2iPODP5Z4HtBs7FXSr909y8kNqoUK81am70dX6fJmDHlrpuYRNoo=
ToD/afA1L/iSORodHmLt5n2pDfD92cyMnHqpeZnuWhVprTh3st7UioH0mm6r+V5+5in88+PPR5Z=
3ZsyYdJ/uaVMe3HXXqkh71AzwZraVkNZY7n5RyOESU9zF1iTV2jmq5IR5GdZ99C0sWr0p8jyP3/=
ye6Z/LZ+x9QeAvV9m8TESSESdF86my748HLgeOJjOc3rHq4iUzZrZxZfuMQoOdI2FmbjzuB8yhI=
5OMjecYinGDUuWMPWox95mJPNeP7eGO7U8x6U7GjJUXnM5nRs9t4FWJSJg4KZqdFb96wMz+KaHx=
9IzKPVVLKQ4zqFbgcuLxxzEw77iGZ/+T7txy5TJGh4fq6mp57frdxfExc9ZfWSET90augXkZbt+=
2f8a4Sj8ryIs0R5x2waeU/dgHnA/8hbs3ve6tV/ZkrSYqDVJiwE/XXFLzuFrmD2S55I2vZd22/X=
W3TSgF+cp8O8Di1Ztqnq8/m+HlwmTocRmzGekeEaluTu2CgZ0U//9sFFMzPwW0J2ub9JmxePWm6=
Rl/ow4eLsyYQdejFNzLN/4uiUr9VJZNXnPXrtBzT7qzePUmVduINEGcFM3iVgxEiuYPZDl4OLp8=
shTUW3mjUpioKqCwtYXKskk4lvIJU75VIKjaRqRRkXeymtll1b5aOchecsOlZ7d7CLFEdX6M22d=
m5QWn17yGesSLzE21GfylVR5zYGOTxyIUA2RU+qLVsn3GlW8+nQ07c7Nm5KWF1ait92rNuksLqa=
Uqmijddr+ASCeJDPDu/rutHIgcUytNk4TyTbefmcgzOJDFvdiY7OT+LMdn+5g4XJgO4gDLbrp/x=
t24uYk8136j9pZ9JZ8ZPXc60EdV9KhHvEjj4mzZd7KZfcHMdgRfnzezk1sxuF7VjvT6z156hWvu=
2kVuIs/x2T5eeuUoE/kCTnEP1pcLU3zxymXTC6vXbdwT2mphcsr5k2/uqfv66hEv0nxxukl+Hfg=
58IHg60Xgb5McVK97IaEeNdm+6BbBrxydmv4+X5iiMBl+9ynUrnU/dKS+m7dAPeJFkhCnTPJMd7=
+87OebzGxXQuMRkmljMFSjPDGO3ESesfFcYnlx9YgXaa44M/i8mf1a6QczWw5o5StBSaQlHlh9U=
VOC53Ub9zBYYzeoNG8oLtJN4gT4jwFfMrMnzOwJ4K+A30t0VD1udHiIgWyctyaeTNnuTSfMm9tm=
I/nCZM01gqtSsI+sSBpEpmjM7MfAOuBOd19qZq8GcHftx9oC847LcLgwVfvAGMrLELOZPqD+HHm=
5F/KFyEqfgWyfesmIdIhq08SVwInA/Wa2Hfhw8LO0QLMXWsfGc007b58ZBw8XZqVi+rMZPnfZG+=
d8fhFpjsgA7+673f06dz8T+DhwBrDNzLaY2UdrndjMjjezH5rZbjPba2baOKQOza7/vm7jHsbGc=
5zcH54/Hxrs55Yrl8U6V+kvglKDotLzo6peSv3hF6/exPI1W6Y/bEQkWbESve6+zd0/Afw2MJ9i=
Hr6WV4CL3H0psAx4l5ld2OhAe02zN+fOFya58Z69HDoyu5V/ts+mb3KqpjyXX1LeeCwquF+3cQ+=
5ifyMHjMK8iLJi3Oj05uCG52eBG4CbgNqlmN40UvBj9ngq70dsrrI6PAQl5/f3JLBiXxhVn07QG=
HKp/vSR7nlymVMVdm8I0pYzbx6zIi0RrVF1s8BVwIHgTuB5e7+dD0nN7MMxXbDvwx8yd23hxxzN=
XA1wMKFqr4ot/WxAy27Vq26+xvv2Ru6/R5UTydFBX/1mBFJXrUbnV4B3u3uP2n05O4+CSwzs0Hg=
m2Z2jrs/UnHMbRT/KmBkZKQnZ/jlDbtKPWBeCNoENNNcetyEtSWA2u0Eom7aOm2wP7JRmYg0R7V=
F1pvmEtwrzjUBfA94VzPOlyaVOeqDhwvTPWCaaf5AlhsuPbupef2MWc12AlE9ZlactUC5eZGENe=
9umgpmtiCYuWNm/cA7gMeSul63iruH6Vxk+4wbLj17Rr+XZphyrznjjuoxs/WxA8rNiyQsTi+aR=
r0W+PsgD98HrHf3+xK8XldKOhc92J/lxvedPR2IS/1exsZzfOKuXaF/KfQZTPmx55sRmtpxim1+=
a6VWwnrMfCKiJ45y8yLNU22R9bxqT3T3h2o8/jAw3OC4ekYSjcXg2ObcUUaHh9jx5POhm25Plf3=
ilaNTXH7+0KxNP0oa3VqvWm5eRJqjWorm81W+/jz5ofWGRuvdq3T+BeIFys+MnssXr1w2nT4Jq3=
PPFybZ+tiBqqmdRlIr6v8ukrxqOzqtaOVAelVp1luqJjGbOYMO05/NcPn5Q9y+bX/kMXEDZXn6Z=
PHqTaHHPDORnz5u8epNoWmduKmVyoqhVx3Xxwv5Qs0qGlXciNQvVg7ezM4B3gAcX/qdu/9DUoPq=
NeVBtlRVU23htVS5snHn06ENyU6Yl2ko+MVJm8wltVL52g4eLtCfzfDFK5dVHe/1Y3tmpJIaTQu=
J9Jo4d7LeAPxl8LUC+F/A+xIeV88qVZ2EpUugWIVSCmqfu+yNZDOzj/vN8xoLenHSJnNJrTRyV+=
vYeC50nUAVNyK1xSmTvAJ4O/DvwUbcS4FXJTqqHjc6PMTnP7C0ZiAdHR7iyjedPqur44aduYbqy=
eNsmzeXrfUauat17eZ9kfcEqOJGpLo4KZq8u0+Z2dGgJ/xzwOsTHlfPq8zNR+Wdtz52IHJ220j6=
Is62eY1urddIeqdaEFfFjUh1cWbwO4Iblv6GYl+Zh4AfJjkoKRodHmLVxUumA+O163ezqKLlbqt=
6vTSj5W8j6Z1qQXzRaxTgRaqpOYN39/8efPvXZvYd4NVBjbskrHJRstToq3yRMal68spql5dePk=
phavb1SzdNxalwiftXSblVFy+JvCHrnx9/nuvH9rD1sQOqrhEJYV5jg00z+0d3f3ut3zXDyMiI7=
9ixo9mn7VrL12ypehPUUBDQKqtu+rOZ2HnxMHEqeZK8fqVFEeWbULyhK+y/4FLvHQV7STsz2+nu=
I2GPVbuT9XhgADjVzOZzbPOeVwOnNX2UMkutNEupPh3qmxXXErc/zjMT+cjKmGvX7waaU8Y4VOV=
u36jpycHDBVbd3bwxiHSjaima3wOuoRjMy9sSvAh8KcExSaBWG4NSGqbRRc8ocfP3pw32Rx476d=
60WvVqaZpqCpPe8GKzSBpUaxd8q7svBj7l7ovLvpa6e5wt+2SOqrUxSPK2/jj5+9L1qx3brFr10=
eEhrrpw4axy0BrdGgCVUkpvi1NF8xUz+yMzuzv4+gMzC9+5WZqqsr1v6eanemrPGxH2wZLNWLGz=
ZMX1a/XSaVaAreybMzTYz1UXLqzZx0ellNLL4tTBf5nifqpfDn7+LeB/A/81qUHJMc1Ov1RTXg1=
zcn+W47N9TByu3iem9Ltr1++uezu/eoX9W4yccQo33rM3dMepbMbUvEx6WrVF1uPc/SjwJndfWv=
bQFjPbnfzQpFKSDbcqK2cm8vH6xMCxIB9WTVMZYJv9Gsr725cHelXRiFSfwf8QOA+YNLMz3f1xA=
DN7PZDsFkQyS2UAbnbDrWp9YuKcP041T5KvoZV/6Yh0i2oBvrSG9Slgq5n9W/DzIuB3kxyUzDbX=
AFxLVK48N5Fn+ZotsWbctYJs0q9BRGaqFuAXmNkng++/AmSAQxRbBg8DWxMem5RJuiVBVEmmwfT=
v5zrjblVbBREpqlZFkwFOBE6i+EFgwc/HBb+TFoparGzWImZYNUzYXaJzKX1M+jWIyEzVZvDPuv=
unWzYSqSqqJUCzqkTCcuhRN1k1OuNecdaCWb3dtU2fSHLi5OClAyTRkiDsGuXni+qF08iMe2w8x=
4aduRnB3YDLz9fiqEhSqgX4pjcTk7lpdaVIM/9qCFtgdYr97EUkGdVaFTw/lxOb2elmttXMHjWz=
vWb28bmcT1pvLrs3VdICq0jrxdp0u0FHgWvd/SEzOwnYaWbfdfcfJ3hNabJm/dWQVN96EYkWpxd=
NQ9z9WXd/KPj+58CjgJKtPWoum3WLSGOSnMFPM7NFFGvnt4c8djVwNcDChQtbMRxpg1YsEovITD=
V3dJrzBcxOBP4J+Ky7b6x2rHZ0EhGpT7UdnRJL0QQXzgIbgHW1gruIiDRXYgHezAz4GvCou38hq=
euIiEi4JGfwyyn2jr/IzHYFX+9J8HoiIlImsUVWd/8BuhtWRKRtEs3Bi4hI+yjAi4iklAK8iEhK=
KcCLiKSUAryISEopwIuIpJQCvIhISinAi4iklAK8iEhKKcCLiKSUAryISEopwIuIpJQCvIhISin=
Ai4iklAK8iEhKKcCLiKSUAryISEopwIuIpFRiW/alxdh4jpvu3cvBwwUABvuz3Pi+sxkdHppxzN=
rN+3hmIs9pg/2sunjJjMcrzxf3WBGRuVCAr2JsPMequ3dTmPTp303kC6z6xm4ARoeHGBvPcd3GP=
eQLkwDkJvJct3HP9PHlwXzFWQvYsDMXeqyCvIg0m7l77aNaZGRkxHfs2NHuYUxbvmYLuYl86GND=
g/08sPqiyGPmD2R5uTA1HcyrKZ1LRKReZrbT3UfCHtMMvoqo4F56bPHqTUR9PJZSOnO9TjXXj+3=
hju1PMelOxoyVF5zOZ0bPbehcIpI+iQV4M/s68F7gOXc/J6nrJGVsPFfzmGb+7fP66zYxVXbCoR=
r5+evH9nD7tv3TP0+6c/u2/dy+bX/N54pIb0iyiubvgHcleP5Erd28r+HnGpCt8192quLTopSfj=
/qguWP7U5HnqvVcEekNic3g3f37ZrYoqfMnobzCpd7ZuXFsRu9AYWru48kXJlm7ed/0TLyyoqfW=
c69dv3v6Z1XuiPSeRBdZgwB/X7UUjZldDVwNsHDhwvOffPLJxMZTTWU1TKcp/wCpR6bPcPcZfyF=
kM8baK5YqyIukQLVF1rYH+HLtrKKpVjGTRifMyzA4MI9nJvKc3J/FDCYOF0Jn+HHuBRCR9lAVTQ=
zP9FBwBzh0ZJJDR4qveSJ/LOVTWZsfdS/AJ9fvmv5Z6R+RzqQAHzhtsL+nZvDV5AuTfOKuXQDcd=
O/eGcG9ZMrhf2x4mD4z3bgl0qESq6IxszuAB4ElZva0mX0kqWs1w6qLl9CfzbR7GB3DgWvu2lV1=
QfeVo7Nv5MoXJrnp3r0Jj05E4kiyimZlUudOQmnGWZ5u0Iy+MQcPF7jqbx7kif/IK3Uj0kZqVVD=
F8Kfvr+uOVKlOi7MizadF1phKdfC5iTwZMyY76MMvDSbyBVbdfaxRm4gkSzP4QKfXwafNCfMyZD=
N9vJA/VpoJqsgRqVfb6uDrpTp4qTTXtI7670vaKUUTQ6/VwXeLiXyBa+7axR/fvZsjQblm+V298=
wey3HDp2TPaOZQC+uBAlpdePkohuI1XZZzSa3omwNeayalqprMdKavFL/+b8+DhY3l9YEaaLWyB=
PF+Y5MZ7imWcmtlL2vVEiiYsv96fzXD5+UNsfezA9O36h44cDb2pRzrf0GA/EL+3frbPpmf2UPz=
v4ebLzlWQl65TLUXTE5tur928L/SGnHXb9pMLOkdO5AvgMFBvn1/pCM9M5Ov6C6xQ0Z+51LlTJE=
16IppF5dcr5+qFKWf+Ca/iliuXMTTYjwEZs8THJ3M3MG/udyHnJvIsX7NFffQlNXoiwJ8W/PkeR=
24izzVBH5YvXrmMz39gqVoYdIFDR5pT3qrNUiRNeiLAh/WZqTUvLwX6T9y1i/MWnjyd45X0U7pG=
0qInAvzo8BA3X3budNplaLCfqy5cGGtm7sADjz/PwUOv8KGYz5Hup7JZSYOeKZMcHR6aVSExcsY=
p0+mYWg4Xpli3bT+/euYpPPEf9S3oSfepJ60n0ql6YgYfZXR4qK7UiwP//PjzrDhrQc0Uj3S3w0=
eOsnj1Ji26Slfr6QAP9feBd+CO7U81tD+qdI+Dhws4xbWYT9y1i+vH9rR7SCJ1S02KpvJO1RVnL=
eC+3c9Ob0c3kO3DzEKrLX7lF07gZy8did0aWF0me4sDt2/bz7rt+3EHM+g/ro98YUp3wUpHS0WA=
r7xTNTeR5/Zt+2ccc7gwFfn8f3nuUKLjk3Qofa67H/vvqVp/GzU6k3ZLRYom7E5VkVYJK6ssTTp=
Kd0qrvl7aIRW9aBav3qScuLTdYH92OiUYxYzpNE/p/3qVHTFF6pH6dsHqBCmdoFZwh5lpnpKDh4=
stkb+xY7/2sZWmSsUMXrsxSVqdMC+Du0/n/EsboMCxdscn92cxg4nDBX0w9KCe2NGpfD9VETlmX=
sZm9NOvJdsHR6eY9WFx/dge7tj+FJPuZMxYecHpjJxxCjfes3f6rxelm1qvbQHezN4F3ApkgK+6=
+5pqxzcS4CsrFZ4/9Ar5KhUzIiL1yPZBeUgJ20YyrGIKam8q04xKq7YEeDPLAD8B/jPwNPAjYKW=
7/zjqOfUGeKVmRKQdsn3G2vcvZXR4KDQOZfsMjBkbCFVuKhO1EVG9G8+0a8OPNwP/6u7/5u5HgD=
uB32jmBVQeKSLtUJjy6dLYsDhUmPJZu8NVltNGbUTUzE6mSQb4IeCpsp+fDn43g5ldbWY7zGzHg=
QMH6rqAOv6JSLuU4k89caj82KjnNTOuJRngw/pxzcoHuftt7j7i7iMLFiyo6wLq+Cci7VKKP/XE=
ofJjo57XzLiWZIB/Gji97OfXAc808wL1NgoTEWmGbJ9NL6SGxaFsn5HNzJzj9mcz08+Jel7lMXO=
VZID/EfArZrbYzOYBHwTuaeYFwjby+NCFC5k/kA09fiDbxy1XLuNDFy5s5jBEJMWyFVFysD87vc=
AK4XFo7fuXsvaKpTN+V7l4Gva8ehdYa0m6TPI9wC0UyyS/7u6frXb8XOrgRUR6UdtaFbj7t4BvJ=
XkNEREJl4pukiIiMpsCvIhISinAi4iklAK8iEhKdVQ3STM7ADzZ5NOeCvysyefsBGl9XZDe16bX=
1V265XWd4e6hd4l2VIBPgpntiCoh6mZpfV2Q3tem19Vd0vC6lKIREUkpBXgRkZTqhQB/W7sHkJC=
0vi5I72vT6+ouXf+6Up+DFxHpVb0wgxcR6UkK8CIiKZWaAG9m7zKzfWb2r2a2OuTxt5nZC2a2K/=
j6s3aMs15m9nUze87MHol43MzsL4LX/bCZndfqMTYixuvq1vfrdDPbamaPmtleM/t4yDFd957Ff=
F1d956Z2fFm9kMz2x28rptCjum692uau3f9F8V2xI8DrwfmAbuBN1Qc8zbgvnaPtYHX9lbgPOCR=
iMffA3yb4g5aFwLb2z3mJr2ubn2/XgucF3x/EsWN5yv/W+y69yzm6+q69yx4D04Mvs8C24ELu/3=
9Kn2lZQaf+Abf7eLu3weer3LIbwD/4EXbgEEze21rRte4GK+rK7n7s+7+UPD9z4FHmb0Xcde9Zz=
FfV9cJ3oOXgh+zwVdl5UnXvV8laQnwsTb4Bt4S/Cn2bTM7uzVDS1zc196Nuvr9MrNFwDDFWWG5r=
n7Pqrwu6ML3zMwyZrYLeA74rrun5v1KdMOPFoqzwfdDFHs2vBTsNDUG/ErSA2uBWJubd6Gufr/M=
7ERgA3CNu79Y+XDIU7riPavxurryPXP3SWCZmQ0C3zSzc9y9fG2oa9+vtMzga27w7e4vlv4U8+J=
OU1kzO7V1Q0xM4pubt0M3v19mlqUYBNe5+8aQQ7ryPav1urr5PQNw9wnge8C7Kh7qyvcL0hPga2=
7wbWa/ZGYWfP9miq/9P1o+0ua7B/jtYKX/QuAFd3+23YOaq259v4Ixfw141N2/EHFY171ncV5XN=
75nZrYgmLljZv3AO4DHKg7ruverJBUpGnc/amZ/AGzm2Abfe83sY8Hjfw1cAfw3MzsK5IEPerBE=
3snM7A6K1QmnmtnTwA0UF4JKr+tbFFf5/xU4DPxue0ZanxivqyvfL2A58FvAniCvC/A/gYXQ1e9=
ZnNfVje/Za4G/N7MMxQ+k9e5+X0Xs6Mb3C1CrAhGR1EpLikZERCoowIuIpJQCvIhISinAi4iklA=
K8iEhKKcBLVzCz3zQzN7Oz2j2WWszsCTPbE9yyf7+Z/VLEcd8q1WCLJEEBXrrFSuAHFG9im7Og7=
jlJK9x9KbCDYr14+bXNzPrc/T3B3ZMiiVCAl44X9D9ZDnyEIMCb2bvNbH3ZMW8zs3uD799pZg+a=
2UNm9o3g+aWZ9Z+Z2Q+A95vZR83sR8FMe4OZDQTHnWlm24LHPm1mL5VdZ1Xw+4ctpHd4iO8Dv2x=
mi6zYS/3LFHu2nB6M59TgvL8dnHO3mf2f4HcLgnH9KPhaPvd/TeklCvDSDUaB77j7T4Dnrbjhwn=
eBC83shOCYK4G7goB5PfAOdz+P4gz6k2Xnetndf83d7wQ2uvubgpn2oxQ/QABuBW519zdR1nPEz=
N5JsXnWm4FlwPlm9tYaY38vsCf4fgnFtrPD7v5k2XnPBv4EuCgYS2kzjVuBLwbjuBz4aq1/KJFy=
qWhVIKm3Ergl+P5OYKW7P2Rm3wEuNbO7gUuAPwZ+HXgD8EDQFmUe8GDZue4q+/4cM/sMMAicSLH=
VBcBbKH6oAPxf4M+D798ZfI0HP59IMeB/P2TMW81sEniY4gfOIPBk0E+80kXA3e7+MwB3L/XJfw=
fwhuB1ALzazE4K+rGL1KQALx3NzF5DMQCeY2ZOsdeQm9kfUwzWv09x45AfufvPg2ZX33X3lRGnP=
FT2/d8Bo+6+28x+h2JvnKrDAW5296/EGPqKUsAOXsdgxbUrzxvWM6QPeIu752NcT2QWpWik011B=
Ma1xhrsvcvfTgZ8Cv0axtet5wEc5NjPfBiw3s18GMLMBM/tPEec+CXjWim1wryr7/TaKKRGYuai=
7GfhwWU5/yMx+Ya4vEPhH4APBhxlmdkrw+/uBPygdZGbLmnAt6SEK8NLpVgLfrPjdBuC/BBs13A=
e8O/hf3P0A8DvAHWb2MMVgHVVa+acUdyX6LjNbxF4DfNLMfkix2+ALwbnvp5iyedDM9gB3U/yQm=
BN33wt8FvgnM9sNlNrx/hEwEiy+/hj42FyvJb1F3SRFKgTVNHl3dzP7IMWcfyr2+JXeohy8yGzn=
A38V5PMngA+3dzgijdEMXkQkpZSDFxFJKQV4EZGUUoAXEUkpBXgRkZRSgBcRSan/D/1bMNgZ1N8=
TAAAAAElFTkSuQmCC\n",
      "text/plain": [
       "<figure size=3D"" 432x288=3D"" with=3D"" 1=3D"" axes=3D"">"
      ]
     },
     "metadata": {
      "needs_background": "light"
     },
     "output_type": "display_data"
    }
   ],
   "source": [
    "plt.scatter(x,y)\n",
    "plt.xlabel('Average Price')\n",
    "plt.ylabel('Total Volume')\n",
    "plt.show()"
   ]
  },
  {
   "cell_type": "code",
   "execution_count": null,
   "metadata": {},
   "outputs": [],
   "source": []
  }
 ],
 "metadata": {
  "kernelspec": {
   "display_name": "Python 3",
   "language": "python",
   "name": "python3"
  },
  "language_info": {
   "codemirror_mode": {
    "name": "ipython",
    "version": 3
   },
   "file_extension": ".py",
   "mimetype": "text/x-python",
   "name": "python",
   "nbconvert_exporter": "python",
   "pygments_lexer": "ipython3",
   "version": "3.8.8"
  }
 },
 "nbformat": 4,
 "nbformat_minor": 2
}
</figure></figure></class></body></html>
------MultipartBoundary--SxoDNYtLqeTWlrJK55qV04GeraawzLcYPbHwqh1BcZ----
Content-Type: text/css
Content-Transfer-Encoding: quoted-printable
Content-Location: cid:css-8b9a60fd-13a7-452e-8a63-e437f3f9c91c@mhtml.blink

@charset "utf-8";
=0A
------MultipartBoundary--SxoDNYtLqeTWlrJK55qV04GeraawzLcYPbHwqh1BcZ----
Content-Type: text/css
Content-Transfer-Encoding: quoted-printable
Content-Location: cid:css-acfac7e9-f219-49a4-a39a-5a5d62ea3307@mhtml.blink

@charset "utf-8";
=0A
------MultipartBoundary--SxoDNYtLqeTWlrJK55qV04GeraawzLcYPbHwqh1BcZ----
Content-Type: text/css
Content-Transfer-Encoding: quoted-printable
Content-Location: cid:css-1a3d1fb0-938e-4bdc-ba51-53088b294b3b@mhtml.blink

@charset "utf-8";
=0A
------MultipartBoundary--SxoDNYtLqeTWlrJK55qV04GeraawzLcYPbHwqh1BcZ----
Content-Type: text/css
Content-Transfer-Encoding: quoted-printable
Content-Location: cid:css-21acee7a-a45a-451e-8e4c-6bb005a1d42b@mhtml.blink

@charset "utf-8";
=0A
------MultipartBoundary--SxoDNYtLqeTWlrJK55qV04GeraawzLcYPbHwqh1BcZ----
Content-Type: text/css
Content-Transfer-Encoding: quoted-printable
Content-Location: cid:css-b01ac0f5-ad5f-4e90-84c6-f306e375e318@mhtml.blink

@charset "utf-8";
=0A
------MultipartBoundary--SxoDNYtLqeTWlrJK55qV04GeraawzLcYPbHwqh1BcZ------
